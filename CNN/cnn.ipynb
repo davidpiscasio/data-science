{
 "cells": [
  {
   "cell_type": "markdown",
   "metadata": {},
   "source": [
    "# Convolutional Neural Network (CNN)\n",
    "In this notebook, we build a multilayer perceptron for digit recognition trained on the MNIST dataset. We used [Deep-Learning-Experiments](https://github.com/roatienza/Deep-Learning-Experiments/blob/master/versions/2022/mlp/python/mlp_pytorch_demo.ipynb) and [In Depth Explanation | Convolutional Neural Networks | From Scratch](https://www.youtube.com/watch?v=jDe5BAsT2-Y) as reference."
   ]
  },
  {
   "cell_type": "code",
   "execution_count": 1,
   "metadata": {},
   "outputs": [
    {
     "name": "stderr",
     "output_type": "stream",
     "text": [
      "c:\\Users\\Dave\\AppData\\Local\\Programs\\Python\\Python310\\lib\\site-packages\\torchaudio\\backend\\utils.py:74: UserWarning: No audio backend is available.\n",
      "  warnings.warn(\"No audio backend is available.\")\n"
     ]
    }
   ],
   "source": [
    "# Import necessary libraries\n",
    "import os\n",
    "import torch\n",
    "from torch import nn\n",
    "import torchvision\n",
    "import pytorch_lightning as pl\n",
    "from pytorch_lightning.callbacks import ModelCheckpoint\n",
    "from torchmetrics import Accuracy\n",
    "from torch.optim import SGD, Adam\n",
    "from torch.optim.lr_scheduler import CosineAnnealingLR\n",
    "from argparse import ArgumentParser\n",
    "from PIL import Image\n",
    "from matplotlib import pyplot as plt"
   ]
  },
  {
   "cell_type": "markdown",
   "metadata": {},
   "source": [
    "We create a simple 2-layer convolutional neural network for digit recognition. We use torch.nn.Module as superclass to remove boilerplate code. Unlike the nn.Linear used in the [MLP Notebook](https://github.com/davidpiscasio/deep-learning/blob/main/MLP/mlp.ipynb), the number of input features in nn.Conv2d corresponds to the number of channels in the input image, thus we have num_features = 1 since we are using the MNIST dataset."
   ]
  },
  {
   "cell_type": "code",
   "execution_count": 13,
   "metadata": {},
   "outputs": [],
   "source": [
    "class ConvolutionalNeuralNetwork(nn.Module):\n",
    "    def __init__(self, num_features=1, num_filters=8, num_classes=10):\n",
    "        super().__init__()\n",
    "        \n",
    "        # Build the first layer of the CNN\n",
    "        self.conv0 = nn.Conv2d(in_channels=num_features, out_channels=num_filters, kernel_size=5)\n",
    "        self.relu = nn.ReLU()\n",
    "\n",
    "        # Build the second layer of the CNN\n",
    "        self.conv1 = nn.Conv2d(in_channels=num_filters, out_channels=num_filters*4, kernel_size=3)\n",
    "        self.sigmoid = nn.Sigmoid()\n",
    "\n",
    "        # Setup Max Pooling and Fully Connected (FC) Layer\n",
    "        self.maxpool = nn.MaxPool2d(kernel_size=2, stride=2)\n",
    "        self.fc = nn.Linear(in_features=32*5*5, out_features=num_classes)\n",
    "\n",
    "    def forward(self, x):\n",
    "        # First Convolutional Layer\n",
    "        y = self.conv0(x)\n",
    "        y = self.relu(y)\n",
    "        y = self.maxpool(y)\n",
    "\n",
    "        # Second Convolutional Layer\n",
    "        y = self.conv1(y)\n",
    "        y = self.sigmoid(y)\n",
    "        y = self.maxpool(y)\n",
    "\n",
    "        # Third FC Layer\n",
    "        y = torch.flatten(y, 1)\n",
    "        y = self.fc(y)\n",
    "\n",
    "        return y"
   ]
  },
  {
   "cell_type": "markdown",
   "metadata": {},
   "source": [
    "*Note: In getting the number of in_features for the fc layer, we can determine this by extracting the output shape of each layer for a random tensor.*"
   ]
  },
  {
   "cell_type": "code",
   "execution_count": 12,
   "metadata": {},
   "outputs": [
    {
     "name": "stdout",
     "output_type": "stream",
     "text": [
      "Conv 0 shape: torch.Size([8, 24, 24])\n",
      "Maxpool 0 shape: torch.Size([8, 12, 12])\n",
      "Conv 1 shape: torch.Size([32, 10, 10])\n",
      "Maxpool 0 shape: torch.Size([32, 5, 5])\n",
      "FC in_features shape: torch.Size([800])\n",
      "Final layer shape: torch.Size([10])\n"
     ]
    }
   ],
   "source": [
    "num_features=1\n",
    "num_filters=8\n",
    "num_classes=10\n",
    "\n",
    "conv0 = nn.Conv2d(in_channels=num_features, out_channels=num_filters, kernel_size=5)\n",
    "relu = nn.ReLU()\n",
    "conv1 = nn.Conv2d(in_channels=num_filters, out_channels=num_filters*4, kernel_size=3)\n",
    "sigmoid = nn.Sigmoid()\n",
    "maxpool = nn.MaxPool2d(kernel_size=2, stride=2)\n",
    "fc = nn.Linear(in_features=32*5*5, out_features=num_classes)\n",
    "\n",
    "x = torch.randn(5,1,28,28) # Shape: B(atch) = 5, C(hannels) = 1, H(eight) = 28, W(idth) = 28\n",
    "y = relu(conv0(x))\n",
    "print(f'Conv 0 shape: {y.shape[1:]}')\n",
    "y = maxpool(y)\n",
    "print(f'Maxpool 0 shape: {y.shape[1:]}')\n",
    "y = sigmoid(conv1(y))\n",
    "print(f'Conv 1 shape: {y.shape[1:]}')\n",
    "y = maxpool(y)\n",
    "print(f'Maxpool 0 shape: {y.shape[1:]}') # The shape of the final convolutional layer's output\n",
    "y = torch.flatten(y,1)\n",
    "print(f'FC in_features shape: {y.shape[1:]}') # The shape of the flattened input to the FC layer (which is the in_features on the fc layer).\n",
    "y = fc(y)\n",
    "print(f'Final layer shape: {y.shape[1:]}')"
   ]
  },
  {
   "cell_type": "markdown",
   "metadata": {},
   "source": [
    "We now perform the necessary preparations for the dataset and training, using the PyTorch Lightning module."
   ]
  },
  {
   "cell_type": "code",
   "execution_count": 14,
   "metadata": {},
   "outputs": [],
   "source": [
    "class MNISTCNNModel(pl.LightningModule):\n",
    "    def __init__(self, lr=0.001, batch_size=64, num_workers=1, max_epochs=30, model=ConvolutionalNeuralNetwork, optim=\"adam\"):\n",
    "        # Initiate LightningModule superclass\n",
    "        super().__init__()\n",
    "        self.train_step_outputs = []\n",
    "        self.test_step_outputs = []\n",
    "\n",
    "        # Set up other parameters\n",
    "        self.save_hyperparameters()\n",
    "        self.model = model()\n",
    "\n",
    "        # Set up loss function (Mean Squared Error) and accuracy\n",
    "        self.loss = nn.MSELoss()\n",
    "        #self.loss = nn.CrossEntropyLoss()\n",
    "        self.accuracy = Accuracy(task=\"multiclass\", num_classes=10)\n",
    "        self.optim = optim \n",
    "\n",
    "    def forward(self,x):\n",
    "        return self.model(x)\n",
    "\n",
    "    def training_step(self, batch, batch_idx):\n",
    "        x, y = batch\n",
    "        # Perform one-hot encoding on y first\n",
    "        y = self.mnist_one_hot(y) # Comment if using CrossEntropyLoss()\n",
    "        y_hat = self.forward(x)\n",
    "        loss = self.loss(y_hat, y)\n",
    "        self.train_step_outputs.append({\"loss\": loss})\n",
    "        return loss\n",
    "    \n",
    "    def on_train_epoch_end(self):\n",
    "        avg_loss = torch.stack([x[\"loss\"] for x in self.train_step_outputs]).mean()\n",
    "        print(f'Train loss: {avg_loss}')\n",
    "        self.train_step_outputs.clear()\n",
    "        self.log(\"train_loss\", avg_loss, on_epoch=True)\n",
    "    \n",
    "    def test_step(self, batch, batch_idx):\n",
    "        x, y = batch\n",
    "        # Perform one-hot encoding on y first. We keep the original y for the accuracy\n",
    "        y_oh = self.mnist_one_hot(y) # Comment if using CrossEntropyLoss()\n",
    "        y_hat = self.forward(x)\n",
    "        loss = self.loss(y_hat, y_oh) # Comment if using CrossEntropyLoss()\n",
    "        #loss = self.loss(y_hat, y) # Uncomment if using CrossEntropyLoss()\n",
    "        # We get the predictions through argmax\n",
    "        y_preds = torch.argmax(y_hat, dim=1)\n",
    "        acc = self.accuracy(y, y_preds) * 100. # Comment if using CrossEntropyLoss()\n",
    "        #acc = self.accuracy(y, y_hat) * 100. # Uncomment if using CrossEntropyLoss()\n",
    "        self.test_step_outputs.append({\"y_hat\": y_hat, \"test_loss\": loss, \"test_acc\": acc})\n",
    "        return y_hat, loss, acc\n",
    "    \n",
    "    def on_test_epoch_end(self):\n",
    "        avg_loss = torch.stack([x[\"test_loss\"] for x in self.test_step_outputs]).mean()\n",
    "        avg_acc = torch.stack([x[\"test_acc\"] for x in self.test_step_outputs]).mean()\n",
    "        print(f'Test loss: {avg_loss}')\n",
    "        print(f'Test accuracy: {avg_acc}')\n",
    "        self.test_step_outputs.clear()\n",
    "        self.log(\"test_loss\", avg_loss, on_epoch=True, prog_bar=True)\n",
    "        self.log(\"test_acc\", avg_acc, on_epoch=True, prog_bar=True)\n",
    "\n",
    "    def validation_step(self, batch, batch_idx):\n",
    "       return self.test_step(batch, batch_idx)\n",
    "\n",
    "    def on_validation_epoch_end(self):\n",
    "        return self.on_test_epoch_end()\n",
    "    \n",
    "    def configure_optimizers(self):\n",
    "        if self.optim == \"adam\":\n",
    "            optimizer = Adam(self.parameters(), lr=self.hparams.lr)\n",
    "        elif self.optim == \"sgd\":\n",
    "            optimizer = SGD(self.parameters(), lr=self.hparams.lr)\n",
    "        scheduler = CosineAnnealingLR(optimizer, T_max=self.hparams.max_epochs)\n",
    "        return [optimizer], [scheduler]\n",
    "    \n",
    "    # Settings from https://nextjournal.com/gkoehler/pytorch-mnist\n",
    "    def train_dataloader(self):\n",
    "        return torch.utils.data.DataLoader(\n",
    "            torchvision.datasets.MNIST('/files/', train=True, download=True,\n",
    "                                        transform=torchvision.transforms.ToTensor()), \n",
    "                                        batch_size=self.hparams.batch_size, shuffle=True, pin_memory=True)\n",
    "    \n",
    "    def test_dataloader(self):\n",
    "        return torch.utils.data.DataLoader(\n",
    "            torchvision.datasets.MNIST('/files/', train=False, download=True,\n",
    "                                        transform=torchvision.transforms.ToTensor()), \n",
    "                                        batch_size=self.hparams.batch_size, shuffle=False, pin_memory=True)\n",
    "    \n",
    "    def val_dataloader(self):\n",
    "        return self.test_dataloader()\n",
    "    \n",
    "    def setup(self, stage=None):\n",
    "        self.train_dataloader()\n",
    "        self.test_dataloader()\n",
    "\n",
    "    # Perform MNIST-specific one-hot encoding\n",
    "    def mnist_one_hot(self, x):\n",
    "        device = 'cuda' if 'cuda' in str(x.device) else 'cpu'\n",
    "        y_oh = torch.zeros(size=(x.shape[0],10), device=device)\n",
    "        y_oh.to(device)\n",
    "        for i, y in enumerate(x):\n",
    "            y_oh[i,y] = 1\n",
    "        return y_oh.float()"
   ]
  },
  {
   "cell_type": "markdown",
   "metadata": {},
   "source": [
    "After setting up the model, the datasets, and the train/test/validation configurations, we set up the arguments."
   ]
  },
  {
   "cell_type": "code",
   "execution_count": 15,
   "metadata": {},
   "outputs": [],
   "source": [
    "def get_args():\n",
    "    parser = ArgumentParser(description=\"PyTorch Lightning MNIST Example\")\n",
    "    parser.add_argument(\"--epochs\", type=int, default=30, help=\"num epochs\")\n",
    "    parser.add_argument(\"--batch-size\", type=int, default=64, help=\"batch size\")\n",
    "    parser.add_argument(\"--lr\", type=float, default=0.001, help=\"learning rate\")\n",
    "\n",
    "    parser.add_argument(\"--num-classes\", type=int, default=10, help=\"num classes\")\n",
    "\n",
    "    parser.add_argument(\"--optim\", default=\"adam\", help=\"optimizer\")\n",
    "    # Verify device count with torch.cuda.device_count()\n",
    "    parser.add_argument(\"--devices\", default=1)\n",
    "    # Verify CUDA availability with torch.cuda.is_available())\n",
    "    parser.add_argument(\"--accelerator\", default='gpu')\n",
    "    # Recommended: num_workers = (os.cpu_count() // 2) // torch.cuda.device_count()\n",
    "    parser.add_argument(\"--num-workers\", type=int, default=4, help=\"num workers\")\n",
    "\n",
    "    parser.add_argument(\"--model\", default=ConvolutionalNeuralNetwork)\n",
    "    parser.add_argument(\"--path\", default=\"models\", help=\"Model save path\")\n",
    "    args = parser.parse_args(\"\")\n",
    "    return args"
   ]
  },
  {
   "cell_type": "markdown",
   "metadata": {},
   "source": [
    "Now, we train the CNN model with the MNIST dataset"
   ]
  },
  {
   "cell_type": "code",
   "execution_count": 17,
   "metadata": {},
   "outputs": [
    {
     "name": "stderr",
     "output_type": "stream",
     "text": [
      "GPU available: True (cuda), used: True\n",
      "TPU available: False, using: 0 TPU cores\n",
      "IPU available: False, using: 0 IPUs\n",
      "HPU available: False, using: 0 HPUs\n",
      "LOCAL_RANK: 0 - CUDA_VISIBLE_DEVICES: [0]\n",
      "\n",
      "  | Name     | Type                       | Params\n",
      "--------------------------------------------------------\n",
      "0 | model    | ConvolutionalNeuralNetwork | 10.6 K\n",
      "1 | loss     | MSELoss                    | 0     \n",
      "2 | accuracy | MulticlassAccuracy         | 0     \n",
      "--------------------------------------------------------\n",
      "10.6 K    Trainable params\n",
      "0         Non-trainable params\n",
      "10.6 K    Total params\n",
      "0.042     Total estimated model params size (MB)\n"
     ]
    },
    {
     "name": "stdout",
     "output_type": "stream",
     "text": [
      "MNISTCNNModel(\n",
      "  (model): ConvolutionalNeuralNetwork(\n",
      "    (conv0): Conv2d(1, 8, kernel_size=(5, 5), stride=(1, 1))\n",
      "    (relu): ReLU()\n",
      "    (conv1): Conv2d(8, 32, kernel_size=(3, 3), stride=(1, 1))\n",
      "    (sigmoid): Sigmoid()\n",
      "    (maxpool): MaxPool2d(kernel_size=2, stride=2, padding=0, dilation=1, ceil_mode=False)\n",
      "    (fc): Linear(in_features=800, out_features=10, bias=True)\n",
      "  )\n",
      "  (loss): MSELoss()\n",
      "  (accuracy): MulticlassAccuracy()\n",
      ")\n",
      "Sanity Checking DataLoader 0: 100%|██████████| 2/2 [00:00<00:00, 22.92it/s]Test loss: 0.16768120229244232\n",
      "Test accuracy: 7.8125\n",
      "Epoch 17:  36%|███▌      | 340/938 [00:55<01:37,  6.10it/s, v_num=1, test_loss=0.00982, test_acc=98.20]\n",
      "Test loss: 0.020152080804109573\n",
      "Test accuracy: 95.7304916381836\n",
      "Epoch 0: 100%|██████████| 938/938 [00:19<00:00, 47.12it/s, v_num=2, test_loss=0.0202, test_acc=95.70]"
     ]
    },
    {
     "name": "stderr",
     "output_type": "stream",
     "text": [
      "Epoch 0, global step 938: 'test_acc' reached 95.73049 (best 95.73049), saving model to 'C:\\\\Users\\\\Dave\\\\Documents\\\\Experiments\\\\deep-learning\\\\CNN\\\\models\\\\checkpoints\\\\mnist-cnn-best-acc.ckpt' as top 1\n"
     ]
    },
    {
     "name": "stdout",
     "output_type": "stream",
     "text": [
      "Train loss: 0.039070263504981995\n",
      "Epoch 1: 100%|██████████| 938/938 [00:17<00:00, 53.29it/s, v_num=2, test_loss=0.0202, test_acc=95.70]Test loss: 0.016158465296030045\n",
      "Test accuracy: 97.23328399658203\n",
      "Epoch 1: 100%|██████████| 938/938 [00:21<00:00, 44.53it/s, v_num=2, test_loss=0.0162, test_acc=97.20]Train loss: 0.01832578517496586\n"
     ]
    },
    {
     "name": "stderr",
     "output_type": "stream",
     "text": [
      "Epoch 1, global step 1876: 'test_acc' reached 97.23328 (best 97.23328), saving model to 'C:\\\\Users\\\\Dave\\\\Documents\\\\Experiments\\\\deep-learning\\\\CNN\\\\models\\\\checkpoints\\\\mnist-cnn-best-acc.ckpt' as top 1\n"
     ]
    },
    {
     "name": "stdout",
     "output_type": "stream",
     "text": [
      "Epoch 2: 100%|██████████| 938/938 [00:17<00:00, 53.61it/s, v_num=2, test_loss=0.0162, test_acc=97.20]Test loss: 0.014158506877720356\n",
      "Test accuracy: 97.60151672363281\n",
      "Epoch 2: 100%|██████████| 938/938 [00:20<00:00, 46.82it/s, v_num=2, test_loss=0.0142, test_acc=97.60]"
     ]
    },
    {
     "name": "stderr",
     "output_type": "stream",
     "text": [
      "Epoch 2, global step 2814: 'test_acc' reached 97.60152 (best 97.60152), saving model to 'C:\\\\Users\\\\Dave\\\\Documents\\\\Experiments\\\\deep-learning\\\\CNN\\\\models\\\\checkpoints\\\\mnist-cnn-best-acc.ckpt' as top 1\n"
     ]
    },
    {
     "name": "stdout",
     "output_type": "stream",
     "text": [
      "Train loss: 0.01542994286864996\n",
      "Epoch 3: 100%|██████████| 938/938 [00:18<00:00, 50.20it/s, v_num=2, test_loss=0.0142, test_acc=97.60]Test loss: 0.013767528347671032\n",
      "Test accuracy: 97.6811294555664\n",
      "Epoch 3: 100%|██████████| 938/938 [00:22<00:00, 42.59it/s, v_num=2, test_loss=0.0138, test_acc=97.70]Train loss: 0.014053884893655777\n"
     ]
    },
    {
     "name": "stderr",
     "output_type": "stream",
     "text": [
      "Epoch 3, global step 3752: 'test_acc' reached 97.68113 (best 97.68113), saving model to 'C:\\\\Users\\\\Dave\\\\Documents\\\\Experiments\\\\deep-learning\\\\CNN\\\\models\\\\checkpoints\\\\mnist-cnn-best-acc.ckpt' as top 1\n"
     ]
    },
    {
     "name": "stdout",
     "output_type": "stream",
     "text": [
      "Epoch 4: 100%|██████████| 938/938 [00:17<00:00, 53.18it/s, v_num=2, test_loss=0.0138, test_acc=97.70]Test loss: 0.012414338998496532\n",
      "Test accuracy: 97.90007781982422\n",
      "Epoch 4: 100%|██████████| 938/938 [00:20<00:00, 46.39it/s, v_num=2, test_loss=0.0124, test_acc=97.90]Train loss: 0.013168871402740479\n"
     ]
    },
    {
     "name": "stderr",
     "output_type": "stream",
     "text": [
      "Epoch 4, global step 4690: 'test_acc' reached 97.90008 (best 97.90008), saving model to 'C:\\\\Users\\\\Dave\\\\Documents\\\\Experiments\\\\deep-learning\\\\CNN\\\\models\\\\checkpoints\\\\mnist-cnn-best-acc.ckpt' as top 1\n"
     ]
    },
    {
     "name": "stdout",
     "output_type": "stream",
     "text": [
      "Epoch 5: 100%|██████████| 938/938 [00:18<00:00, 50.86it/s, v_num=2, test_loss=0.0124, test_acc=97.90]Test loss: 0.0119793601334095\n",
      "Test accuracy: 98.08917236328125\n",
      "Epoch 5: 100%|██████████| 938/938 [00:21<00:00, 42.84it/s, v_num=2, test_loss=0.012, test_acc=98.10] "
     ]
    },
    {
     "name": "stderr",
     "output_type": "stream",
     "text": [
      "Epoch 5, global step 5628: 'test_acc' reached 98.08917 (best 98.08917), saving model to 'C:\\\\Users\\\\Dave\\\\Documents\\\\Experiments\\\\deep-learning\\\\CNN\\\\models\\\\checkpoints\\\\mnist-cnn-best-acc.ckpt' as top 1\n"
     ]
    },
    {
     "name": "stdout",
     "output_type": "stream",
     "text": [
      "Train loss: 0.012579728849232197\n",
      "Epoch 6: 100%|██████████| 938/938 [00:18<00:00, 49.90it/s, v_num=2, test_loss=0.012, test_acc=98.10]Test loss: 0.011760151945054531\n",
      "Test accuracy: 98.21855163574219\n",
      "Epoch 6: 100%|██████████| 938/938 [00:21<00:00, 42.96it/s, v_num=2, test_loss=0.0118, test_acc=98.20]"
     ]
    },
    {
     "name": "stderr",
     "output_type": "stream",
     "text": [
      "Epoch 6, global step 6566: 'test_acc' reached 98.21855 (best 98.21855), saving model to 'C:\\\\Users\\\\Dave\\\\Documents\\\\Experiments\\\\deep-learning\\\\CNN\\\\models\\\\checkpoints\\\\mnist-cnn-best-acc.ckpt' as top 1\n"
     ]
    },
    {
     "name": "stdout",
     "output_type": "stream",
     "text": [
      "Train loss: 0.012193304486572742\n",
      "Epoch 7: 100%|██████████| 938/938 [00:19<00:00, 49.10it/s, v_num=2, test_loss=0.0118, test_acc=98.20]Test loss: 0.011530122719705105\n",
      "Test accuracy: 98.30812072753906\n",
      "Epoch 7: 100%|██████████| 938/938 [00:22<00:00, 41.05it/s, v_num=2, test_loss=0.0115, test_acc=98.30]"
     ]
    },
    {
     "name": "stderr",
     "output_type": "stream",
     "text": [
      "Epoch 7, global step 7504: 'test_acc' reached 98.30812 (best 98.30812), saving model to 'C:\\\\Users\\\\Dave\\\\Documents\\\\Experiments\\\\deep-learning\\\\CNN\\\\models\\\\checkpoints\\\\mnist-cnn-best-acc.ckpt' as top 1\n"
     ]
    },
    {
     "name": "stdout",
     "output_type": "stream",
     "text": [
      "Train loss: 0.011801959946751595\n",
      "Epoch 8: 100%|██████████| 938/938 [00:17<00:00, 52.31it/s, v_num=2, test_loss=0.0115, test_acc=98.30]Test loss: 0.011290260590612888\n",
      "Test accuracy: 98.31807708740234\n",
      "Epoch 8: 100%|██████████| 938/938 [00:20<00:00, 44.78it/s, v_num=2, test_loss=0.0113, test_acc=98.30]"
     ]
    },
    {
     "name": "stderr",
     "output_type": "stream",
     "text": [
      "Epoch 8, global step 8442: 'test_acc' reached 98.31808 (best 98.31808), saving model to 'C:\\\\Users\\\\Dave\\\\Documents\\\\Experiments\\\\deep-learning\\\\CNN\\\\models\\\\checkpoints\\\\mnist-cnn-best-acc.ckpt' as top 1\n"
     ]
    },
    {
     "name": "stdout",
     "output_type": "stream",
     "text": [
      "Train loss: 0.01148711796849966\n",
      "Epoch 9: 100%|██████████| 938/938 [00:18<00:00, 50.40it/s, v_num=2, test_loss=0.0113, test_acc=98.30]Test loss: 0.011996748857200146\n",
      "Test accuracy: 98.20860290527344\n",
      "Epoch 9: 100%|██████████| 938/938 [00:22<00:00, 42.62it/s, v_num=2, test_loss=0.012, test_acc=98.20] "
     ]
    },
    {
     "name": "stderr",
     "output_type": "stream",
     "text": [
      "Epoch 9, global step 9380: 'test_acc' was not in top 1\n"
     ]
    },
    {
     "name": "stdout",
     "output_type": "stream",
     "text": [
      "Train loss: 0.011228312738239765\n",
      "Epoch 10: 100%|██████████| 938/938 [00:18<00:00, 51.16it/s, v_num=2, test_loss=0.012, test_acc=98.20]Test loss: 0.01061130128800869\n",
      "Test accuracy: 98.38774108886719\n",
      "Epoch 10: 100%|██████████| 938/938 [00:22<00:00, 42.62it/s, v_num=2, test_loss=0.0106, test_acc=98.40]Train loss: 0.011003797873854637\n"
     ]
    },
    {
     "name": "stderr",
     "output_type": "stream",
     "text": [
      "Epoch 10, global step 10318: 'test_acc' reached 98.38774 (best 98.38774), saving model to 'C:\\\\Users\\\\Dave\\\\Documents\\\\Experiments\\\\deep-learning\\\\CNN\\\\models\\\\checkpoints\\\\mnist-cnn-best-acc.ckpt' as top 1\n"
     ]
    },
    {
     "name": "stdout",
     "output_type": "stream",
     "text": [
      "Epoch 11: 100%|██████████| 938/938 [00:18<00:00, 51.35it/s, v_num=2, test_loss=0.0106, test_acc=98.40]Test loss: 0.011097626760601997\n",
      "Test accuracy: 98.36783599853516\n",
      "Epoch 11: 100%|██████████| 938/938 [00:20<00:00, 44.76it/s, v_num=2, test_loss=0.0111, test_acc=98.40]Train loss: 0.010770335793495178\n"
     ]
    },
    {
     "name": "stderr",
     "output_type": "stream",
     "text": [
      "Epoch 11, global step 11256: 'test_acc' was not in top 1\n"
     ]
    },
    {
     "name": "stdout",
     "output_type": "stream",
     "text": [
      "Epoch 12: 100%|██████████| 938/938 [00:18<00:00, 51.19it/s, v_num=2, test_loss=0.0111, test_acc=98.40]Test loss: 0.010473229922354221\n",
      "Test accuracy: 98.5469741821289\n",
      "Epoch 12: 100%|██████████| 938/938 [00:21<00:00, 43.06it/s, v_num=2, test_loss=0.0105, test_acc=98.50]Train loss: 0.010568228550255299\n"
     ]
    },
    {
     "name": "stderr",
     "output_type": "stream",
     "text": [
      "Epoch 12, global step 12194: 'test_acc' reached 98.54697 (best 98.54697), saving model to 'C:\\\\Users\\\\Dave\\\\Documents\\\\Experiments\\\\deep-learning\\\\CNN\\\\models\\\\checkpoints\\\\mnist-cnn-best-acc.ckpt' as top 1\n"
     ]
    },
    {
     "name": "stdout",
     "output_type": "stream",
     "text": [
      "Epoch 13: 100%|██████████| 938/938 [00:17<00:00, 52.64it/s, v_num=2, test_loss=0.0105, test_acc=98.50]Test loss: 0.010486982762813568\n",
      "Test accuracy: 98.3777847290039\n",
      "Epoch 13: 100%|██████████| 938/938 [00:21<00:00, 43.74it/s, v_num=2, test_loss=0.0105, test_acc=98.40]Train loss: 0.010375550016760826\n"
     ]
    },
    {
     "name": "stderr",
     "output_type": "stream",
     "text": [
      "Epoch 13, global step 13132: 'test_acc' was not in top 1\n"
     ]
    },
    {
     "name": "stdout",
     "output_type": "stream",
     "text": [
      "Epoch 14: 100%|██████████| 938/938 [00:18<00:00, 52.08it/s, v_num=2, test_loss=0.0105, test_acc=98.40]Test loss: 0.010066232644021511\n",
      "Test accuracy: 98.4972152709961\n",
      "Epoch 14: 100%|██████████| 938/938 [00:21<00:00, 44.42it/s, v_num=2, test_loss=0.0101, test_acc=98.50]"
     ]
    },
    {
     "name": "stderr",
     "output_type": "stream",
     "text": [
      "Epoch 14, global step 14070: 'test_acc' was not in top 1\n"
     ]
    },
    {
     "name": "stdout",
     "output_type": "stream",
     "text": [
      "Train loss: 0.010233045555651188\n",
      "Epoch 15: 100%|██████████| 938/938 [00:17<00:00, 53.30it/s, v_num=2, test_loss=0.0101, test_acc=98.50]Test loss: 0.009771609678864479\n",
      "Test accuracy: 98.42755126953125\n",
      "Epoch 15: 100%|██████████| 938/938 [00:20<00:00, 45.03it/s, v_num=2, test_loss=0.00977, test_acc=98.40]Train loss: 0.010064171627163887"
     ]
    },
    {
     "name": "stderr",
     "output_type": "stream",
     "text": [
      "Epoch 15, global step 15008: 'test_acc' was not in top 1\n"
     ]
    },
    {
     "name": "stdout",
     "output_type": "stream",
     "text": [
      "\n",
      "Epoch 16: 100%|██████████| 938/938 [00:18<00:00, 51.96it/s, v_num=2, test_loss=0.00977, test_acc=98.40]Test loss: 0.009635714814066887\n",
      "Test accuracy: 98.4972152709961\n",
      "Epoch 16: 100%|██████████| 938/938 [00:21<00:00, 43.59it/s, v_num=2, test_loss=0.00964, test_acc=98.50]"
     ]
    },
    {
     "name": "stderr",
     "output_type": "stream",
     "text": [
      "Epoch 16, global step 15946: 'test_acc' was not in top 1\n"
     ]
    },
    {
     "name": "stdout",
     "output_type": "stream",
     "text": [
      "Train loss: 0.009916639886796474\n",
      "Epoch 17: 100%|██████████| 938/938 [00:17<00:00, 52.86it/s, v_num=2, test_loss=0.00964, test_acc=98.50]Test loss: 0.009781239554286003\n",
      "Test accuracy: 98.46736145019531\n",
      "Epoch 17: 100%|██████████| 938/938 [00:20<00:00, 45.75it/s, v_num=2, test_loss=0.00978, test_acc=98.50]Train loss: 0.009809404611587524\n"
     ]
    },
    {
     "name": "stderr",
     "output_type": "stream",
     "text": [
      "Epoch 17, global step 16884: 'test_acc' was not in top 1\n"
     ]
    },
    {
     "name": "stdout",
     "output_type": "stream",
     "text": [
      "Epoch 18: 100%|██████████| 938/938 [00:17<00:00, 53.23it/s, v_num=2, test_loss=0.00978, test_acc=98.50]Test loss: 0.00957544893026352\n",
      "Test accuracy: 98.46736145019531\n",
      "Epoch 18: 100%|██████████| 938/938 [00:21<00:00, 44.60it/s, v_num=2, test_loss=0.00958, test_acc=98.50]Train loss: 0.009665667079389095\n"
     ]
    },
    {
     "name": "stderr",
     "output_type": "stream",
     "text": [
      "Epoch 18, global step 17822: 'test_acc' was not in top 1\n"
     ]
    },
    {
     "name": "stdout",
     "output_type": "stream",
     "text": [
      "Epoch 19: 100%|██████████| 938/938 [00:18<00:00, 51.00it/s, v_num=2, test_loss=0.00958, test_acc=98.50]Test loss: 0.009662560187280178\n",
      "Test accuracy: 98.53702545166016\n",
      "Epoch 19: 100%|██████████| 938/938 [00:21<00:00, 43.78it/s, v_num=2, test_loss=0.00966, test_acc=98.50]Train loss: 0.009566543623805046\n"
     ]
    },
    {
     "name": "stderr",
     "output_type": "stream",
     "text": [
      "Epoch 19, global step 18760: 'test_acc' was not in top 1\n"
     ]
    },
    {
     "name": "stdout",
     "output_type": "stream",
     "text": [
      "Epoch 20: 100%|██████████| 938/938 [00:17<00:00, 52.87it/s, v_num=2, test_loss=0.00966, test_acc=98.50]Test loss: 0.009288799948990345\n",
      "Test accuracy: 98.47731018066406\n",
      "Epoch 20: 100%|██████████| 938/938 [00:21<00:00, 44.64it/s, v_num=2, test_loss=0.00929, test_acc=98.50]"
     ]
    },
    {
     "name": "stderr",
     "output_type": "stream",
     "text": [
      "Epoch 20, global step 19698: 'test_acc' was not in top 1\n"
     ]
    },
    {
     "name": "stdout",
     "output_type": "stream",
     "text": [
      "Train loss: 0.009509210474789143\n",
      "Epoch 21: 100%|██████████| 938/938 [00:17<00:00, 53.03it/s, v_num=2, test_loss=0.00929, test_acc=98.50]Test loss: 0.009281237609684467\n",
      "Test accuracy: 98.52706909179688\n",
      "Epoch 21: 100%|██████████| 938/938 [00:21<00:00, 44.60it/s, v_num=2, test_loss=0.00928, test_acc=98.50]"
     ]
    },
    {
     "name": "stderr",
     "output_type": "stream",
     "text": [
      "Epoch 21, global step 20636: 'test_acc' was not in top 1\n"
     ]
    },
    {
     "name": "stdout",
     "output_type": "stream",
     "text": [
      "Train loss: 0.009390388615429401\n",
      "Epoch 22: 100%|██████████| 938/938 [00:18<00:00, 51.99it/s, v_num=2, test_loss=0.00928, test_acc=98.50]Test loss: 0.009289386682212353\n",
      "Test accuracy: 98.46736145019531\n",
      "Epoch 22: 100%|██████████| 938/938 [00:21<00:00, 43.59it/s, v_num=2, test_loss=0.00929, test_acc=98.50]"
     ]
    },
    {
     "name": "stderr",
     "output_type": "stream",
     "text": [
      "Epoch 22, global step 21574: 'test_acc' was not in top 1\n"
     ]
    },
    {
     "name": "stdout",
     "output_type": "stream",
     "text": [
      "Train loss: 0.009313440881669521\n",
      "Epoch 23: 100%|██████████| 938/938 [00:18<00:00, 51.85it/s, v_num=2, test_loss=0.00929, test_acc=98.50]Test loss: 0.009247680194675922\n",
      "Test accuracy: 98.48725891113281\n",
      "Epoch 23: 100%|██████████| 938/938 [00:21<00:00, 43.82it/s, v_num=2, test_loss=0.00925, test_acc=98.50]Train loss: 0.009251008741557598"
     ]
    },
    {
     "name": "stderr",
     "output_type": "stream",
     "text": [
      "Epoch 23, global step 22512: 'test_acc' was not in top 1\n"
     ]
    },
    {
     "name": "stdout",
     "output_type": "stream",
     "text": [
      "\n",
      "Epoch 24: 100%|██████████| 938/938 [00:18<00:00, 52.11it/s, v_num=2, test_loss=0.00925, test_acc=98.50]Test loss: 0.00921054370701313\n",
      "Test accuracy: 98.50716400146484\n",
      "Epoch 24: 100%|██████████| 938/938 [00:21<00:00, 43.76it/s, v_num=2, test_loss=0.00921, test_acc=98.50]Train loss: 0.009185400791466236\n"
     ]
    },
    {
     "name": "stderr",
     "output_type": "stream",
     "text": [
      "Epoch 24, global step 23450: 'test_acc' was not in top 1\n"
     ]
    },
    {
     "name": "stdout",
     "output_type": "stream",
     "text": [
      "Epoch 25: 100%|██████████| 938/938 [00:18<00:00, 51.73it/s, v_num=2, test_loss=0.00921, test_acc=98.50]Test loss: 0.009141163900494576\n",
      "Test accuracy: 98.5469741821289\n",
      "Epoch 25: 100%|██████████| 938/938 [00:21<00:00, 43.44it/s, v_num=2, test_loss=0.00914, test_acc=98.50]Train loss: 0.009132733568549156\n"
     ]
    },
    {
     "name": "stderr",
     "output_type": "stream",
     "text": [
      "Epoch 25, global step 24388: 'test_acc' was not in top 1\n"
     ]
    },
    {
     "name": "stdout",
     "output_type": "stream",
     "text": [
      "Epoch 26: 100%|██████████| 938/938 [00:18<00:00, 52.04it/s, v_num=2, test_loss=0.00914, test_acc=98.50]Test loss: 0.0090885479003191\n",
      "Test accuracy: 98.50716400146484\n",
      "Epoch 26: 100%|██████████| 938/938 [00:21<00:00, 43.84it/s, v_num=2, test_loss=0.00909, test_acc=98.50]Train loss: 0.00908740796148777\n"
     ]
    },
    {
     "name": "stderr",
     "output_type": "stream",
     "text": [
      "Epoch 26, global step 25326: 'test_acc' was not in top 1\n"
     ]
    },
    {
     "name": "stdout",
     "output_type": "stream",
     "text": [
      "Epoch 27: 100%|██████████| 938/938 [00:18<00:00, 51.91it/s, v_num=2, test_loss=0.00909, test_acc=98.50]Test loss: 0.009089400060474873\n",
      "Test accuracy: 98.4972152709961\n",
      "Epoch 27: 100%|██████████| 938/938 [00:21<00:00, 43.69it/s, v_num=2, test_loss=0.00909, test_acc=98.50]Train loss: 0.00905004795640707\n"
     ]
    },
    {
     "name": "stderr",
     "output_type": "stream",
     "text": [
      "Epoch 27, global step 26264: 'test_acc' was not in top 1\n"
     ]
    },
    {
     "name": "stdout",
     "output_type": "stream",
     "text": [
      "Epoch 28: 100%|██████████| 938/938 [00:17<00:00, 53.72it/s, v_num=2, test_loss=0.00909, test_acc=98.50]Test loss: 0.009042504243552685\n",
      "Test accuracy: 98.50716400146484\n",
      "Epoch 28: 100%|██████████| 938/938 [00:20<00:00, 44.80it/s, v_num=2, test_loss=0.00904, test_acc=98.50]Train loss: 0.009023920632898808\n"
     ]
    },
    {
     "name": "stderr",
     "output_type": "stream",
     "text": [
      "Epoch 28, global step 27202: 'test_acc' was not in top 1\n"
     ]
    },
    {
     "name": "stdout",
     "output_type": "stream",
     "text": [
      "Epoch 29: 100%|██████████| 938/938 [00:18<00:00, 51.83it/s, v_num=2, test_loss=0.00904, test_acc=98.50]Test loss: 0.00903730932623148\n",
      "Test accuracy: 98.50716400146484\n",
      "Epoch 29: 100%|██████████| 938/938 [00:21<00:00, 43.52it/s, v_num=2, test_loss=0.00904, test_acc=98.50]"
     ]
    },
    {
     "name": "stderr",
     "output_type": "stream",
     "text": [
      "Epoch 29, global step 28140: 'test_acc' was not in top 1\n"
     ]
    },
    {
     "name": "stdout",
     "output_type": "stream",
     "text": [
      "Train loss: 0.0090078916400671\n"
     ]
    },
    {
     "name": "stderr",
     "output_type": "stream",
     "text": [
      "`Trainer.fit` stopped: `max_epochs=30` reached.\n"
     ]
    },
    {
     "name": "stdout",
     "output_type": "stream",
     "text": [
      "Epoch 29: 100%|██████████| 938/938 [00:21<00:00, 43.49it/s, v_num=2, test_loss=0.00904, test_acc=98.50]\n"
     ]
    },
    {
     "name": "stderr",
     "output_type": "stream",
     "text": [
      "LOCAL_RANK: 0 - CUDA_VISIBLE_DEVICES: [0]\n"
     ]
    },
    {
     "name": "stdout",
     "output_type": "stream",
     "text": [
      "Testing DataLoader 0: 100%|██████████| 157/157 [00:02<00:00, 52.90it/s]Test loss: 0.00903730932623148\n",
      "Test accuracy: 98.50716400146484\n",
      "Testing DataLoader 0: 100%|██████████| 157/157 [00:02<00:00, 52.75it/s]\n",
      "────────────────────────────────────────────────────────────────────────────────────────────────────────────────────────\n",
      "       Test metric             DataLoader 0\n",
      "────────────────────────────────────────────────────────────────────────────────────────────────────────────────────────\n",
      "        test_acc             98.50716400146484\n",
      "        test_loss           0.00903730932623148\n",
      "────────────────────────────────────────────────────────────────────────────────────────────────────────────────────────\n"
     ]
    }
   ],
   "source": [
    "if __name__ == \"__main__\":\n",
    "    args = get_args()\n",
    "    model = MNISTCNNModel(lr=args.lr, batch_size=args.batch_size,\n",
    "                           num_workers=args.num_workers,\n",
    "                           model=args.model, optim=args.optim)\n",
    "    model.setup()\n",
    "    print(model)\n",
    "\n",
    "    model_checkpoint = ModelCheckpoint(\n",
    "        dirpath=os.path.join(args.path, \"checkpoints\"),\n",
    "        filename=\"mnist-cnn-best-acc\",\n",
    "        save_top_k=1,\n",
    "        verbose=True,\n",
    "        monitor='test_acc',\n",
    "        mode='max')\n",
    "\n",
    "    trainer = pl.Trainer(accelerator=args.accelerator,\n",
    "                      devices=args.devices,\n",
    "                      max_epochs=args.epochs,\n",
    "                      callbacks=model_checkpoint)\n",
    "\n",
    "    trainer.fit(model)\n",
    "    trainer.test(model)\n",
    "\n",
    "    model = model.load_from_checkpoint(os.path.join(args.path, \"checkpoints\", \"mnist-cnn-best-acc.ckpt\"))\n",
    "    model.eval()\n",
    "    script = model.to_torchscript()\n",
    "    model_path = os.path.join(args.path, \"checkpoints\", \"mnist-cnn-best-acc.pt\")\n",
    "    torch.jit.save(script, model_path)"
   ]
  },
  {
   "cell_type": "markdown",
   "metadata": {},
   "source": [
    "#### Notes\n",
    "* The CNN model only has $10.6k$ parameters and has an estimated model parameter size of $42 kB$, compared to the [MLP Model](https://github.com/davidpiscasio/deep-learning/blob/main/MLP/mlp.ipynb) that has $269k$ parameters and an estimated model parameter size of $1.077 MB$.\n",
    "* Even with such a large difference in model size, the CNN model still performs slightly better with a test accuracy of $98.50\\%$ compared to the MLP model's test accuracy of $98.49\\%$. This shows the strength of CNNs in computer vision (CV) applications."
   ]
  },
  {
   "cell_type": "markdown",
   "metadata": {},
   "source": [
    "#### Inference of the trained model on handwritten digits\n",
    "Now that we have successfully trained and saved the model, we use the model for inference on handwritten digits. We have observed that the model failed to predict the digit $8$ correctly and mistook it as a $6$."
   ]
  },
  {
   "cell_type": "code",
   "execution_count": 21,
   "metadata": {},
   "outputs": [
    {
     "data": {
      "image/png": "[encoded data removed]",
      "text/plain": [
       "<Figure size 1000x500 with 10 Axes>"
      ]
     },
     "metadata": {},
     "output_type": "display_data"
    }
   ],
   "source": [
    "scripted_module = torch.jit.load('models/checkpoints/mnist-cnn-best-acc.pt')\n",
    "transform = torchvision.transforms.Compose([torchvision.transforms.Resize((28,28)),\n",
    "                                torchvision.transforms.ToTensor(),\n",
    "                                torchvision.transforms.Grayscale(num_output_channels=1)])\n",
    "\n",
    "# create figure\n",
    "fig = plt.figure(figsize=(10, 5))\n",
    "  \n",
    "# setting values to rows and column variables\n",
    "rows = 2\n",
    "columns = 5\n",
    "\n",
    "imgs = [Image.open('digits/digit0.png'), \n",
    "        Image.open('digits/digit1.png'),\n",
    "        Image.open('digits/digit2.png'),\n",
    "        Image.open('digits/digit3.png'),\n",
    "        Image.open('digits/digit4.png'),\n",
    "        Image.open('digits/digit5.png'),\n",
    "        Image.open('digits/digit6.png'),\n",
    "        Image.open('digits/digit7.png'),\n",
    "        Image.open('digits/digit8.png'),\n",
    "        Image.open('digits/digit9.png')]\n",
    "\n",
    "for i, img in enumerate(imgs):\n",
    "    img = img.convert('RGB')\n",
    "    fig.add_subplot(rows, columns, i+1)\n",
    "    plt.imshow(img)\n",
    "    plt.axis('off')\n",
    "    img = transform(img)\n",
    "    img = torch.unsqueeze(img,0)\n",
    "    img = img.to('cuda')\n",
    "    y_hat = scripted_module(img)\n",
    "    y_pred = torch.argmax(y_hat, dim=1)[0]\n",
    "    plt.title(f\"Prediction: {y_pred}\")"
   ]
  },
  {
   "cell_type": "markdown",
   "metadata": {},
   "source": [
    "If we make the pen thicker, we see that the model now correctly predicts the digit $8$. However, it has made an incorrect prediction for $7$."
   ]
  },
  {
   "cell_type": "code",
   "execution_count": 22,
   "metadata": {},
   "outputs": [
    {
     "data": {
      "image/png": "[encoded data removed]",
      "text/plain": [
       "<Figure size 1000x500 with 10 Axes>"
      ]
     },
     "metadata": {},
     "output_type": "display_data"
    }
   ],
   "source": [
    "# create figure\n",
    "fig = plt.figure(figsize=(10, 5))\n",
    "  \n",
    "# setting values to rows and column variables\n",
    "rows = 2\n",
    "columns = 5\n",
    "\n",
    "imgs = [Image.open('digits/digit10.png'), \n",
    "        Image.open('digits/digit11.png'),\n",
    "        Image.open('digits/digit12.png'),\n",
    "        Image.open('digits/digit13.png'),\n",
    "        Image.open('digits/digit14.png'),\n",
    "        Image.open('digits/digit15.png'),\n",
    "        Image.open('digits/digit16.png'),\n",
    "        Image.open('digits/digit17.png'),\n",
    "        Image.open('digits/digit18.png'),\n",
    "        Image.open('digits/digit19.png')]\n",
    "        \n",
    "for i, img in enumerate(imgs):\n",
    "    img = img.convert('RGB')\n",
    "    fig.add_subplot(rows, columns, i+1)\n",
    "    plt.imshow(img)\n",
    "    plt.axis('off')\n",
    "    img = transform(img)\n",
    "    img = torch.unsqueeze(img,0)\n",
    "    img = img.to('cuda')\n",
    "    y_hat = scripted_module(img)\n",
    "    y_pred = torch.argmax(y_hat, dim=1)[0]\n",
    "    plt.title(f\"Prediction: {y_pred}\")"
   ]
  }
 ],
 "metadata": {
  "kernelspec": {
   "display_name": "Python 3",
   "language": "python",
   "name": "python3"
  },
  "language_info": {
   "codemirror_mode": {
    "name": "ipython",
    "version": 3
   },
   "file_extension": ".py",
   "mimetype": "text/x-python",
   "name": "python",
   "nbconvert_exporter": "python",
   "pygments_lexer": "ipython3",
   "version": "3.10.11"
  },
  "orig_nbformat": 4
 },
 "nbformat": 4,
 "nbformat_minor": 2
}
