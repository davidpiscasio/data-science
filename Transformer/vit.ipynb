{
 "cells": [
  {
   "cell_type": "markdown",
   "metadata": {},
   "source": [
    "# Vision Transformer (ViT)\n",
    "In this notebook, we build a vision transformer for digit recognition trained on the MNIST dataset. We used [Deep-Learning-Experiments](https://github.com/roatienza/Deep-Learning-Experiments/blob/master/versions/2022/transformer/python/transformer_demo.ipynb), [PyTorch Image Models (timm)](https://github.com/huggingface/pytorch-image-models/blob/main/timm/models/vision_transformer.py), and [Vision Transformer for Image Classification](https://www.youtube.com/watch?v=HZ4j_U3FC94) as reference."
   ]
  },
  {
   "cell_type": "code",
   "execution_count": 6,
   "metadata": {},
   "outputs": [],
   "source": [
    "import os\n",
    "import torch\n",
    "import torchvision\n",
    "import matplotlib.pyplot as plt\n",
    "from torch import nn\n",
    "from pytorch_lightning import LightningModule, LightningDataModule, Trainer\n",
    "from torch.optim import Adam\n",
    "from torch.optim.lr_scheduler import CosineAnnealingLR\n",
    "from torchmetrics import Accuracy\n",
    "from pytorch_lightning.callbacks import ModelCheckpoint\n",
    "from einops import rearrange\n",
    "from argparse import ArgumentParser\n",
    "from PIL import Image"
   ]
  },
  {
   "cell_type": "markdown",
   "metadata": {},
   "source": [
    "One of the core principles of Transformers is its self-attention module. This is used to determine which parts of our input sequence are most important or relevant in solving the task at hand. In vision transformers, we use visual attention for the model to determine which parts of the image are important in properly classifying the input into its corresponding digit. The $Attention$ class in the following code block is designed to perform the self-attention module of our vision transformer."
   ]
  },
  {
   "cell_type": "code",
   "execution_count": 7,
   "metadata": {},
   "outputs": [],
   "source": [
    "class Attention(nn.Module):\n",
    "    def __init__(self, embed_dim, num_heads=8, qkv_bias=False, qk_norm=False, norm_layer=nn.LayerNorm):\n",
    "        super().__init__()\n",
    "        assert embed_dim % num_heads == 0, 'embedding dimension must be divisible by number of heads'\n",
    "        self.embed_dim = embed_dim\n",
    "        self.num_heads = num_heads\n",
    "        self.head_dim = embed_dim // num_heads\n",
    "        self.scale = self.head_dim ** -0.5\n",
    "        self.qkv = nn.Linear(self.embed_dim, self.embed_dim*3, bias=qkv_bias)\n",
    "        self.q_norm = norm_layer(self.head_dim) if qk_norm else nn.Identity()\n",
    "        self.k_norm = norm_layer(self.head_dim) if qk_norm else nn.Identity()\n",
    "        self.proj = nn.Linear(self.embed_dim, self.embed_dim)\n",
    "\n",
    "    def forward(self, x):\n",
    "        '''\n",
    "            B: batch size\n",
    "            N: number of patches\n",
    "            C: flattened input vector\n",
    "        '''\n",
    "        B, N, C = x.shape\n",
    "        qkv = self.qkv(x).reshape(B, N, 3, self.num_heads, self.head_dim).permute(2, 0, 3, 1, 4)\n",
    "        q, k, v = qkv.unbind(0)\n",
    "        q, k = self.q_norm(q), self.k_norm(k)\n",
    "\n",
    "        q *= self.scale\n",
    "        attn = q @ k.transpose(-2, -1)\n",
    "        attn = attn.softmax(dim=-1)\n",
    "        x = attn @ v\n",
    "\n",
    "        x = x.transpose(1, 2).reshape(B, N, C)\n",
    "        x = self.proj(x)\n",
    "        return x"
   ]
  },
  {
   "cell_type": "markdown",
   "metadata": {},
   "source": [
    "After the self-attention module, the data is then fed into a feed-forward neural network (or a multilayer perceptron). The $MultilayerPerceptron$ class is used to build the MLP layer of our encoder."
   ]
  },
  {
   "cell_type": "code",
   "execution_count": 8,
   "metadata": {},
   "outputs": [],
   "source": [
    "class MultilayerPerceptron(nn.Module):\n",
    "    def __init__(self, in_features, hidden_features=None, out_features=None, act_layer=nn.GELU, norm_layer=nn.LayerNorm):\n",
    "        super().__init__()\n",
    "        out_features = out_features or in_features # equivalent to out_features = out_features if out_features else in_features\n",
    "        hidden_features = hidden_features or in_features # equivalent to hidden_features = hidden_features if hidden_features else in_features\n",
    "\n",
    "        self.fc1 = nn.Linear(in_features=in_features, out_features=hidden_features)\n",
    "        self.act = act_layer()\n",
    "        self.norm = norm_layer(hidden_features) if norm_layer is not None else nn.Identity()\n",
    "        self.fc2 = nn.Linear(in_features=hidden_features, out_features=out_features)\n",
    "\n",
    "    def forward(self, x):\n",
    "        x = self.fc1(x)\n",
    "        x = self.act(x)\n",
    "        x = self.norm(x)\n",
    "        x = self.fc2(x)\n",
    "        return x"
   ]
  },
  {
   "cell_type": "markdown",
   "metadata": {},
   "source": [
    "The combination of the multiheaded self-attention and the feed-forward neural network builds a single transformer block. The $Block$ class combines these two modules to build a single transformer block."
   ]
  },
  {
   "cell_type": "code",
   "execution_count": 9,
   "metadata": {},
   "outputs": [],
   "source": [
    "class Block(nn.Module):\n",
    "    def __init__(self, embed_dim, num_heads, mlp_ratio=4, qkv_bias=False, qk_norm=True, act_layer=nn.GELU, norm_layer=nn.LayerNorm):\n",
    "        super().__init__()\n",
    "        self.norm = norm_layer(embed_dim)\n",
    "        self.attn = Attention(embed_dim=embed_dim, num_heads=num_heads, qkv_bias=qkv_bias, qk_norm=qk_norm, norm_layer=nn.LayerNorm)\n",
    "        self.mlp = MultilayerPerceptron(in_features=embed_dim, hidden_features=int(embed_dim*mlp_ratio), out_features=embed_dim, act_layer=act_layer)\n",
    "\n",
    "    def forward(self, x):\n",
    "        x = self.norm(x)\n",
    "        x += self.attn(x)\n",
    "        x = self.norm(x)\n",
    "        x += self.mlp(x)\n",
    "        return x"
   ]
  },
  {
   "cell_type": "markdown",
   "metadata": {},
   "source": [
    "The transformer encoder is usually made of various transformer blocks. Thus, the $Encoder$ class initializes these transformer blocks and feeds the data into the model block by block."
   ]
  },
  {
   "cell_type": "code",
   "execution_count": 10,
   "metadata": {},
   "outputs": [],
   "source": [
    "class Encoder(nn.Module):\n",
    "    def __init__(self, embed_dim, num_heads, num_blocks, mlp_ratio=4, qkv_bias=False, qk_norm=True, act_layer=nn.GELU, norm_layer=nn.LayerNorm):\n",
    "        super().__init__()\n",
    "        self.blocks = nn.ModuleList([Block(embed_dim, num_heads, mlp_ratio, qkv_bias, qk_norm, act_layer, norm_layer) for _ in range(num_blocks)])\n",
    "\n",
    "    def forward(self, x):\n",
    "        for block in self.blocks:\n",
    "            x = block(x)\n",
    "        return x"
   ]
  },
  {
   "cell_type": "markdown",
   "metadata": {},
   "source": [
    "The $init\\_weights\\_vit\\_timm$ function is used in timm to help initialize the weights, which would help boost the performance of our model."
   ]
  },
  {
   "cell_type": "code",
   "execution_count": 11,
   "metadata": {},
   "outputs": [],
   "source": [
    "def init_weights_vit_timm(module: nn.Module):\n",
    "    if isinstance(module, nn.Linear):\n",
    "        nn.init.trunc_normal_(module.weight, mean=0.0, std=0.02)\n",
    "        if module.bias is not None:\n",
    "            nn.init.zeros_(module.bias)\n",
    "    elif hasattr(module, 'init_weights'):\n",
    "        module.init_weights()"
   ]
  },
  {
   "cell_type": "markdown",
   "metadata": {},
   "source": [
    "While the vision transformer is largely based on the transformer architecture that is originally used for natural language processing (NLP) tasks, they still have some key differences. One key difference between the two is that the vision transformer typically leverages the transformer encoder part only and does not include the decoder in performing vision tasks. Thus, as seen in the $VisionTransformer$ class, we only include the transformer encoder part in our model."
   ]
  },
  {
   "cell_type": "code",
   "execution_count": 12,
   "metadata": {},
   "outputs": [],
   "source": [
    "class VisionTransformer(LightningModule):\n",
    "    def __init__(self, num_classes=10, lr=0.001, max_epochs=30, depth=12, embed_dim=64, head=4, patch_dim=49, seqlen=16, pos_embed=True):\n",
    "        super().__init__()\n",
    "        self.train_step_outputs = []\n",
    "        self.test_step_outputs = []\n",
    "        self.save_hyperparameters()\n",
    "\n",
    "        self.in_proj = nn.Linear(patch_dim, embed_dim)\n",
    "        self.pos_embed = nn.Parameter(torch.randn(1, seqlen, embed_dim) * .02) if pos_embed else 0\n",
    "        self.encoder = Encoder(embed_dim=embed_dim, num_heads=head, num_blocks=depth, mlp_ratio=4, qkv_bias=False, qk_norm=True, act_layer=nn.GELU, norm_layer=nn.LayerNorm)\n",
    "        self.fc = nn.Linear(seqlen*embed_dim, num_classes)\n",
    "        self.loss = nn.CrossEntropyLoss()\n",
    "        self.accuracy = Accuracy(task='multiclass', num_classes=num_classes)\n",
    "        self.reset_parameters()\n",
    "\n",
    "    def reset_parameters(self):\n",
    "        init_weights_vit_timm(self)\n",
    "\n",
    "    def forward(self, x):\n",
    "        x = self.in_proj(x)\n",
    "        x += self.pos_embed\n",
    "\n",
    "        x = self.encoder(x)\n",
    "        x = x.flatten(start_dim=1)\n",
    "\n",
    "        x = self.fc(x)\n",
    "        return x\n",
    "    \n",
    "    def configure_optimizers(self):\n",
    "        optimizer = Adam(self.parameters(), lr=self.hparams.lr)\n",
    "        scheduler = CosineAnnealingLR(optimizer=optimizer, T_max=self.hparams.max_epochs)\n",
    "        return [optimizer], [scheduler]\n",
    "    \n",
    "    def training_step(self, batch, batch_idx):\n",
    "        x, y = batch\n",
    "        y_hat = self(x)\n",
    "        loss = self.loss(y_hat, y)\n",
    "        self.train_step_outputs.append({\"loss\": loss})\n",
    "        return loss\n",
    "\n",
    "    def on_train_epoch_end(self):\n",
    "        avg_loss = torch.stack([x[\"loss\"] for x in self.train_step_outputs]).mean()\n",
    "        self.train_step_outputs.clear()\n",
    "        print(f'| Train loss: {avg_loss}')\n",
    "        self.log(\"train_loss\", avg_loss, on_epoch=True)\n",
    "    \n",
    "    def test_step(self, batch, batch_idx):\n",
    "        x, y = batch\n",
    "        y_hat = self(x)\n",
    "        loss = self.loss(y_hat, y)\n",
    "        acc = self.accuracy(y_hat, y) * 100.\n",
    "        self.test_step_outputs.append({\"y_hat\": y_hat, \"test_loss\": loss, \"test_acc\": acc})\n",
    "        return y_hat, loss, acc\n",
    "    \n",
    "    def on_test_epoch_end(self):\n",
    "        avg_loss = torch.stack([x[\"test_loss\"] for x in self.test_step_outputs]).mean()\n",
    "        avg_acc = torch.stack([x[\"test_acc\"] for x in self.test_step_outputs]).mean()\n",
    "        self.test_step_outputs.clear()\n",
    "        print(f'| Test loss: {avg_loss}', end=' | ')\n",
    "        print(f'Test accuracy: {avg_acc}')\n",
    "        self.log(\"test_loss\", avg_loss, on_epoch=True, prog_bar=True)\n",
    "        self.log(\"test_acc\", avg_acc, on_epoch=True, prog_bar=True)\n",
    "\n",
    "    def validation_step(self, batch, batch_idx):\n",
    "       return self.test_step(batch, batch_idx)\n",
    "\n",
    "    def on_validation_epoch_end(self):\n",
    "        return self.on_test_epoch_end()"
   ]
  },
  {
   "cell_type": "markdown",
   "metadata": {},
   "source": [
    "We use PyTorch's LightningDataModule to setup the data that we will use for training and testing our vision transformer model. In this module, we split the image into patches in order for the data to be suitable for a transformer model."
   ]
  },
  {
   "cell_type": "code",
   "execution_count": 13,
   "metadata": {},
   "outputs": [],
   "source": [
    "class LitMNIST(LightningDataModule):\n",
    "    def __init__(self, batch_size=64, num_workers=4, patch_num=4):\n",
    "        super().__init__()\n",
    "        self.batch_size = batch_size\n",
    "        self.patch_num = patch_num\n",
    "        self.num_workers = num_workers\n",
    "\n",
    "    def prepare_data(self):\n",
    "        self.train_set = torchvision.datasets.MNIST('./data', train=True, download=True,\n",
    "                                        transform=torchvision.transforms.ToTensor())\n",
    "        self.test_set = torchvision.datasets.MNIST('./data', train=False, download=True,\n",
    "                                        transform=torchvision.transforms.ToTensor())\n",
    "\n",
    "    def collate_fn(self, batch):\n",
    "        x, y = zip(*batch)\n",
    "        x = torch.stack(x, dim=0)\n",
    "        y = torch.LongTensor(y)\n",
    "        x = rearrange(x, 'b c (p1 h) (p2 w) -> b (p1 p2) (c h w)', p1=self.patch_num, p2=self.patch_num)\n",
    "        return x, y\n",
    "    \n",
    "    # Settings from https://nextjournal.com/gkoehler/pytorch-mnist\n",
    "    def train_dataloader(self):\n",
    "        return torch.utils.data.DataLoader(self.train_set, batch_size=self.batch_size, shuffle=True, \n",
    "                                           collate_fn=self.collate_fn, num_workers=self.num_workers)\n",
    "    \n",
    "    def test_dataloader(self):\n",
    "        return torch.utils.data.DataLoader(self.test_set, batch_size=self.batch_size, shuffle=False, \n",
    "                                           collate_fn=self.collate_fn, num_workers=self.num_workers)\n",
    "    \n",
    "    def val_dataloader(self):\n",
    "        return self.test_dataloader()"
   ]
  },
  {
   "cell_type": "markdown",
   "metadata": {},
   "source": [
    "After setting up the model, the datasets, and the train/test/validation configurations, we set up the arguments."
   ]
  },
  {
   "cell_type": "code",
   "execution_count": 14,
   "metadata": {},
   "outputs": [],
   "source": [
    "def get_args():\n",
    "    parser = ArgumentParser(description='Vision Transformer')\n",
    "    parser.add_argument('--depth', type=int, default=12, help='depth')\n",
    "    parser.add_argument('--embed_dim', type=int, default=32, help='embedding dimension')\n",
    "    parser.add_argument('--num_heads', type=int, default=4, help='num_heads')\n",
    "\n",
    "    parser.add_argument('--pos_embed', type=bool, default=True, help='add positional embedding')\n",
    "    parser.add_argument('--patch_num', type=int, default=4, help='patch_num')\n",
    "    parser.add_argument('--batch_size', type=int, default=32, metavar='N',\n",
    "                        help='input batch size for training (default: 32)')\n",
    "    parser.add_argument('--max-epochs', type=int, default=30, metavar='N',\n",
    "                        help='number of epochs to train (default: 30)')\n",
    "    parser.add_argument('--lr', type=float, default=0.001, metavar='LR',\n",
    "                        help='learning rate (default: 0.001)')\n",
    "\n",
    "    parser.add_argument('--accelerator', default='gpu', type=str, metavar='N')\n",
    "    parser.add_argument('--devices', default=1, type=int, metavar='N')\n",
    "    parser.add_argument('--num_workers', default=0, type=int, metavar='N')\n",
    "    parser.add_argument(\"--path\", default=\"models\", help=\"Model save path\")\n",
    "    args = parser.parse_args(\"\")\n",
    "    return args"
   ]
  },
  {
   "cell_type": "markdown",
   "metadata": {},
   "source": [
    "Now, we train the ViT model with the MNIST dataset."
   ]
  },
  {
   "cell_type": "code",
   "execution_count": 15,
   "metadata": {},
   "outputs": [
    {
     "name": "stderr",
     "output_type": "stream",
     "text": [
      "c:\\Users\\Dave\\AppData\\Local\\Programs\\Python\\Python310\\lib\\site-packages\\lightning_fabric\\connector.py:554: UserWarning: 16 is supported for historical reasons but its usage is discouraged. Please set your precision to 16-mixed instead!\n",
      "  rank_zero_warn(\n",
      "Using 16bit Automatic Mixed Precision (AMP)\n",
      "GPU available: True (cuda), used: True\n",
      "TPU available: False, using: 0 TPU cores\n",
      "IPU available: False, using: 0 IPUs\n",
      "HPU available: False, using: 0 HPUs\n"
     ]
    },
    {
     "name": "stdout",
     "output_type": "stream",
     "text": [
      "Patch Dimension: 49\n"
     ]
    },
    {
     "name": "stderr",
     "output_type": "stream",
     "text": [
      "c:\\Users\\Dave\\AppData\\Local\\Programs\\Python\\Python310\\lib\\site-packages\\pytorch_lightning\\trainer\\connectors\\logger_connector\\logger_connector.py:67: UserWarning: Starting from v1.9.0, `tensorboardX` has been removed as a dependency of the `pytorch_lightning` package, due to potential conflicts with other packages in the ML ecosystem. For this reason, `logger=True` will use `CSVLogger` as the default logger, unless the `tensorboard` or `tensorboardX` packages are found. Please `pip install lightning[extra]` or one of them to enable TensorBoard support by default\n",
      "  warning_cache.warn(\n",
      "LOCAL_RANK: 0 - CUDA_VISIBLE_DEVICES: [0]\n",
      "\n",
      "  | Name     | Type               | Params\n",
      "------------------------------------------------\n",
      "0 | in_proj  | Linear             | 1.6 K \n",
      "1 | encoder  | Encoder            | 153 K \n",
      "2 | fc       | Linear             | 5.1 K \n",
      "3 | loss     | CrossEntropyLoss   | 0     \n",
      "4 | accuracy | MulticlassAccuracy | 0     \n",
      "------------------------------------------------\n",
      "161 K     Trainable params\n",
      "0         Non-trainable params\n",
      "161 K     Total params\n",
      "0.645     Total estimated model params size (MB)\n"
     ]
    },
    {
     "name": "stdout",
     "output_type": "stream",
     "text": [
      "Sanity Checking DataLoader 0:  50%|█████     | 1/2 [00:00<00:00,  5.63it/s]"
     ]
    },
    {
     "name": "stderr",
     "output_type": "stream",
     "text": [
      "c:\\Users\\Dave\\AppData\\Local\\Programs\\Python\\Python310\\lib\\site-packages\\pytorch_lightning\\trainer\\connectors\\data_connector.py:432: PossibleUserWarning: The dataloader, val_dataloader, does not have many workers which may be a bottleneck. Consider increasing the value of the `num_workers` argument` (try 8 which is the number of cpus on this machine) in the `DataLoader` init to improve performance.\n",
      "  rank_zero_warn(\n"
     ]
    },
    {
     "name": "stdout",
     "output_type": "stream",
     "text": [
      "Sanity Checking DataLoader 0: 100%|██████████| 2/2 [00:00<00:00,  9.55it/s]| Test loss: 2.6062469482421875 | Test accuracy: 7.8125\n",
      "                                                                           "
     ]
    },
    {
     "name": "stderr",
     "output_type": "stream",
     "text": [
      "c:\\Users\\Dave\\AppData\\Local\\Programs\\Python\\Python310\\lib\\site-packages\\pytorch_lightning\\trainer\\connectors\\data_connector.py:432: PossibleUserWarning: The dataloader, train_dataloader, does not have many workers which may be a bottleneck. Consider increasing the value of the `num_workers` argument` (try 8 which is the number of cpus on this machine) in the `DataLoader` init to improve performance.\n",
      "  rank_zero_warn(\n"
     ]
    },
    {
     "name": "stdout",
     "output_type": "stream",
     "text": [
      "Epoch 0: 100%|██████████| 1875/1875 [01:11<00:00, 26.20it/s, v_num=0]| Test loss: 0.19290076196193695 | Test accuracy: 94.23921203613281\n",
      "Epoch 0: 100%|██████████| 1875/1875 [01:17<00:00, 24.22it/s, v_num=0, test_loss=0.193, test_acc=94.20]| Train loss: 0.2957986891269684\n"
     ]
    },
    {
     "name": "stderr",
     "output_type": "stream",
     "text": [
      "Epoch 0, global step 1875: 'test_acc' reached 94.23921 (best 94.23921), saving model to 'C:\\\\Users\\\\Dave\\\\Documents\\\\Experiments\\\\machine-learning\\\\Transformer\\\\models\\\\checkpoints\\\\mnist-vit-best-acc.ckpt' as top 1\n"
     ]
    },
    {
     "name": "stdout",
     "output_type": "stream",
     "text": [
      "Epoch 1: 100%|██████████| 1875/1875 [01:10<00:00, 26.70it/s, v_num=0, test_loss=0.193, test_acc=94.20]| Test loss: 0.11566398292779922 | Test accuracy: 96.37579345703125\n",
      "Epoch 1: 100%|██████████| 1875/1875 [01:16<00:00, 24.64it/s, v_num=0, test_loss=0.116, test_acc=96.40]| Train loss: 0.17082171142101288\n"
     ]
    },
    {
     "name": "stderr",
     "output_type": "stream",
     "text": [
      "Epoch 1, global step 3750: 'test_acc' reached 96.37579 (best 96.37579), saving model to 'C:\\\\Users\\\\Dave\\\\Documents\\\\Experiments\\\\machine-learning\\\\Transformer\\\\models\\\\checkpoints\\\\mnist-vit-best-acc.ckpt' as top 1\n"
     ]
    },
    {
     "name": "stdout",
     "output_type": "stream",
     "text": [
      "Epoch 2: 100%|██████████| 1875/1875 [01:09<00:00, 26.99it/s, v_num=0, test_loss=0.116, test_acc=96.40]| Test loss: 0.12320628762245178 | Test accuracy: 96.28594207763672\n",
      "Epoch 2: 100%|██████████| 1875/1875 [01:14<00:00, 25.08it/s, v_num=0, test_loss=0.123, test_acc=96.30]| Train loss: 0.1381990760564804\n"
     ]
    },
    {
     "name": "stderr",
     "output_type": "stream",
     "text": [
      "Epoch 2, global step 5625: 'test_acc' was not in top 1\n"
     ]
    },
    {
     "name": "stdout",
     "output_type": "stream",
     "text": [
      "Epoch 3: 100%|██████████| 1875/1875 [01:11<00:00, 26.12it/s, v_num=0, test_loss=0.123, test_acc=96.30]| Test loss: 0.1141599714756012 | Test accuracy: 96.24600219726562\n",
      "Epoch 3: 100%|██████████| 1875/1875 [01:17<00:00, 24.27it/s, v_num=0, test_loss=0.114, test_acc=96.20]| Train loss: 0.11903229355812073\n"
     ]
    },
    {
     "name": "stderr",
     "output_type": "stream",
     "text": [
      "Epoch 3, global step 7500: 'test_acc' was not in top 1\n"
     ]
    },
    {
     "name": "stdout",
     "output_type": "stream",
     "text": [
      "Epoch 4: 100%|██████████| 1875/1875 [01:12<00:00, 25.99it/s, v_num=0, test_loss=0.114, test_acc=96.20]| Test loss: 0.09809590876102448 | Test accuracy: 97.04472351074219\n",
      "Epoch 4: 100%|██████████| 1875/1875 [01:17<00:00, 24.17it/s, v_num=0, test_loss=0.0981, test_acc=97.00]| Train loss: 0.10154708474874496\n"
     ]
    },
    {
     "name": "stderr",
     "output_type": "stream",
     "text": [
      "Epoch 4, global step 9375: 'test_acc' reached 97.04472 (best 97.04472), saving model to 'C:\\\\Users\\\\Dave\\\\Documents\\\\Experiments\\\\machine-learning\\\\Transformer\\\\models\\\\checkpoints\\\\mnist-vit-best-acc.ckpt' as top 1\n"
     ]
    },
    {
     "name": "stdout",
     "output_type": "stream",
     "text": [
      "Epoch 5: 100%|██████████| 1875/1875 [01:10<00:00, 26.54it/s, v_num=0, test_loss=0.0981, test_acc=97.00]| Test loss: 0.08592738211154938 | Test accuracy: 97.12459564208984\n",
      "Epoch 5: 100%|██████████| 1875/1875 [01:16<00:00, 24.64it/s, v_num=0, test_loss=0.0859, test_acc=97.10]| Train loss: 0.08863012492656708\n"
     ]
    },
    {
     "name": "stderr",
     "output_type": "stream",
     "text": [
      "Epoch 5, global step 11250: 'test_acc' reached 97.12460 (best 97.12460), saving model to 'C:\\\\Users\\\\Dave\\\\Documents\\\\Experiments\\\\machine-learning\\\\Transformer\\\\models\\\\checkpoints\\\\mnist-vit-best-acc.ckpt' as top 1\n"
     ]
    },
    {
     "name": "stdout",
     "output_type": "stream",
     "text": [
      "Epoch 6: 100%|██████████| 1875/1875 [01:10<00:00, 26.63it/s, v_num=0, test_loss=0.0859, test_acc=97.10]| Test loss: 0.08922919631004333 | Test accuracy: 97.17452239990234\n",
      "Epoch 6: 100%|██████████| 1875/1875 [01:15<00:00, 24.73it/s, v_num=0, test_loss=0.0892, test_acc=97.20]| Train loss: 0.08191310614347458\n"
     ]
    },
    {
     "name": "stderr",
     "output_type": "stream",
     "text": [
      "Epoch 6, global step 13125: 'test_acc' reached 97.17452 (best 97.17452), saving model to 'C:\\\\Users\\\\Dave\\\\Documents\\\\Experiments\\\\machine-learning\\\\Transformer\\\\models\\\\checkpoints\\\\mnist-vit-best-acc.ckpt' as top 1\n"
     ]
    },
    {
     "name": "stdout",
     "output_type": "stream",
     "text": [
      "Epoch 7: 100%|██████████| 1875/1875 [01:10<00:00, 26.41it/s, v_num=0, test_loss=0.0892, test_acc=97.20]| Test loss: 0.06831670552492142 | Test accuracy: 98.02316284179688\n",
      "Epoch 7: 100%|██████████| 1875/1875 [01:17<00:00, 24.34it/s, v_num=0, test_loss=0.0683, test_acc=98.00]| Train loss: 0.07061987370252609\n"
     ]
    },
    {
     "name": "stderr",
     "output_type": "stream",
     "text": [
      "Epoch 7, global step 15000: 'test_acc' reached 98.02316 (best 98.02316), saving model to 'C:\\\\Users\\\\Dave\\\\Documents\\\\Experiments\\\\machine-learning\\\\Transformer\\\\models\\\\checkpoints\\\\mnist-vit-best-acc.ckpt' as top 1\n"
     ]
    },
    {
     "name": "stdout",
     "output_type": "stream",
     "text": [
      "Epoch 8: 100%|██████████| 1875/1875 [01:10<00:00, 26.74it/s, v_num=0, test_loss=0.0683, test_acc=98.00]| Test loss: 0.07614566385746002 | Test accuracy: 97.66373443603516\n",
      "Epoch 8: 100%|██████████| 1875/1875 [01:15<00:00, 24.81it/s, v_num=0, test_loss=0.0761, test_acc=97.70]| Train loss: 0.06366151571273804\n"
     ]
    },
    {
     "name": "stderr",
     "output_type": "stream",
     "text": [
      "Epoch 8, global step 16875: 'test_acc' was not in top 1\n"
     ]
    },
    {
     "name": "stdout",
     "output_type": "stream",
     "text": [
      "Epoch 9: 100%|██████████| 1875/1875 [01:10<00:00, 26.77it/s, v_num=0, test_loss=0.0761, test_acc=97.70]| Test loss: 0.06553623080253601 | Test accuracy: 98.04312896728516\n",
      "Epoch 9: 100%|██████████| 1875/1875 [01:15<00:00, 24.81it/s, v_num=0, test_loss=0.0655, test_acc=98.00]| Train loss: 0.05522308871150017\n"
     ]
    },
    {
     "name": "stderr",
     "output_type": "stream",
     "text": [
      "Epoch 9, global step 18750: 'test_acc' reached 98.04313 (best 98.04313), saving model to 'C:\\\\Users\\\\Dave\\\\Documents\\\\Experiments\\\\machine-learning\\\\Transformer\\\\models\\\\checkpoints\\\\mnist-vit-best-acc.ckpt' as top 1\n"
     ]
    },
    {
     "name": "stdout",
     "output_type": "stream",
     "text": [
      "Epoch 10: 100%|██████████| 1875/1875 [01:09<00:00, 26.83it/s, v_num=0, test_loss=0.0655, test_acc=98.00]| Test loss: 0.0658235251903534 | Test accuracy: 97.9632568359375\n",
      "Epoch 10: 100%|██████████| 1875/1875 [01:15<00:00, 24.69it/s, v_num=0, test_loss=0.0658, test_acc=98.00]| Train loss: 0.05160774663090706\n"
     ]
    },
    {
     "name": "stderr",
     "output_type": "stream",
     "text": [
      "Epoch 10, global step 20625: 'test_acc' was not in top 1\n"
     ]
    },
    {
     "name": "stdout",
     "output_type": "stream",
     "text": [
      "Epoch 11: 100%|██████████| 1875/1875 [01:09<00:00, 26.79it/s, v_num=0, test_loss=0.0658, test_acc=98.00]| Test loss: 0.0694601908326149 | Test accuracy: 98.0031967163086\n",
      "Epoch 11: 100%|██████████| 1875/1875 [01:16<00:00, 24.66it/s, v_num=0, test_loss=0.0695, test_acc=98.00]| Train loss: 0.043193452060222626\n"
     ]
    },
    {
     "name": "stderr",
     "output_type": "stream",
     "text": [
      "Epoch 11, global step 22500: 'test_acc' was not in top 1\n"
     ]
    },
    {
     "name": "stdout",
     "output_type": "stream",
     "text": [
      "Epoch 12: 100%|██████████| 1875/1875 [01:10<00:00, 26.78it/s, v_num=0, test_loss=0.0695, test_acc=98.00]| Test loss: 0.08931928873062134 | Test accuracy: 97.47403717041016\n",
      "Epoch 12: 100%|██████████| 1875/1875 [01:15<00:00, 24.84it/s, v_num=0, test_loss=0.0893, test_acc=97.50]| Train loss: 0.039183568209409714\n"
     ]
    },
    {
     "name": "stderr",
     "output_type": "stream",
     "text": [
      "Epoch 12, global step 24375: 'test_acc' was not in top 1\n"
     ]
    },
    {
     "name": "stdout",
     "output_type": "stream",
     "text": [
      "Epoch 13: 100%|██████████| 1875/1875 [01:10<00:00, 26.75it/s, v_num=0, test_loss=0.0893, test_acc=97.50]| Test loss: 0.07292643189430237 | Test accuracy: 98.0031967163086\n",
      "Epoch 13: 100%|██████████| 1875/1875 [01:15<00:00, 24.83it/s, v_num=0, test_loss=0.0729, test_acc=98.00]| Train loss: 0.03207873925566673\n"
     ]
    },
    {
     "name": "stderr",
     "output_type": "stream",
     "text": [
      "Epoch 13, global step 26250: 'test_acc' was not in top 1\n"
     ]
    },
    {
     "name": "stdout",
     "output_type": "stream",
     "text": [
      "Epoch 14: 100%|██████████| 1875/1875 [01:10<00:00, 26.75it/s, v_num=0, test_loss=0.0729, test_acc=98.00]| Test loss: 0.0622921958565712 | Test accuracy: 98.25279235839844\n",
      "Epoch 14: 100%|██████████| 1875/1875 [01:16<00:00, 24.61it/s, v_num=0, test_loss=0.0623, test_acc=98.30]| Train loss: 0.028611812740564346\n"
     ]
    },
    {
     "name": "stderr",
     "output_type": "stream",
     "text": [
      "Epoch 14, global step 28125: 'test_acc' reached 98.25279 (best 98.25279), saving model to 'C:\\\\Users\\\\Dave\\\\Documents\\\\Experiments\\\\machine-learning\\\\Transformer\\\\models\\\\checkpoints\\\\mnist-vit-best-acc.ckpt' as top 1\n"
     ]
    },
    {
     "name": "stdout",
     "output_type": "stream",
     "text": [
      "Epoch 15: 100%|██████████| 1875/1875 [01:10<00:00, 26.74it/s, v_num=0, test_loss=0.0623, test_acc=98.30]| Test loss: 0.06699860841035843 | Test accuracy: 98.25279235839844\n",
      "Epoch 15: 100%|██████████| 1875/1875 [01:15<00:00, 24.78it/s, v_num=0, test_loss=0.067, test_acc=98.30] | Train loss: 0.021226167678833008\n"
     ]
    },
    {
     "name": "stderr",
     "output_type": "stream",
     "text": [
      "Epoch 15, global step 30000: 'test_acc' was not in top 1\n"
     ]
    },
    {
     "name": "stdout",
     "output_type": "stream",
     "text": [
      "Epoch 16: 100%|██████████| 1875/1875 [01:10<00:00, 26.76it/s, v_num=0, test_loss=0.067, test_acc=98.30]| Test loss: 0.07473360002040863 | Test accuracy: 98.03314208984375\n",
      "Epoch 16: 100%|██████████| 1875/1875 [01:16<00:00, 24.62it/s, v_num=0, test_loss=0.0747, test_acc=98.00]| Train loss: 0.01872096210718155\n"
     ]
    },
    {
     "name": "stderr",
     "output_type": "stream",
     "text": [
      "Epoch 16, global step 31875: 'test_acc' was not in top 1\n"
     ]
    },
    {
     "name": "stdout",
     "output_type": "stream",
     "text": [
      "Epoch 17: 100%|██████████| 1875/1875 [01:10<00:00, 26.74it/s, v_num=0, test_loss=0.0747, test_acc=98.00]| Test loss: 0.0632089152932167 | Test accuracy: 98.25279235839844\n",
      "Epoch 17: 100%|██████████| 1875/1875 [01:15<00:00, 24.79it/s, v_num=0, test_loss=0.0632, test_acc=98.30]| Train loss: 0.01399032399058342\n"
     ]
    },
    {
     "name": "stderr",
     "output_type": "stream",
     "text": [
      "Epoch 17, global step 33750: 'test_acc' was not in top 1\n"
     ]
    },
    {
     "name": "stdout",
     "output_type": "stream",
     "text": [
      "Epoch 18: 100%|██████████| 1875/1875 [01:10<00:00, 26.74it/s, v_num=0, test_loss=0.0632, test_acc=98.30]| Test loss: 0.06813040375709534 | Test accuracy: 98.40255737304688\n",
      "Epoch 18: 100%|██████████| 1875/1875 [01:15<00:00, 24.78it/s, v_num=0, test_loss=0.0681, test_acc=98.40]| Train loss: 0.008994569070637226\n"
     ]
    },
    {
     "name": "stderr",
     "output_type": "stream",
     "text": [
      "Epoch 18, global step 35625: 'test_acc' reached 98.40256 (best 98.40256), saving model to 'C:\\\\Users\\\\Dave\\\\Documents\\\\Experiments\\\\machine-learning\\\\Transformer\\\\models\\\\checkpoints\\\\mnist-vit-best-acc.ckpt' as top 1\n"
     ]
    },
    {
     "name": "stdout",
     "output_type": "stream",
     "text": [
      "Epoch 19: 100%|██████████| 1875/1875 [01:10<00:00, 26.67it/s, v_num=0, test_loss=0.0681, test_acc=98.40]| Test loss: 0.07114475220441818 | Test accuracy: 98.32268524169922\n",
      "Epoch 19: 100%|██████████| 1875/1875 [01:16<00:00, 24.52it/s, v_num=0, test_loss=0.0711, test_acc=98.30]| Train loss: 0.007099510636180639\n"
     ]
    },
    {
     "name": "stderr",
     "output_type": "stream",
     "text": [
      "Epoch 19, global step 37500: 'test_acc' was not in top 1\n"
     ]
    },
    {
     "name": "stdout",
     "output_type": "stream",
     "text": [
      "Epoch 20: 100%|██████████| 1875/1875 [01:10<00:00, 26.65it/s, v_num=0, test_loss=0.0711, test_acc=98.30]| Test loss: 0.0706823468208313 | Test accuracy: 98.35263061523438\n",
      "Epoch 20: 100%|██████████| 1875/1875 [01:15<00:00, 24.70it/s, v_num=0, test_loss=0.0707, test_acc=98.40]| Train loss: 0.005759573541581631\n"
     ]
    },
    {
     "name": "stderr",
     "output_type": "stream",
     "text": [
      "Epoch 20, global step 39375: 'test_acc' was not in top 1\n"
     ]
    },
    {
     "name": "stdout",
     "output_type": "stream",
     "text": [
      "Epoch 21: 100%|██████████| 1875/1875 [01:10<00:00, 26.67it/s, v_num=0, test_loss=0.0707, test_acc=98.40]| Test loss: 0.07639383524656296 | Test accuracy: 98.41253662109375\n",
      "Epoch 21: 100%|██████████| 1875/1875 [01:16<00:00, 24.53it/s, v_num=0, test_loss=0.0764, test_acc=98.40]| Train loss: 0.002926752669736743\n"
     ]
    },
    {
     "name": "stderr",
     "output_type": "stream",
     "text": [
      "Epoch 21, global step 41250: 'test_acc' reached 98.41254 (best 98.41254), saving model to 'C:\\\\Users\\\\Dave\\\\Documents\\\\Experiments\\\\machine-learning\\\\Transformer\\\\models\\\\checkpoints\\\\mnist-vit-best-acc.ckpt' as top 1\n"
     ]
    },
    {
     "name": "stdout",
     "output_type": "stream",
     "text": [
      "Epoch 22: 100%|██████████| 1875/1875 [01:11<00:00, 26.27it/s, v_num=0, test_loss=0.0764, test_acc=98.40]| Test loss: 0.07482311129570007 | Test accuracy: 98.4924087524414\n",
      "Epoch 22: 100%|██████████| 1875/1875 [01:17<00:00, 24.07it/s, v_num=0, test_loss=0.0748, test_acc=98.50]| Train loss: 0.0012799723772332072\n"
     ]
    },
    {
     "name": "stderr",
     "output_type": "stream",
     "text": [
      "Epoch 22, global step 43125: 'test_acc' reached 98.49241 (best 98.49241), saving model to 'C:\\\\Users\\\\Dave\\\\Documents\\\\Experiments\\\\machine-learning\\\\Transformer\\\\models\\\\checkpoints\\\\mnist-vit-best-acc.ckpt' as top 1\n"
     ]
    },
    {
     "name": "stdout",
     "output_type": "stream",
     "text": [
      "Epoch 23: 100%|██████████| 1875/1875 [01:13<00:00, 25.65it/s, v_num=0, test_loss=0.0748, test_acc=98.50]| Test loss: 0.08571378141641617 | Test accuracy: 98.45247650146484\n",
      "Epoch 23: 100%|██████████| 1875/1875 [01:19<00:00, 23.64it/s, v_num=0, test_loss=0.0857, test_acc=98.50]| Train loss: 0.0009699637303128839\n"
     ]
    },
    {
     "name": "stderr",
     "output_type": "stream",
     "text": [
      "Epoch 23, global step 45000: 'test_acc' was not in top 1\n"
     ]
    },
    {
     "name": "stdout",
     "output_type": "stream",
     "text": [
      "Epoch 24: 100%|██████████| 1875/1875 [01:10<00:00, 26.58it/s, v_num=0, test_loss=0.0857, test_acc=98.50]| Test loss: 0.07641561329364777 | Test accuracy: 98.5223617553711\n",
      "Epoch 24: 100%|██████████| 1875/1875 [01:16<00:00, 24.42it/s, v_num=0, test_loss=0.0764, test_acc=98.50]| Train loss: 0.0004543941468000412\n"
     ]
    },
    {
     "name": "stderr",
     "output_type": "stream",
     "text": [
      "Epoch 24, global step 46875: 'test_acc' reached 98.52236 (best 98.52236), saving model to 'C:\\\\Users\\\\Dave\\\\Documents\\\\Experiments\\\\machine-learning\\\\Transformer\\\\models\\\\checkpoints\\\\mnist-vit-best-acc.ckpt' as top 1\n"
     ]
    },
    {
     "name": "stdout",
     "output_type": "stream",
     "text": [
      "Epoch 25: 100%|██████████| 1875/1875 [01:10<00:00, 26.55it/s, v_num=0, test_loss=0.0764, test_acc=98.50]| Test loss: 0.07941045612096786 | Test accuracy: 98.57228088378906\n",
      "Epoch 25: 100%|██████████| 1875/1875 [01:16<00:00, 24.58it/s, v_num=0, test_loss=0.0794, test_acc=98.60]| Train loss: 0.00013902441423851997\n"
     ]
    },
    {
     "name": "stderr",
     "output_type": "stream",
     "text": [
      "Epoch 25, global step 48750: 'test_acc' reached 98.57228 (best 98.57228), saving model to 'C:\\\\Users\\\\Dave\\\\Documents\\\\Experiments\\\\machine-learning\\\\Transformer\\\\models\\\\checkpoints\\\\mnist-vit-best-acc.ckpt' as top 1\n"
     ]
    },
    {
     "name": "stdout",
     "output_type": "stream",
     "text": [
      "Epoch 26: 100%|██████████| 1875/1875 [01:10<00:00, 26.60it/s, v_num=0, test_loss=0.0794, test_acc=98.60]| Test loss: 0.0823620930314064 | Test accuracy: 98.5223617553711\n",
      "Epoch 26: 100%|██████████| 1875/1875 [01:16<00:00, 24.62it/s, v_num=0, test_loss=0.0824, test_acc=98.50]| Train loss: 7.931987784104422e-05\n"
     ]
    },
    {
     "name": "stderr",
     "output_type": "stream",
     "text": [
      "Epoch 26, global step 50625: 'test_acc' was not in top 1\n"
     ]
    },
    {
     "name": "stdout",
     "output_type": "stream",
     "text": [
      "Epoch 27: 100%|██████████| 1875/1875 [01:10<00:00, 26.53it/s, v_num=0, test_loss=0.0824, test_acc=98.50]| Test loss: 0.08468456566333771 | Test accuracy: 98.5223617553711\n",
      "Epoch 27: 100%|██████████| 1875/1875 [01:16<00:00, 24.53it/s, v_num=0, test_loss=0.0847, test_acc=98.50]| Train loss: 5.6136508646886796e-05\n"
     ]
    },
    {
     "name": "stderr",
     "output_type": "stream",
     "text": [
      "Epoch 27, global step 52500: 'test_acc' was not in top 1\n"
     ]
    },
    {
     "name": "stdout",
     "output_type": "stream",
     "text": [
      "Epoch 28: 100%|██████████| 1875/1875 [01:10<00:00, 26.55it/s, v_num=0, test_loss=0.0847, test_acc=98.50]| Test loss: 0.0854787677526474 | Test accuracy: 98.5323486328125\n",
      "Epoch 28: 100%|██████████| 1875/1875 [01:16<00:00, 24.58it/s, v_num=0, test_loss=0.0855, test_acc=98.50]| Train loss: 4.234457082930021e-05\n"
     ]
    },
    {
     "name": "stderr",
     "output_type": "stream",
     "text": [
      "Epoch 28, global step 54375: 'test_acc' was not in top 1\n"
     ]
    },
    {
     "name": "stdout",
     "output_type": "stream",
     "text": [
      "Epoch 29: 100%|██████████| 1875/1875 [01:10<00:00, 26.54it/s, v_num=0, test_loss=0.0855, test_acc=98.50]| Test loss: 0.0864705964922905 | Test accuracy: 98.5223617553711\n",
      "Epoch 29: 100%|██████████| 1875/1875 [01:16<00:00, 24.40it/s, v_num=0, test_loss=0.0865, test_acc=98.50]| Train loss: 3.5312426916789263e-05\n"
     ]
    },
    {
     "name": "stderr",
     "output_type": "stream",
     "text": [
      "Epoch 29, global step 56250: 'test_acc' was not in top 1\n",
      "`Trainer.fit` stopped: `max_epochs=30` reached.\n"
     ]
    },
    {
     "name": "stdout",
     "output_type": "stream",
     "text": [
      "Epoch 29: 100%|██████████| 1875/1875 [01:17<00:00, 24.18it/s, v_num=0, test_loss=0.0865, test_acc=98.50]"
     ]
    },
    {
     "name": "stderr",
     "output_type": "stream",
     "text": [
      "LOCAL_RANK: 0 - CUDA_VISIBLE_DEVICES: [0]\n",
      "c:\\Users\\Dave\\AppData\\Local\\Programs\\Python\\Python310\\lib\\site-packages\\pytorch_lightning\\trainer\\connectors\\data_connector.py:432: PossibleUserWarning: The dataloader, test_dataloader, does not have many workers which may be a bottleneck. Consider increasing the value of the `num_workers` argument` (try 8 which is the number of cpus on this machine) in the `DataLoader` init to improve performance.\n",
      "  rank_zero_warn(\n"
     ]
    },
    {
     "name": "stdout",
     "output_type": "stream",
     "text": [
      "\n",
      "Testing DataLoader 0: 100%|██████████| 313/313 [00:04<00:00, 68.98it/s]| Test loss: 0.0864705964922905 | Test accuracy: 98.5223617553711\n",
      "Testing DataLoader 0: 100%|██████████| 313/313 [00:04<00:00, 68.87it/s]\n",
      "────────────────────────────────────────────────────────────────────────────────────────────────────────────────────────\n",
      "       Test metric             DataLoader 0\n",
      "────────────────────────────────────────────────────────────────────────────────────────────────────────────────────────\n",
      "        test_acc             98.5223617553711\n",
      "        test_loss           0.0864705964922905\n",
      "────────────────────────────────────────────────────────────────────────────────────────────────────────────────────────\n"
     ]
    }
   ],
   "source": [
    "if __name__ == '__main__':\n",
    "    args = get_args()\n",
    "    datamodule = LitMNIST(batch_size=args.batch_size, patch_num=args.patch_num, num_workers=args.num_workers*args.devices)\n",
    "    datamodule.prepare_data()\n",
    "\n",
    "    data = next(iter(datamodule.train_dataloader()))\n",
    "    patch_dim = data[0].shape[-1]\n",
    "    seqlen = data[0].shape[-2]\n",
    "    print(f'Patch Dimension: {patch_dim}')\n",
    "\n",
    "    model = VisionTransformer(num_classes=10, lr=args.lr, max_epochs=args.max_epochs, depth=args.depth, embed_dim=args.embed_dim, \n",
    "                              head=args.num_heads, patch_dim=patch_dim, seqlen=seqlen, pos_embed=args.pos_embed)\n",
    "    \n",
    "    model_checkpoint = ModelCheckpoint(\n",
    "        dirpath=os.path.join(args.path, \"checkpoints\"),\n",
    "        filename=\"mnist-vit-best-acc\",\n",
    "        save_top_k=1,\n",
    "        verbose=True,\n",
    "        monitor='test_acc',\n",
    "        mode='max')\n",
    "    \n",
    "    trainer = Trainer(accelerator=args.accelerator, devices=args.devices, max_epochs=args.max_epochs,\n",
    "                      precision=16 if args.accelerator=='gpu' else 32, callbacks=model_checkpoint)\n",
    "    trainer.fit(model=model, datamodule=datamodule)\n",
    "    trainer.test(model=model, datamodule=datamodule)\n",
    "\n",
    "    model = model.load_from_checkpoint(os.path.join(args.path, \"checkpoints\", \"mnist-vit-best-acc.ckpt\"))\n",
    "    model.eval()\n",
    "    script = model.to_torchscript()\n",
    "    model_path = os.path.join(args.path, \"checkpoints\", \"mnist-vit-best-acc.pt\")\n",
    "    torch.jit.save(script, model_path)"
   ]
  },
  {
   "cell_type": "markdown",
   "metadata": {},
   "source": [
    "#### Notes\n",
    "* The ViT model has $161k$ parameters and has an estimated model parameter size of $645 kB$. This is smaller compared to the [MLP Model](https://github.com/davidpiscasio/deep-learning/blob/main/MLP/mlp.ipynb) that has $269k$ parameters and an estimated model parameter size of $1.077 MB$ but larger than the [CNN Model](https://github.com/davidpiscasio/machine-learning/blob/main/CNN/cnn.ipynb) that only has $10.6k$ parameters and an estimated parameter size of $42 kB$.\n",
    "* Upon testing the accuracy of the vision transformer model, we observe that it actually performs relatively well at a test accuracy of $98.52\\%$, which slightly edges both the MLP ($98.49\\%$) and CNN ($98.50\\%$) models. However, given the difference in model size, we can say that the CNN model still performs best on a performance-to-size ratio."
   ]
  },
  {
   "cell_type": "markdown",
   "metadata": {},
   "source": [
    "#### Inference of the trained model on handwritten digits\n",
    "Now that we have successfully trained and saved the model, we use the model for inference on handwritten digits. Looking at the figure below, we see that the model committed mistakes in classifying some digits, specifically $7$, $8$, $2$, and $5$."
   ]
  },
  {
   "cell_type": "code",
   "execution_count": 16,
   "metadata": {},
   "outputs": [
    {
     "data": {
      "image/png": "[encoded data removed]",
      "text/plain": [
       "<Figure size 1000x500 with 10 Axes>"
      ]
     },
     "metadata": {},
     "output_type": "display_data"
    }
   ],
   "source": [
    "scripted_module = torch.jit.load('models/checkpoints/mnist-vit-best-acc.pt')\n",
    "transform = torchvision.transforms.Compose([torchvision.transforms.Resize((28,28)),\n",
    "                                torchvision.transforms.ToTensor(),\n",
    "                                torchvision.transforms.Grayscale(num_output_channels=1)])\n",
    "\n",
    "patch_num = 4\n",
    "# create figure\n",
    "fig = plt.figure(figsize=(10, 5))\n",
    "  \n",
    "# setting values to rows and column variables\n",
    "rows = 2\n",
    "columns = 5\n",
    "\n",
    "imgs = [Image.open('digits/digit0.png'), \n",
    "        Image.open('digits/digit1.png'),\n",
    "        Image.open('digits/digit2.png'),\n",
    "        Image.open('digits/digit3.png'),\n",
    "        Image.open('digits/digit4.png'),\n",
    "        Image.open('digits/digit5.png'),\n",
    "        Image.open('digits/digit6.png'),\n",
    "        Image.open('digits/digit7.png'),\n",
    "        Image.open('digits/digit8.png'),\n",
    "        Image.open('digits/digit9.png')]\n",
    "\n",
    "for i, img in enumerate(imgs):\n",
    "    img = img.convert('RGB')\n",
    "    fig.add_subplot(rows, columns, i+1)\n",
    "    plt.imshow(img)\n",
    "    plt.axis('off')\n",
    "    img = transform(img)\n",
    "    img = torch.unsqueeze(img,0)\n",
    "    img = rearrange(img, 'b c (p1 h) (p2 w) -> b (p1 p2) (c h w)', p1=patch_num, p2=patch_num)\n",
    "    img = img.to('cuda')\n",
    "    y_hat = scripted_module(img)\n",
    "    y_pred = torch.argmax(y_hat, dim=1)[0]\n",
    "    plt.title(f\"Prediction: {y_pred}\")"
   ]
  },
  {
   "cell_type": "markdown",
   "metadata": {},
   "source": [
    "However, as we made the handwriting of the digits thicker, we see a significant boost in its performance as it now predicts all digits correctly."
   ]
  },
  {
   "cell_type": "code",
   "execution_count": 17,
   "metadata": {},
   "outputs": [
    {
     "data": {
      "image/png": "[encoded data removed]",
      "text/plain": [
       "<Figure size 1000x500 with 10 Axes>"
      ]
     },
     "metadata": {},
     "output_type": "display_data"
    }
   ],
   "source": [
    "# create figure\n",
    "fig = plt.figure(figsize=(10, 5))\n",
    "  \n",
    "# setting values to rows and column variables\n",
    "rows = 2\n",
    "columns = 5\n",
    "\n",
    "imgs = [Image.open('digits/digit10.png'), \n",
    "        Image.open('digits/digit11.png'),\n",
    "        Image.open('digits/digit12.png'),\n",
    "        Image.open('digits/digit13.png'),\n",
    "        Image.open('digits/digit14.png'),\n",
    "        Image.open('digits/digit15.png'),\n",
    "        Image.open('digits/digit16.png'),\n",
    "        Image.open('digits/digit17.png'),\n",
    "        Image.open('digits/digit18.png'),\n",
    "        Image.open('digits/digit19.png')]\n",
    "        \n",
    "for i, img in enumerate(imgs):\n",
    "    img = img.convert('RGB')\n",
    "    fig.add_subplot(rows, columns, i+1)\n",
    "    plt.imshow(img)\n",
    "    plt.axis('off')\n",
    "    img = transform(img)\n",
    "    img = torch.unsqueeze(img,0)\n",
    "    img = rearrange(img, 'b c (p1 h) (p2 w) -> b (p1 p2) (c h w)', p1=patch_num, p2=patch_num)\n",
    "    img = img.to('cuda')\n",
    "    y_hat = scripted_module(img)\n",
    "    y_pred = torch.argmax(y_hat, dim=1)[0]\n",
    "    plt.title(f\"Prediction: {y_pred}\")"
   ]
  },
  {
   "cell_type": "markdown",
   "metadata": {},
   "source": [
    "To confirm if the vision transformer considers the position of the image patches through positional embedding, we look at its performance if the patches are shuffled. We observe that, although the images used are still the same, the model cannot predict the class correctly when the patches are shuffled. Thus, we can confirm that the positional embedding of our ViT model is useful. "
   ]
  },
  {
   "cell_type": "code",
   "execution_count": 5,
   "metadata": {},
   "outputs": [
    {
     "data": {
      "image/png": "[encoded data removed]",
      "text/plain": [
       "<Figure size 1000x500 with 10 Axes>"
      ]
     },
     "metadata": {},
     "output_type": "display_data"
    }
   ],
   "source": [
    "# create figure\n",
    "fig = plt.figure(figsize=(10, 5))\n",
    "  \n",
    "# setting values to rows and column variables\n",
    "rows = 2\n",
    "columns = 5\n",
    "\n",
    "imgs = [Image.open('digits/shuffled_digit10.png'), \n",
    "        Image.open('digits/shuffled_digit11.png'),\n",
    "        Image.open('digits/shuffled_digit12.png'),\n",
    "        Image.open('digits/shuffled_digit13.png'),\n",
    "        Image.open('digits/shuffled_digit14.png'),\n",
    "        Image.open('digits/shuffled_digit15.png'),\n",
    "        Image.open('digits/shuffled_digit16.png'),\n",
    "        Image.open('digits/shuffled_digit17.png'),\n",
    "        Image.open('digits/shuffled_digit18.png'),\n",
    "        Image.open('digits/shuffled_digit19.png')]\n",
    "        \n",
    "for i, img in enumerate(imgs):\n",
    "    img = img.convert('RGB')\n",
    "    fig.add_subplot(rows, columns, i+1)\n",
    "    plt.imshow(img)\n",
    "    plt.axis('off')\n",
    "    img = transform(img)\n",
    "    img = torch.unsqueeze(img,0)\n",
    "    img = rearrange(img, 'b c (p1 h) (p2 w) -> b (p1 p2) (c h w)', p1=patch_num, p2=patch_num)\n",
    "    img = img.to('cuda')\n",
    "    y_hat = scripted_module(img)\n",
    "    y_pred = torch.argmax(y_hat, dim=1)[0]\n",
    "    plt.title(f\"Prediction: {y_pred}\")"
   ]
  }
 ],
 "metadata": {
  "kernelspec": {
   "display_name": "Python 3",
   "language": "python",
   "name": "python3"
  },
  "language_info": {
   "codemirror_mode": {
    "name": "ipython",
    "version": 3
   },
   "file_extension": ".py",
   "mimetype": "text/x-python",
   "name": "python",
   "nbconvert_exporter": "python",
   "pygments_lexer": "ipython3",
   "version": "3.10.11"
  },
  "orig_nbformat": 4
 },
 "nbformat": 4,
 "nbformat_minor": 2
}
