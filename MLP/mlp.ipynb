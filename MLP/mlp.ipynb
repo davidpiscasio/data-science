{
 "cells": [
  {
   "cell_type": "markdown",
   "metadata": {},
   "source": [
    "# Multilayer Perceptron (MLP)\n",
    "In this notebook, we build a multilayer perceptron for digit recognition trained on the MNIST dataset. We used [Deep-Learning-Experiments](https://github.com/roatienza/Deep-Learning-Experiments/blob/master/versions/2022/mlp/python/mlp_pytorch_demo.ipynb) as reference."
   ]
  },
  {
   "cell_type": "code",
   "execution_count": 29,
   "metadata": {},
   "outputs": [
    {
     "name": "stderr",
     "output_type": "stream",
     "text": [
      "c:\\Users\\Dave\\AppData\\Local\\Programs\\Python\\Python310\\lib\\site-packages\\torchaudio\\backend\\utils.py:74: UserWarning: No audio backend is available.\n",
      "  warnings.warn(\"No audio backend is available.\")\n"
     ]
    }
   ],
   "source": [
    "# Import necessary libraries\n",
    "import os\n",
    "import torch\n",
    "from torch import nn\n",
    "import torchvision\n",
    "import pytorch_lightning as pl\n",
    "from pytorch_lightning.callbacks import ModelCheckpoint\n",
    "from torchmetrics import Accuracy\n",
    "from torch.optim import SGD, Adam\n",
    "from torch.optim.lr_scheduler import CosineAnnealingLR\n",
    "#from einops import rearrange # We will not use this since it does not work with to_torchscript()\n",
    "from argparse import ArgumentParser\n",
    "from PIL import Image\n",
    "from matplotlib import pyplot as plt"
   ]
  },
  {
   "cell_type": "markdown",
   "metadata": {},
   "source": [
    "We create a simple 4-layer multilayer perceptron for digit recognition. We use torch.nn.Module as superclass to remove boilerplate code. The number of input features corresponds to the input image size for the MNIST dataset, which is $28\\times28$ (It is grayscale so we do not need to multiply by 3). The number of nodes in the hidden layers is set to $256$. Finally, the number of classes is set to $10$, corresponding to the number of possible digits in the MNIST dataset."
   ]
  },
  {
   "cell_type": "code",
   "execution_count": 30,
   "metadata": {},
   "outputs": [],
   "source": [
    "class MultilayerPerceptron(nn.Module):\n",
    "    def __init__(self, num_features=28*28, num_hidden=256, num_classes=10):\n",
    "        # Initiate the nn.Module superclass\n",
    "        super().__init__()\n",
    "\n",
    "        # Build the layers of the MLP\n",
    "        self.fc_in = nn.Linear(num_features,num_hidden)\n",
    "        self.fc_hid = nn.Linear(num_hidden,num_hidden)\n",
    "        self.fc_out = nn.Linear(num_hidden,num_classes)\n",
    "\n",
    "        # Set up the activation function (we choose ReLU) and the softmax function (for the output).\n",
    "        self.relu = nn.ReLU()\n",
    "        self.softmax = nn.Softmax(dim=1) # Comment if using CrossEntropyLoss()\n",
    "\n",
    "    def forward(self, x):\n",
    "        # Flatten the input x from bx1x28x28 to 1x1*28*28=784 to match num_features.\n",
    "        #y = rearrange(x, 'b c h w -> b (c h w)') # Intuitive version using einops\n",
    "        y = torch.flatten(x, 1)\n",
    "\n",
    "        # Feed the rearranged input data to the input layer, then feed to the activation function.\n",
    "        y = self.fc_in(y)\n",
    "        y = self.relu(y)\n",
    "\n",
    "        # Do the same for the 2 hidden layers.\n",
    "        y = self.fc_hid(y)\n",
    "        y = self.relu(y)\n",
    "        y = self.fc_hid(y)\n",
    "        y = self.relu(y)\n",
    "\n",
    "        # Feed the resulting tensor into the output layer. ReLU activation function is not needed since softmax is used for it.\n",
    "        y = self.fc_out(y)\n",
    "        y = self.softmax(y) # Comment if using CrossEntropyLoss()\n",
    "\n",
    "        return y"
   ]
  },
  {
   "cell_type": "markdown",
   "metadata": {},
   "source": [
    "We now perform the necessary preparations for the dataset and training, using the PyTorch Lightning module."
   ]
  },
  {
   "cell_type": "code",
   "execution_count": 31,
   "metadata": {},
   "outputs": [],
   "source": [
    "class MNISTMLPModel(pl.LightningModule):\n",
    "    def __init__(self, lr=0.001, batch_size=64, num_workers=1, max_epochs=30, model=MultilayerPerceptron, optim=\"adam\"):\n",
    "        # Initiate LightningModule superclass\n",
    "        super().__init__()\n",
    "        self.train_step_outputs = []\n",
    "        self.test_step_outputs = []\n",
    "\n",
    "        # Set up other parameters\n",
    "        self.save_hyperparameters()\n",
    "        self.model = model()\n",
    "\n",
    "        # Set up loss function (Mean Squared Error) and accuracy\n",
    "        self.loss = nn.MSELoss()\n",
    "        #self.loss = nn.CrossEntropyLoss()\n",
    "        self.accuracy = Accuracy(task=\"multiclass\", num_classes=10)\n",
    "        self.optim = optim \n",
    "\n",
    "    def forward(self,x):\n",
    "        return self.model(x)\n",
    "\n",
    "    def training_step(self, batch, batch_idx):\n",
    "        x, y = batch\n",
    "        # Perform one-hot encoding on y first\n",
    "        y = self.mnist_one_hot(y) # Comment if using CrossEntropyLoss()\n",
    "        y_hat = self.forward(x)\n",
    "        loss = self.loss(y_hat, y)\n",
    "        self.train_step_outputs.append({\"loss\": loss})\n",
    "        return loss\n",
    "    \n",
    "    def on_train_epoch_end(self):\n",
    "        avg_loss = torch.stack([x[\"loss\"] for x in self.train_step_outputs]).mean()\n",
    "        print(f'Train loss: {avg_loss}')\n",
    "        self.train_step_outputs.clear()\n",
    "        self.log(\"train_loss\", avg_loss, on_epoch=True)\n",
    "    \n",
    "    def test_step(self, batch, batch_idx):\n",
    "        x, y = batch\n",
    "        # Perform one-hot encoding on y first. We keep the original y for the accuracy\n",
    "        y_oh = self.mnist_one_hot(y) # Comment if using CrossEntropyLoss()\n",
    "        y_hat = self.forward(x)\n",
    "        loss = self.loss(y_hat, y_oh) # Comment if using CrossEntropyLoss()\n",
    "        #loss = self.loss(y_hat, y) # Uncomment if using CrossEntropyLoss()\n",
    "        # We get the predictions through argmax\n",
    "        y_preds = torch.argmax(y_hat, dim=1)\n",
    "        acc = self.accuracy(y, y_preds) * 100. # Comment if using CrossEntropyLoss()\n",
    "        #acc = self.accuracy(y, y_hat) * 100. # Uncomment if using CrossEntropyLoss()\n",
    "        self.test_step_outputs.append({\"y_hat\": y_hat, \"test_loss\": loss, \"test_acc\": acc})\n",
    "        return y_hat, loss, acc\n",
    "    \n",
    "    def on_test_epoch_end(self):\n",
    "        avg_loss = torch.stack([x[\"test_loss\"] for x in self.test_step_outputs]).mean()\n",
    "        avg_acc = torch.stack([x[\"test_acc\"] for x in self.test_step_outputs]).mean()\n",
    "        print(f'Test loss: {avg_loss}')\n",
    "        print(f'Test accuracy: {avg_acc}')\n",
    "        self.test_step_outputs.clear()\n",
    "        self.log(\"test_loss\", avg_loss, on_epoch=True, prog_bar=True)\n",
    "        self.log(\"test_acc\", avg_acc, on_epoch=True, prog_bar=True)\n",
    "\n",
    "    def validation_step(self, batch, batch_idx):\n",
    "       return self.test_step(batch, batch_idx)\n",
    "\n",
    "    def on_validation_epoch_end(self):\n",
    "        return self.on_test_epoch_end()\n",
    "    \n",
    "    def configure_optimizers(self):\n",
    "        if self.optim == \"adam\":\n",
    "            optimizer = Adam(self.parameters(), lr=self.hparams.lr)\n",
    "        elif self.optim == \"sgd\":\n",
    "            optimizer = SGD(self.parameters(), lr=self.hparams.lr)\n",
    "        scheduler = CosineAnnealingLR(optimizer, T_max=self.hparams.max_epochs)\n",
    "        return [optimizer], [scheduler]\n",
    "    \n",
    "    # Settings from https://nextjournal.com/gkoehler/pytorch-mnist\n",
    "    def train_dataloader(self):\n",
    "        return torch.utils.data.DataLoader(\n",
    "            torchvision.datasets.MNIST('/files/', train=True, download=True,\n",
    "                                        transform=torchvision.transforms.ToTensor()), \n",
    "                                        batch_size=self.hparams.batch_size, shuffle=True, pin_memory=True)\n",
    "    \n",
    "    def test_dataloader(self):\n",
    "        return torch.utils.data.DataLoader(\n",
    "            torchvision.datasets.MNIST('/files/', train=False, download=True,\n",
    "                                        transform=torchvision.transforms.ToTensor()), \n",
    "                                        batch_size=self.hparams.batch_size, shuffle=False, pin_memory=True)\n",
    "    \n",
    "    def val_dataloader(self):\n",
    "        return self.test_dataloader()\n",
    "    \n",
    "    def setup(self, stage=None):\n",
    "        self.train_dataloader()\n",
    "        self.test_dataloader()\n",
    "\n",
    "    # Perform MNIST-specific one-hot encoding\n",
    "    def mnist_one_hot(self, x):\n",
    "        device = 'cuda' if 'cuda' in str(x.device) else 'cpu'\n",
    "        y_oh = torch.zeros(size=(x.shape[0],10), device=device)\n",
    "        y_oh.to(device)\n",
    "        for i, y in enumerate(x):\n",
    "            y_oh[i,y] = 1\n",
    "        return y_oh.float()"
   ]
  },
  {
   "cell_type": "markdown",
   "metadata": {},
   "source": [
    "After setting up the model, the datasets, and the train/test/validation configurations, we set up the arguments."
   ]
  },
  {
   "cell_type": "code",
   "execution_count": 32,
   "metadata": {},
   "outputs": [],
   "source": [
    "def get_args():\n",
    "    parser = ArgumentParser(description=\"PyTorch Lightning MNIST Example\")\n",
    "    parser.add_argument(\"--epochs\", type=int, default=30, help=\"num epochs\")\n",
    "    parser.add_argument(\"--batch-size\", type=int, default=64, help=\"batch size\")\n",
    "    parser.add_argument(\"--lr\", type=float, default=0.001, help=\"learning rate\")\n",
    "\n",
    "    parser.add_argument(\"--num-classes\", type=int, default=10, help=\"num classes\")\n",
    "\n",
    "    parser.add_argument(\"--optim\", default=\"adam\", help=\"optimizer\")\n",
    "    # Verify device count with torch.cuda.device_count()\n",
    "    parser.add_argument(\"--devices\", default=1)\n",
    "    # Verify CUDA availability with torch.cuda.is_available())\n",
    "    parser.add_argument(\"--accelerator\", default='gpu')\n",
    "    # Recommended: num_workers = (os.cpu_count() // 2) // torch.cuda.device_count()\n",
    "    parser.add_argument(\"--num-workers\", type=int, default=4, help=\"num workers\")\n",
    "\n",
    "    parser.add_argument(\"--model\", default=MultilayerPerceptron)\n",
    "    parser.add_argument(\"--path\", default=\"models\", help=\"Model save path\")\n",
    "    args = parser.parse_args(\"\")\n",
    "    return args"
   ]
  },
  {
   "cell_type": "markdown",
   "metadata": {},
   "source": [
    "Now, we train the MLP model with the MNIST dataset"
   ]
  },
  {
   "cell_type": "code",
   "execution_count": 33,
   "metadata": {},
   "outputs": [
    {
     "name": "stderr",
     "output_type": "stream",
     "text": [
      "GPU available: True (cuda), used: True\n",
      "TPU available: False, using: 0 TPU cores\n",
      "IPU available: False, using: 0 IPUs\n",
      "HPU available: False, using: 0 HPUs\n"
     ]
    },
    {
     "name": "stdout",
     "output_type": "stream",
     "text": [
      "MNISTMLPModel(\n",
      "  (model): MultilayerPerceptron(\n",
      "    (fc_in): Linear(in_features=784, out_features=256, bias=True)\n",
      "    (fc_hid): Linear(in_features=256, out_features=256, bias=True)\n",
      "    (fc_out): Linear(in_features=256, out_features=10, bias=True)\n",
      "    (relu): ReLU()\n",
      "    (softmax): Softmax(dim=1)\n",
      "  )\n",
      "  (loss): MSELoss()\n",
      "  (accuracy): MulticlassAccuracy()\n",
      ")\n"
     ]
    },
    {
     "name": "stderr",
     "output_type": "stream",
     "text": [
      "c:\\Users\\Dave\\AppData\\Local\\Programs\\Python\\Python310\\lib\\site-packages\\pytorch_lightning\\trainer\\connectors\\logger_connector\\logger_connector.py:67: UserWarning: Starting from v1.9.0, `tensorboardX` has been removed as a dependency of the `pytorch_lightning` package, due to potential conflicts with other packages in the ML ecosystem. For this reason, `logger=True` will use `CSVLogger` as the default logger, unless the `tensorboard` or `tensorboardX` packages are found. Please `pip install lightning[extra]` or one of them to enable TensorBoard support by default\n",
      "  warning_cache.warn(\n",
      "LOCAL_RANK: 0 - CUDA_VISIBLE_DEVICES: [0]\n",
      "\n",
      "  | Name     | Type                 | Params\n",
      "--------------------------------------------------\n",
      "0 | model    | MultilayerPerceptron | 269 K \n",
      "1 | loss     | MSELoss              | 0     \n",
      "2 | accuracy | MulticlassAccuracy   | 0     \n",
      "--------------------------------------------------\n",
      "269 K     Trainable params\n",
      "0         Non-trainable params\n",
      "269 K     Total params\n",
      "1.077     Total estimated model params size (MB)\n"
     ]
    },
    {
     "name": "stdout",
     "output_type": "stream",
     "text": [
      "Sanity Checking: 0it [00:00, ?it/s]"
     ]
    },
    {
     "name": "stderr",
     "output_type": "stream",
     "text": [
      "c:\\Users\\Dave\\AppData\\Local\\Programs\\Python\\Python310\\lib\\site-packages\\pytorch_lightning\\trainer\\connectors\\data_connector.py:432: PossibleUserWarning: The dataloader, val_dataloader, does not have many workers which may be a bottleneck. Consider increasing the value of the `num_workers` argument` (try 8 which is the number of cpus on this machine) in the `DataLoader` init to improve performance.\n",
      "  rank_zero_warn(\n"
     ]
    },
    {
     "name": "stdout",
     "output_type": "stream",
     "text": [
      "Sanity Checking DataLoader 0: 100%|██████████| 2/2 [00:00<00:00, 12.43it/s]Test loss: 0.09012538194656372\n",
      "Test accuracy: 10.15625\n",
      "                                                                           \r"
     ]
    },
    {
     "name": "stderr",
     "output_type": "stream",
     "text": [
      "c:\\Users\\Dave\\AppData\\Local\\Programs\\Python\\Python310\\lib\\site-packages\\pytorch_lightning\\trainer\\connectors\\data_connector.py:432: PossibleUserWarning: The dataloader, train_dataloader, does not have many workers which may be a bottleneck. Consider increasing the value of the `num_workers` argument` (try 8 which is the number of cpus on this machine) in the `DataLoader` init to improve performance.\n",
      "  rank_zero_warn(\n"
     ]
    },
    {
     "name": "stdout",
     "output_type": "stream",
     "text": [
      "Epoch 0: 100%|██████████| 938/938 [00:16<00:00, 58.56it/s, v_num=4]Test loss: 0.0069993119686841965\n",
      "Test accuracy: 95.33240509033203\n",
      "Epoch 0: 100%|██████████| 938/938 [00:18<00:00, 49.47it/s, v_num=4, test_loss=0.007, test_acc=95.30]Train loss: 0.013392632827162743\n"
     ]
    },
    {
     "name": "stderr",
     "output_type": "stream",
     "text": [
      "Epoch 0, global step 938: 'test_acc' reached 95.33241 (best 95.33241), saving model to 'C:\\\\Users\\\\Dave\\\\Documents\\\\Experiments\\\\deep-learning\\\\MLP\\\\models\\\\checkpoints\\\\mnist-mlp-best-acc.ckpt' as top 1\n"
     ]
    },
    {
     "name": "stdout",
     "output_type": "stream",
     "text": [
      "Epoch 1: 100%|██████████| 938/938 [00:16<00:00, 56.70it/s, v_num=4, test_loss=0.007, test_acc=95.30]Test loss: 0.005538353696465492\n",
      "Test accuracy: 96.25796508789062\n",
      "Epoch 1: 100%|██████████| 938/938 [00:19<00:00, 47.86it/s, v_num=4, test_loss=0.00554, test_acc=96.30]"
     ]
    },
    {
     "name": "stderr",
     "output_type": "stream",
     "text": [
      "Epoch 1, global step 1876: 'test_acc' reached 96.25797 (best 96.25797), saving model to 'C:\\\\Users\\\\Dave\\\\Documents\\\\Experiments\\\\deep-learning\\\\MLP\\\\models\\\\checkpoints\\\\mnist-mlp-best-acc.ckpt' as top 1\n"
     ]
    },
    {
     "name": "stdout",
     "output_type": "stream",
     "text": [
      "Train loss: 0.005825435277074575\n",
      "Epoch 2: 100%|██████████| 938/938 [00:17<00:00, 53.05it/s, v_num=4, test_loss=0.00554, test_acc=96.30]Test loss: 0.004585565999150276\n",
      "Test accuracy: 97.044189453125\n",
      "Epoch 2: 100%|██████████| 938/938 [00:21<00:00, 44.48it/s, v_num=4, test_loss=0.00459, test_acc=97.00]Train loss: 0.004293776582926512\n"
     ]
    },
    {
     "name": "stderr",
     "output_type": "stream",
     "text": [
      "Epoch 2, global step 2814: 'test_acc' reached 97.04419 (best 97.04419), saving model to 'C:\\\\Users\\\\Dave\\\\Documents\\\\Experiments\\\\deep-learning\\\\MLP\\\\models\\\\checkpoints\\\\mnist-mlp-best-acc.ckpt' as top 1\n"
     ]
    },
    {
     "name": "stdout",
     "output_type": "stream",
     "text": [
      "Epoch 3: 100%|██████████| 938/938 [00:17<00:00, 53.26it/s, v_num=4, test_loss=0.00459, test_acc=97.00]Test loss: 0.004366828594356775\n",
      "Test accuracy: 97.25318908691406\n",
      "Epoch 3: 100%|██████████| 938/938 [00:20<00:00, 45.44it/s, v_num=4, test_loss=0.00437, test_acc=97.30]Train loss: 0.0034898649901151657\n"
     ]
    },
    {
     "name": "stderr",
     "output_type": "stream",
     "text": [
      "Epoch 3, global step 3752: 'test_acc' reached 97.25319 (best 97.25319), saving model to 'C:\\\\Users\\\\Dave\\\\Documents\\\\Experiments\\\\deep-learning\\\\MLP\\\\models\\\\checkpoints\\\\mnist-mlp-best-acc.ckpt' as top 1\n"
     ]
    },
    {
     "name": "stdout",
     "output_type": "stream",
     "text": [
      "Epoch 4: 100%|██████████| 938/938 [00:16<00:00, 56.75it/s, v_num=4, test_loss=0.00437, test_acc=97.30]Test loss: 0.004164212848991156\n",
      "Test accuracy: 97.34275817871094\n",
      "Epoch 4: 100%|██████████| 938/938 [00:19<00:00, 47.88it/s, v_num=4, test_loss=0.00416, test_acc=97.30]"
     ]
    },
    {
     "name": "stderr",
     "output_type": "stream",
     "text": [
      "Epoch 4, global step 4690: 'test_acc' reached 97.34276 (best 97.34276), saving model to 'C:\\\\Users\\\\Dave\\\\Documents\\\\Experiments\\\\deep-learning\\\\MLP\\\\models\\\\checkpoints\\\\mnist-mlp-best-acc.ckpt' as top 1\n"
     ]
    },
    {
     "name": "stdout",
     "output_type": "stream",
     "text": [
      "Train loss: 0.002886819653213024\n",
      "Epoch 5: 100%|██████████| 938/938 [00:16<00:00, 55.76it/s, v_num=4, test_loss=0.00416, test_acc=97.30]Test loss: 0.0043442994356155396\n",
      "Test accuracy: 97.21337890625\n",
      "Epoch 5: 100%|██████████| 938/938 [00:19<00:00, 47.28it/s, v_num=4, test_loss=0.00434, test_acc=97.20]Train loss: 0.002498761285096407\n"
     ]
    },
    {
     "name": "stderr",
     "output_type": "stream",
     "text": [
      "Epoch 5, global step 5628: 'test_acc' was not in top 1\n"
     ]
    },
    {
     "name": "stdout",
     "output_type": "stream",
     "text": [
      "Epoch 6: 100%|██████████| 938/938 [00:17<00:00, 54.36it/s, v_num=4, test_loss=0.00434, test_acc=97.20]Test loss: 0.003666006028652191\n",
      "Test accuracy: 97.69108581542969\n",
      "Epoch 6: 100%|██████████| 938/938 [00:20<00:00, 46.16it/s, v_num=4, test_loss=0.00367, test_acc=97.70]Train loss: 0.0022061667405068874\n"
     ]
    },
    {
     "name": "stderr",
     "output_type": "stream",
     "text": [
      "Epoch 6, global step 6566: 'test_acc' reached 97.69109 (best 97.69109), saving model to 'C:\\\\Users\\\\Dave\\\\Documents\\\\Experiments\\\\deep-learning\\\\MLP\\\\models\\\\checkpoints\\\\mnist-mlp-best-acc.ckpt' as top 1\n"
     ]
    },
    {
     "name": "stdout",
     "output_type": "stream",
     "text": [
      "Epoch 7: 100%|██████████| 938/938 [00:17<00:00, 53.31it/s, v_num=4, test_loss=0.00367, test_acc=97.70]Test loss: 0.0036859270185232162\n",
      "Test accuracy: 97.71099090576172\n",
      "Epoch 7: 100%|██████████| 938/938 [00:20<00:00, 45.09it/s, v_num=4, test_loss=0.00369, test_acc=97.70]"
     ]
    },
    {
     "name": "stderr",
     "output_type": "stream",
     "text": [
      "Epoch 7, global step 7504: 'test_acc' reached 97.71099 (best 97.71099), saving model to 'C:\\\\Users\\\\Dave\\\\Documents\\\\Experiments\\\\deep-learning\\\\MLP\\\\models\\\\checkpoints\\\\mnist-mlp-best-acc.ckpt' as top 1\n"
     ]
    },
    {
     "name": "stdout",
     "output_type": "stream",
     "text": [
      "Train loss: 0.0018876870162785053\n",
      "Epoch 8: 100%|██████████| 938/938 [00:17<00:00, 52.46it/s, v_num=4, test_loss=0.00369, test_acc=97.70]Test loss: 0.003496187971904874\n",
      "Test accuracy: 97.93988800048828\n",
      "Epoch 8: 100%|██████████| 938/938 [00:20<00:00, 45.56it/s, v_num=4, test_loss=0.0035, test_acc=97.90] Train loss: 0.0017259863670915365\n"
     ]
    },
    {
     "name": "stderr",
     "output_type": "stream",
     "text": [
      "Epoch 8, global step 8442: 'test_acc' reached 97.93989 (best 97.93989), saving model to 'C:\\\\Users\\\\Dave\\\\Documents\\\\Experiments\\\\deep-learning\\\\MLP\\\\models\\\\checkpoints\\\\mnist-mlp-best-acc.ckpt' as top 1\n"
     ]
    },
    {
     "name": "stdout",
     "output_type": "stream",
     "text": [
      "Epoch 9: 100%|██████████| 938/938 [00:17<00:00, 53.37it/s, v_num=4, test_loss=0.0035, test_acc=97.90]Test loss: 0.0030407970771193504\n",
      "Test accuracy: 98.12898254394531\n",
      "Epoch 9: 100%|██████████| 938/938 [00:20<00:00, 45.76it/s, v_num=4, test_loss=0.00304, test_acc=98.10]Train loss: 0.001533773262053728\n"
     ]
    },
    {
     "name": "stderr",
     "output_type": "stream",
     "text": [
      "Epoch 9, global step 9380: 'test_acc' reached 98.12898 (best 98.12898), saving model to 'C:\\\\Users\\\\Dave\\\\Documents\\\\Experiments\\\\deep-learning\\\\MLP\\\\models\\\\checkpoints\\\\mnist-mlp-best-acc.ckpt' as top 1\n"
     ]
    },
    {
     "name": "stdout",
     "output_type": "stream",
     "text": [
      "Epoch 10: 100%|██████████| 938/938 [00:17<00:00, 52.14it/s, v_num=4, test_loss=0.00304, test_acc=98.10]Test loss: 0.003216586308553815\n",
      "Test accuracy: 98.03941345214844\n",
      "Epoch 10: 100%|██████████| 938/938 [00:21<00:00, 44.34it/s, v_num=4, test_loss=0.00322, test_acc=98.00]"
     ]
    },
    {
     "name": "stderr",
     "output_type": "stream",
     "text": [
      "Epoch 10, global step 10318: 'test_acc' was not in top 1\n"
     ]
    },
    {
     "name": "stdout",
     "output_type": "stream",
     "text": [
      "Train loss: 0.0012545146746560931\n",
      "Epoch 11: 100%|██████████| 938/938 [00:17<00:00, 54.58it/s, v_num=4, test_loss=0.00322, test_acc=98.00]Test loss: 0.003212718525901437\n",
      "Test accuracy: 97.98965454101562\n",
      "Epoch 11: 100%|██████████| 938/938 [00:20<00:00, 46.41it/s, v_num=4, test_loss=0.00321, test_acc=98.00]Train loss: 0.0012342645786702633\n"
     ]
    },
    {
     "name": "stderr",
     "output_type": "stream",
     "text": [
      "Epoch 11, global step 11256: 'test_acc' was not in top 1\n"
     ]
    },
    {
     "name": "stdout",
     "output_type": "stream",
     "text": [
      "Epoch 12: 100%|██████████| 938/938 [00:17<00:00, 53.93it/s, v_num=4, test_loss=0.00321, test_acc=98.00]Test loss: 0.0033904877491295338\n",
      "Test accuracy: 97.92993927001953\n",
      "Epoch 12: 100%|██████████| 938/938 [00:20<00:00, 45.54it/s, v_num=4, test_loss=0.00339, test_acc=97.90]Train loss: 0.0010383110493421555\n"
     ]
    },
    {
     "name": "stderr",
     "output_type": "stream",
     "text": [
      "Epoch 12, global step 12194: 'test_acc' was not in top 1\n"
     ]
    },
    {
     "name": "stdout",
     "output_type": "stream",
     "text": [
      "Epoch 13: 100%|██████████| 938/938 [00:17<00:00, 53.78it/s, v_num=4, test_loss=0.00339, test_acc=97.90]Test loss: 0.002818945562466979\n",
      "Test accuracy: 98.3280258178711\n",
      "Epoch 13: 100%|██████████| 938/938 [00:20<00:00, 45.99it/s, v_num=4, test_loss=0.00282, test_acc=98.30]Train loss: 0.0008119887788780034\n"
     ]
    },
    {
     "name": "stderr",
     "output_type": "stream",
     "text": [
      "Epoch 13, global step 13132: 'test_acc' reached 98.32803 (best 98.32803), saving model to 'C:\\\\Users\\\\Dave\\\\Documents\\\\Experiments\\\\deep-learning\\\\MLP\\\\models\\\\checkpoints\\\\mnist-mlp-best-acc.ckpt' as top 1\n"
     ]
    },
    {
     "name": "stdout",
     "output_type": "stream",
     "text": [
      "Epoch 14: 100%|██████████| 938/938 [00:17<00:00, 54.40it/s, v_num=4, test_loss=0.00282, test_acc=98.30]Test loss: 0.0034431349486112595\n",
      "Test accuracy: 97.97969818115234\n",
      "Epoch 14: 100%|██████████| 938/938 [00:20<00:00, 46.15it/s, v_num=4, test_loss=0.00344, test_acc=98.00]Train loss: 0.0007188027375377715\n"
     ]
    },
    {
     "name": "stderr",
     "output_type": "stream",
     "text": [
      "Epoch 14, global step 14070: 'test_acc' was not in top 1\n"
     ]
    },
    {
     "name": "stdout",
     "output_type": "stream",
     "text": [
      "Epoch 15: 100%|██████████| 938/938 [00:17<00:00, 53.91it/s, v_num=4, test_loss=0.00344, test_acc=98.00]Test loss: 0.003395063802599907\n",
      "Test accuracy: 97.99960327148438\n",
      "Epoch 15: 100%|██████████| 938/938 [00:20<00:00, 45.61it/s, v_num=4, test_loss=0.0034, test_acc=98.00] "
     ]
    },
    {
     "name": "stderr",
     "output_type": "stream",
     "text": [
      "Epoch 15, global step 15008: 'test_acc' was not in top 1\n"
     ]
    },
    {
     "name": "stdout",
     "output_type": "stream",
     "text": [
      "Train loss: 0.000621412240434438\n",
      "Epoch 16: 100%|██████████| 938/938 [00:17<00:00, 53.99it/s, v_num=4, test_loss=0.0034, test_acc=98.00]Test loss: 0.0029720677994191647\n",
      "Test accuracy: 98.23845672607422\n",
      "Epoch 16: 100%|██████████| 938/938 [00:20<00:00, 45.80it/s, v_num=4, test_loss=0.00297, test_acc=98.20]Train loss: 0.0005821022787131369\n"
     ]
    },
    {
     "name": "stderr",
     "output_type": "stream",
     "text": [
      "Epoch 16, global step 15946: 'test_acc' was not in top 1\n"
     ]
    },
    {
     "name": "stdout",
     "output_type": "stream",
     "text": [
      "Epoch 17: 100%|██████████| 938/938 [00:17<00:00, 53.00it/s, v_num=4, test_loss=0.00297, test_acc=98.20]Test loss: 0.0027227564714848995\n",
      "Test accuracy: 98.3777847290039\n",
      "Epoch 17: 100%|██████████| 938/938 [00:20<00:00, 45.27it/s, v_num=4, test_loss=0.00272, test_acc=98.40]Train loss: 0.000441433658124879\n"
     ]
    },
    {
     "name": "stderr",
     "output_type": "stream",
     "text": [
      "Epoch 17, global step 16884: 'test_acc' reached 98.37778 (best 98.37778), saving model to 'C:\\\\Users\\\\Dave\\\\Documents\\\\Experiments\\\\deep-learning\\\\MLP\\\\models\\\\checkpoints\\\\mnist-mlp-best-acc.ckpt' as top 1\n"
     ]
    },
    {
     "name": "stdout",
     "output_type": "stream",
     "text": [
      "Epoch 18: 100%|██████████| 938/938 [00:17<00:00, 53.74it/s, v_num=4, test_loss=0.00272, test_acc=98.40]Test loss: 0.00296331150457263\n",
      "Test accuracy: 98.27826690673828\n",
      "Epoch 18: 100%|██████████| 938/938 [00:20<00:00, 45.45it/s, v_num=4, test_loss=0.00296, test_acc=98.30]"
     ]
    },
    {
     "name": "stderr",
     "output_type": "stream",
     "text": [
      "Epoch 18, global step 17822: 'test_acc' was not in top 1\n"
     ]
    },
    {
     "name": "stdout",
     "output_type": "stream",
     "text": [
      "Train loss: 0.0003928263613488525\n",
      "Epoch 19: 100%|██████████| 938/938 [00:17<00:00, 54.53it/s, v_num=4, test_loss=0.00296, test_acc=98.30]Test loss: 0.0029776699375361204\n",
      "Test accuracy: 98.16879272460938\n",
      "Epoch 19: 100%|██████████| 938/938 [00:20<00:00, 46.45it/s, v_num=4, test_loss=0.00298, test_acc=98.20]Train loss: 0.00037461548345163465\n"
     ]
    },
    {
     "name": "stderr",
     "output_type": "stream",
     "text": [
      "Epoch 19, global step 18760: 'test_acc' was not in top 1\n"
     ]
    },
    {
     "name": "stdout",
     "output_type": "stream",
     "text": [
      "Epoch 20: 100%|██████████| 938/938 [00:17<00:00, 53.39it/s, v_num=4, test_loss=0.00298, test_acc=98.20]Test loss: 0.0026836262550204992\n",
      "Test accuracy: 98.4375\n",
      "Epoch 20: 100%|██████████| 938/938 [00:20<00:00, 45.83it/s, v_num=4, test_loss=0.00268, test_acc=98.40]Train loss: 0.0003313308407086879\n"
     ]
    },
    {
     "name": "stderr",
     "output_type": "stream",
     "text": [
      "Epoch 20, global step 19698: 'test_acc' reached 98.43750 (best 98.43750), saving model to 'C:\\\\Users\\\\Dave\\\\Documents\\\\Experiments\\\\deep-learning\\\\MLP\\\\models\\\\checkpoints\\\\mnist-mlp-best-acc.ckpt' as top 1\n"
     ]
    },
    {
     "name": "stdout",
     "output_type": "stream",
     "text": [
      "Epoch 21: 100%|██████████| 938/938 [00:17<00:00, 54.57it/s, v_num=4, test_loss=0.00268, test_acc=98.40]Test loss: 0.0026739160530269146\n",
      "Test accuracy: 98.44745635986328\n",
      "Epoch 21: 100%|██████████| 938/938 [00:20<00:00, 46.59it/s, v_num=4, test_loss=0.00267, test_acc=98.40]Train loss: 0.00030349541339091957\n"
     ]
    },
    {
     "name": "stderr",
     "output_type": "stream",
     "text": [
      "Epoch 21, global step 20636: 'test_acc' reached 98.44746 (best 98.44746), saving model to 'C:\\\\Users\\\\Dave\\\\Documents\\\\Experiments\\\\deep-learning\\\\MLP\\\\models\\\\checkpoints\\\\mnist-mlp-best-acc.ckpt' as top 1\n"
     ]
    },
    {
     "name": "stdout",
     "output_type": "stream",
     "text": [
      "Epoch 22: 100%|██████████| 938/938 [00:17<00:00, 53.52it/s, v_num=4, test_loss=0.00267, test_acc=98.40]Test loss: 0.0026294616982340813\n",
      "Test accuracy: 98.50716400146484\n",
      "Epoch 22: 100%|██████████| 938/938 [00:20<00:00, 45.12it/s, v_num=4, test_loss=0.00263, test_acc=98.50]"
     ]
    },
    {
     "name": "stderr",
     "output_type": "stream",
     "text": [
      "Epoch 22, global step 21574: 'test_acc' reached 98.50716 (best 98.50716), saving model to 'C:\\\\Users\\\\Dave\\\\Documents\\\\Experiments\\\\deep-learning\\\\MLP\\\\models\\\\checkpoints\\\\mnist-mlp-best-acc.ckpt' as top 1\n"
     ]
    },
    {
     "name": "stdout",
     "output_type": "stream",
     "text": [
      "Train loss: 0.0002975348907057196\n",
      "Epoch 23: 100%|██████████| 938/938 [00:17<00:00, 53.07it/s, v_num=4, test_loss=0.00263, test_acc=98.50]Test loss: 0.0026013008318841457\n",
      "Test accuracy: 98.55693054199219\n",
      "Epoch 23: 100%|██████████| 938/938 [00:20<00:00, 45.06it/s, v_num=4, test_loss=0.0026, test_acc=98.60] Train loss: 0.00027756040799431503\n"
     ]
    },
    {
     "name": "stderr",
     "output_type": "stream",
     "text": [
      "Epoch 23, global step 22512: 'test_acc' reached 98.55693 (best 98.55693), saving model to 'C:\\\\Users\\\\Dave\\\\Documents\\\\Experiments\\\\deep-learning\\\\MLP\\\\models\\\\checkpoints\\\\mnist-mlp-best-acc.ckpt' as top 1\n"
     ]
    },
    {
     "name": "stdout",
     "output_type": "stream",
     "text": [
      "Epoch 24: 100%|██████████| 938/938 [00:17<00:00, 53.00it/s, v_num=4, test_loss=0.0026, test_acc=98.60]Test loss: 0.002563534304499626\n",
      "Test accuracy: 98.53702545166016\n",
      "Epoch 24: 100%|██████████| 938/938 [00:20<00:00, 44.93it/s, v_num=4, test_loss=0.00256, test_acc=98.50]Train loss: 0.0002714660076890141\n"
     ]
    },
    {
     "name": "stderr",
     "output_type": "stream",
     "text": [
      "Epoch 24, global step 23450: 'test_acc' was not in top 1\n"
     ]
    },
    {
     "name": "stdout",
     "output_type": "stream",
     "text": [
      "Epoch 25: 100%|██████████| 938/938 [00:17<00:00, 52.37it/s, v_num=4, test_loss=0.00256, test_acc=98.50]Test loss: 0.002595942933112383\n",
      "Test accuracy: 98.50716400146484\n",
      "Epoch 25: 100%|██████████| 938/938 [00:21<00:00, 44.38it/s, v_num=4, test_loss=0.0026, test_acc=98.50] "
     ]
    },
    {
     "name": "stderr",
     "output_type": "stream",
     "text": [
      "Epoch 25, global step 24388: 'test_acc' was not in top 1\n"
     ]
    },
    {
     "name": "stdout",
     "output_type": "stream",
     "text": [
      "Train loss: 0.0002626207424327731\n",
      "Epoch 26: 100%|██████████| 938/938 [00:17<00:00, 54.31it/s, v_num=4, test_loss=0.0026, test_acc=98.50]Test loss: 0.00264370022341609\n",
      "Test accuracy: 98.44745635986328\n",
      "Epoch 26: 100%|██████████| 938/938 [00:20<00:00, 46.43it/s, v_num=4, test_loss=0.00264, test_acc=98.40]"
     ]
    },
    {
     "name": "stderr",
     "output_type": "stream",
     "text": [
      "Epoch 26, global step 25326: 'test_acc' was not in top 1\n"
     ]
    },
    {
     "name": "stdout",
     "output_type": "stream",
     "text": [
      "Train loss: 0.0002601741289254278\n",
      "Epoch 27: 100%|██████████| 938/938 [00:16<00:00, 55.44it/s, v_num=4, test_loss=0.00264, test_acc=98.40]Test loss: 0.002612349344417453\n",
      "Test accuracy: 98.4972152709961\n",
      "Epoch 27: 100%|██████████| 938/938 [00:20<00:00, 46.66it/s, v_num=4, test_loss=0.00261, test_acc=98.50]Train loss: 0.00025543381343595684\n"
     ]
    },
    {
     "name": "stderr",
     "output_type": "stream",
     "text": [
      "Epoch 27, global step 26264: 'test_acc' was not in top 1\n"
     ]
    },
    {
     "name": "stdout",
     "output_type": "stream",
     "text": [
      "Epoch 28: 100%|██████████| 938/938 [00:16<00:00, 55.21it/s, v_num=4, test_loss=0.00261, test_acc=98.50]Test loss: 0.00262600090354681\n",
      "Test accuracy: 98.48725891113281\n",
      "Epoch 28: 100%|██████████| 938/938 [00:20<00:00, 46.34it/s, v_num=4, test_loss=0.00263, test_acc=98.50]Train loss: 0.00025105325039476156\n"
     ]
    },
    {
     "name": "stderr",
     "output_type": "stream",
     "text": [
      "Epoch 28, global step 27202: 'test_acc' was not in top 1\n"
     ]
    },
    {
     "name": "stdout",
     "output_type": "stream",
     "text": [
      "Epoch 29: 100%|██████████| 938/938 [00:17<00:00, 54.41it/s, v_num=4, test_loss=0.00263, test_acc=98.50]Test loss: 0.0026270903181284666\n",
      "Test accuracy: 98.48725891113281\n",
      "Epoch 29: 100%|██████████| 938/938 [00:19<00:00, 47.09it/s, v_num=4, test_loss=0.00263, test_acc=98.50]Train loss: 0.00024925280013121665\n"
     ]
    },
    {
     "name": "stderr",
     "output_type": "stream",
     "text": [
      "Epoch 29, global step 28140: 'test_acc' was not in top 1\n",
      "`Trainer.fit` stopped: `max_epochs=30` reached.\n"
     ]
    },
    {
     "name": "stdout",
     "output_type": "stream",
     "text": [
      "Epoch 29: 100%|██████████| 938/938 [00:19<00:00, 47.06it/s, v_num=4, test_loss=0.00263, test_acc=98.50]\n"
     ]
    },
    {
     "name": "stderr",
     "output_type": "stream",
     "text": [
      "LOCAL_RANK: 0 - CUDA_VISIBLE_DEVICES: [0]\n",
      "c:\\Users\\Dave\\AppData\\Local\\Programs\\Python\\Python310\\lib\\site-packages\\pytorch_lightning\\trainer\\connectors\\data_connector.py:432: PossibleUserWarning: The dataloader, test_dataloader, does not have many workers which may be a bottleneck. Consider increasing the value of the `num_workers` argument` (try 8 which is the number of cpus on this machine) in the `DataLoader` init to improve performance.\n",
      "  rank_zero_warn(\n"
     ]
    },
    {
     "name": "stdout",
     "output_type": "stream",
     "text": [
      "Testing DataLoader 0: 100%|██████████| 157/157 [00:02<00:00, 56.38it/s]Test loss: 0.0026270903181284666\n",
      "Test accuracy: 98.48725891113281\n",
      "Testing DataLoader 0: 100%|██████████| 157/157 [00:02<00:00, 56.22it/s]\n",
      "────────────────────────────────────────────────────────────────────────────────────────────────────────────────────────\n",
      "       Test metric             DataLoader 0\n",
      "────────────────────────────────────────────────────────────────────────────────────────────────────────────────────────\n",
      "        test_acc             98.48725891113281\n",
      "        test_loss          0.0026270903181284666\n",
      "────────────────────────────────────────────────────────────────────────────────────────────────────────────────────────\n"
     ]
    }
   ],
   "source": [
    "if __name__ == \"__main__\":\n",
    "    args = get_args()\n",
    "    model = MNISTMLPModel(lr=args.lr, batch_size=args.batch_size,\n",
    "                           num_workers=args.num_workers,\n",
    "                           model=args.model, optim=args.optim)\n",
    "    model.setup()\n",
    "    print(model)\n",
    "\n",
    "    model_checkpoint = ModelCheckpoint(\n",
    "        dirpath=os.path.join(args.path, \"checkpoints\"),\n",
    "        filename=\"mnist-mlp-best-acc\",\n",
    "        save_top_k=1,\n",
    "        verbose=True,\n",
    "        monitor='test_acc',\n",
    "        mode='max')\n",
    "\n",
    "    trainer = pl.Trainer(accelerator=args.accelerator,\n",
    "                      devices=args.devices,\n",
    "                      max_epochs=args.epochs,\n",
    "                      callbacks=model_checkpoint)\n",
    "\n",
    "    trainer.fit(model)\n",
    "    trainer.test(model)\n",
    "\n",
    "    model = model.load_from_checkpoint(os.path.join(args.path, \"checkpoints\", \"mnist-mlp-best-acc.ckpt\"))\n",
    "    model.eval()\n",
    "    script = model.to_torchscript()\n",
    "    model_path = os.path.join(args.path, \"checkpoints\", \"mnist-mlp-best-acc.pt\")\n",
    "    torch.jit.save(script, model_path)"
   ]
  },
  {
   "cell_type": "markdown",
   "metadata": {},
   "source": [
    "#### Notes (Output text files are available in the same folder as this notebook)\n",
    "* Adam optimizer performs significantly better than Stochastic Gradient Descent (SGD) in terms of accuracy. This may be due to the claim of various studies that Adam converges faster than SGD (source: [Adam vs SGD](https://medium.com/geekculture/a-2021-guide-to-improving-cnns-optimizers-adam-vs-sgd-495848ac6008)).\n",
    "* Both Mean-Squared Error (MSE) and Cross Entropy (CE) loss functions perform well when used with the Adam optimizer."
   ]
  },
  {
   "cell_type": "markdown",
   "metadata": {},
   "source": [
    "#### Inference of the trained model on handwritten digits\n",
    "Now that we have successfully trained and saved the model, we use the model for inference on handwritten digits. Looking at the output of the next cell, we see that the MLP model performs relatively good."
   ]
  },
  {
   "cell_type": "code",
   "execution_count": 34,
   "metadata": {},
   "outputs": [
    {
     "data": {
      "image/png": "[encoded data removed]",
      "text/plain": [
       "<Figure size 1000x500 with 10 Axes>"
      ]
     },
     "metadata": {},
     "output_type": "display_data"
    }
   ],
   "source": [
    "scripted_module = torch.jit.load('models/checkpoints/mnist-mlp-best-acc.pt')\n",
    "transform = torchvision.transforms.Compose([torchvision.transforms.Resize((28,28)),\n",
    "                                torchvision.transforms.ToTensor(),\n",
    "                                torchvision.transforms.Grayscale(num_output_channels=1)])\n",
    "\n",
    "# create figure\n",
    "fig = plt.figure(figsize=(10, 5))\n",
    "  \n",
    "# setting values to rows and column variables\n",
    "rows = 2\n",
    "columns = 5\n",
    "\n",
    "imgs = [Image.open('digits/digit0.png'), \n",
    "        Image.open('digits/digit1.png'),\n",
    "        Image.open('digits/digit2.png'),\n",
    "        Image.open('digits/digit3.png'),\n",
    "        Image.open('digits/digit4.png'),\n",
    "        Image.open('digits/digit5.png'),\n",
    "        Image.open('digits/digit6.png'),\n",
    "        Image.open('digits/digit7.png'),\n",
    "        Image.open('digits/digit8.png'),\n",
    "        Image.open('digits/digit9.png')]\n",
    "\n",
    "for i, img in enumerate(imgs):\n",
    "    img = img.convert('RGB')\n",
    "    fig.add_subplot(rows, columns, i+1)\n",
    "    plt.imshow(img)\n",
    "    plt.axis('off')\n",
    "    img = transform(img)\n",
    "    img = torch.unsqueeze(img,0)\n",
    "    img = img.to('cuda')\n",
    "    y_hat = scripted_module(img)\n",
    "    y_pred = torch.argmax(y_hat, dim=1)[0]\n",
    "    plt.title(f\"Prediction: {y_pred}\")"
   ]
  },
  {
   "cell_type": "markdown",
   "metadata": {},
   "source": [
    "However, it did not predict the digit $8$ correctly and predicted it to be the digit $6$. This may be because the handwriting of the digits are relatively thin compared to the MNIST dataset that it was trained on. If we make the pen thicker, we see that the model now correctly predicts the digit $8$, along with the other digits."
   ]
  },
  {
   "cell_type": "code",
   "execution_count": 35,
   "metadata": {},
   "outputs": [
    {
     "data": {
      "image/png": "[encoded data removed]",
      "text/plain": [
       "<Figure size 1000x500 with 10 Axes>"
      ]
     },
     "metadata": {},
     "output_type": "display_data"
    }
   ],
   "source": [
    "# create figure\n",
    "fig = plt.figure(figsize=(10, 5))\n",
    "  \n",
    "# setting values to rows and column variables\n",
    "rows = 2\n",
    "columns = 5\n",
    "\n",
    "imgs = [Image.open('digits/digit10.png'), \n",
    "        Image.open('digits/digit11.png'),\n",
    "        Image.open('digits/digit12.png'),\n",
    "        Image.open('digits/digit13.png'),\n",
    "        Image.open('digits/digit14.png'),\n",
    "        Image.open('digits/digit15.png'),\n",
    "        Image.open('digits/digit16.png'),\n",
    "        Image.open('digits/digit17.png'),\n",
    "        Image.open('digits/digit18.png'),\n",
    "        Image.open('digits/digit19.png')]\n",
    "        \n",
    "for i, img in enumerate(imgs):\n",
    "    img = img.convert('RGB')\n",
    "    fig.add_subplot(rows, columns, i+1)\n",
    "    plt.imshow(img)\n",
    "    plt.axis('off')\n",
    "    img = transform(img)\n",
    "    img = torch.unsqueeze(img,0)\n",
    "    img = img.to('cuda')\n",
    "    y_hat = scripted_module(img)\n",
    "    y_pred = torch.argmax(y_hat, dim=1)[0]\n",
    "    plt.title(f\"Prediction: {y_pred}\")"
   ]
  }
 ],
 "metadata": {
  "kernelspec": {
   "display_name": "Python 3",
   "language": "python",
   "name": "python3"
  },
  "language_info": {
   "codemirror_mode": {
    "name": "ipython",
    "version": 3
   },
   "file_extension": ".py",
   "mimetype": "text/x-python",
   "name": "python",
   "nbconvert_exporter": "python",
   "pygments_lexer": "ipython3",
   "version": "3.10.11"
  },
  "orig_nbformat": 4
 },
 "nbformat": 4,
 "nbformat_minor": 2
}
