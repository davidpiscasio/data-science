{
 "cells": [
  {
   "cell_type": "markdown",
   "metadata": {},
   "source": [
    "# K-Means Clustering\n",
    "In this experiment, we use the K-Means Clustering algorithm to cluster varieties of the Iris dataset."
   ]
  },
  {
   "cell_type": "code",
   "execution_count": 52,
   "metadata": {},
   "outputs": [],
   "source": [
    "# Import necessary libraries\n",
    "import torch\n",
    "import numpy as np\n",
    "import pandas as pd\n",
    "import matplotlib.pyplot as plt"
   ]
  },
  {
   "cell_type": "markdown",
   "metadata": {},
   "source": [
    "In order to access the dataset, you may download it from the following [link](https://gist.github.com/netj/8836201) or load it from [sklearn](https://scikit-learn.org/stable/modules/generated/sklearn.datasets.load_iris.html#sklearn.datasets.load_iris)."
   ]
  },
  {
   "cell_type": "code",
   "execution_count": 53,
   "metadata": {},
   "outputs": [
    {
     "data": {
      "text/html": [
       "<div>\n",
       "<style scoped>\n",
       "    .dataframe tbody tr th:only-of-type {\n",
       "        vertical-align: middle;\n",
       "    }\n",
       "\n",
       "    .dataframe tbody tr th {\n",
       "        vertical-align: top;\n",
       "    }\n",
       "\n",
       "    .dataframe thead th {\n",
       "        text-align: right;\n",
       "    }\n",
       "</style>\n",
       "<table border=\"1\" class=\"dataframe\">\n",
       "  <thead>\n",
       "    <tr style=\"text-align: right;\">\n",
       "      <th></th>\n",
       "      <th>sepal.length</th>\n",
       "      <th>sepal.width</th>\n",
       "      <th>petal.length</th>\n",
       "      <th>petal.width</th>\n",
       "      <th>variety</th>\n",
       "    </tr>\n",
       "  </thead>\n",
       "  <tbody>\n",
       "    <tr>\n",
       "      <th>0</th>\n",
       "      <td>5.1</td>\n",
       "      <td>3.5</td>\n",
       "      <td>1.4</td>\n",
       "      <td>0.2</td>\n",
       "      <td>Setosa</td>\n",
       "    </tr>\n",
       "    <tr>\n",
       "      <th>1</th>\n",
       "      <td>4.9</td>\n",
       "      <td>3.0</td>\n",
       "      <td>1.4</td>\n",
       "      <td>0.2</td>\n",
       "      <td>Setosa</td>\n",
       "    </tr>\n",
       "    <tr>\n",
       "      <th>2</th>\n",
       "      <td>4.7</td>\n",
       "      <td>3.2</td>\n",
       "      <td>1.3</td>\n",
       "      <td>0.2</td>\n",
       "      <td>Setosa</td>\n",
       "    </tr>\n",
       "    <tr>\n",
       "      <th>3</th>\n",
       "      <td>4.6</td>\n",
       "      <td>3.1</td>\n",
       "      <td>1.5</td>\n",
       "      <td>0.2</td>\n",
       "      <td>Setosa</td>\n",
       "    </tr>\n",
       "    <tr>\n",
       "      <th>4</th>\n",
       "      <td>5.0</td>\n",
       "      <td>3.6</td>\n",
       "      <td>1.4</td>\n",
       "      <td>0.2</td>\n",
       "      <td>Setosa</td>\n",
       "    </tr>\n",
       "    <tr>\n",
       "      <th>...</th>\n",
       "      <td>...</td>\n",
       "      <td>...</td>\n",
       "      <td>...</td>\n",
       "      <td>...</td>\n",
       "      <td>...</td>\n",
       "    </tr>\n",
       "    <tr>\n",
       "      <th>145</th>\n",
       "      <td>6.7</td>\n",
       "      <td>3.0</td>\n",
       "      <td>5.2</td>\n",
       "      <td>2.3</td>\n",
       "      <td>Virginica</td>\n",
       "    </tr>\n",
       "    <tr>\n",
       "      <th>146</th>\n",
       "      <td>6.3</td>\n",
       "      <td>2.5</td>\n",
       "      <td>5.0</td>\n",
       "      <td>1.9</td>\n",
       "      <td>Virginica</td>\n",
       "    </tr>\n",
       "    <tr>\n",
       "      <th>147</th>\n",
       "      <td>6.5</td>\n",
       "      <td>3.0</td>\n",
       "      <td>5.2</td>\n",
       "      <td>2.0</td>\n",
       "      <td>Virginica</td>\n",
       "    </tr>\n",
       "    <tr>\n",
       "      <th>148</th>\n",
       "      <td>6.2</td>\n",
       "      <td>3.4</td>\n",
       "      <td>5.4</td>\n",
       "      <td>2.3</td>\n",
       "      <td>Virginica</td>\n",
       "    </tr>\n",
       "    <tr>\n",
       "      <th>149</th>\n",
       "      <td>5.9</td>\n",
       "      <td>3.0</td>\n",
       "      <td>5.1</td>\n",
       "      <td>1.8</td>\n",
       "      <td>Virginica</td>\n",
       "    </tr>\n",
       "  </tbody>\n",
       "</table>\n",
       "<p>150 rows × 5 columns</p>\n",
       "</div>"
      ],
      "text/plain": [
       "     sepal.length  sepal.width  petal.length  petal.width    variety\n",
       "0             5.1          3.5           1.4          0.2     Setosa\n",
       "1             4.9          3.0           1.4          0.2     Setosa\n",
       "2             4.7          3.2           1.3          0.2     Setosa\n",
       "3             4.6          3.1           1.5          0.2     Setosa\n",
       "4             5.0          3.6           1.4          0.2     Setosa\n",
       "..            ...          ...           ...          ...        ...\n",
       "145           6.7          3.0           5.2          2.3  Virginica\n",
       "146           6.3          2.5           5.0          1.9  Virginica\n",
       "147           6.5          3.0           5.2          2.0  Virginica\n",
       "148           6.2          3.4           5.4          2.3  Virginica\n",
       "149           5.9          3.0           5.1          1.8  Virginica\n",
       "\n",
       "[150 rows x 5 columns]"
      ]
     },
     "metadata": {},
     "output_type": "display_data"
    }
   ],
   "source": [
    "df = pd.read_csv('Datasets/iris.csv')\n",
    "display(df)"
   ]
  },
  {
   "cell_type": "markdown",
   "metadata": {},
   "source": [
    "For this experiment, we will assign Setosa to class $0$, Versicolor to class $1$, and Virginica to class $2$."
   ]
  },
  {
   "cell_type": "code",
   "execution_count": 54,
   "metadata": {},
   "outputs": [
    {
     "data": {
      "text/html": [
       "<div>\n",
       "<style scoped>\n",
       "    .dataframe tbody tr th:only-of-type {\n",
       "        vertical-align: middle;\n",
       "    }\n",
       "\n",
       "    .dataframe tbody tr th {\n",
       "        vertical-align: top;\n",
       "    }\n",
       "\n",
       "    .dataframe thead th {\n",
       "        text-align: right;\n",
       "    }\n",
       "</style>\n",
       "<table border=\"1\" class=\"dataframe\">\n",
       "  <thead>\n",
       "    <tr style=\"text-align: right;\">\n",
       "      <th></th>\n",
       "      <th>sepal.length</th>\n",
       "      <th>sepal.width</th>\n",
       "      <th>petal.length</th>\n",
       "      <th>petal.width</th>\n",
       "      <th>variety</th>\n",
       "    </tr>\n",
       "  </thead>\n",
       "  <tbody>\n",
       "    <tr>\n",
       "      <th>0</th>\n",
       "      <td>5.1</td>\n",
       "      <td>3.5</td>\n",
       "      <td>1.4</td>\n",
       "      <td>0.2</td>\n",
       "      <td>0</td>\n",
       "    </tr>\n",
       "    <tr>\n",
       "      <th>1</th>\n",
       "      <td>4.9</td>\n",
       "      <td>3.0</td>\n",
       "      <td>1.4</td>\n",
       "      <td>0.2</td>\n",
       "      <td>0</td>\n",
       "    </tr>\n",
       "    <tr>\n",
       "      <th>2</th>\n",
       "      <td>4.7</td>\n",
       "      <td>3.2</td>\n",
       "      <td>1.3</td>\n",
       "      <td>0.2</td>\n",
       "      <td>0</td>\n",
       "    </tr>\n",
       "    <tr>\n",
       "      <th>3</th>\n",
       "      <td>4.6</td>\n",
       "      <td>3.1</td>\n",
       "      <td>1.5</td>\n",
       "      <td>0.2</td>\n",
       "      <td>0</td>\n",
       "    </tr>\n",
       "    <tr>\n",
       "      <th>4</th>\n",
       "      <td>5.0</td>\n",
       "      <td>3.6</td>\n",
       "      <td>1.4</td>\n",
       "      <td>0.2</td>\n",
       "      <td>0</td>\n",
       "    </tr>\n",
       "    <tr>\n",
       "      <th>...</th>\n",
       "      <td>...</td>\n",
       "      <td>...</td>\n",
       "      <td>...</td>\n",
       "      <td>...</td>\n",
       "      <td>...</td>\n",
       "    </tr>\n",
       "    <tr>\n",
       "      <th>145</th>\n",
       "      <td>6.7</td>\n",
       "      <td>3.0</td>\n",
       "      <td>5.2</td>\n",
       "      <td>2.3</td>\n",
       "      <td>2</td>\n",
       "    </tr>\n",
       "    <tr>\n",
       "      <th>146</th>\n",
       "      <td>6.3</td>\n",
       "      <td>2.5</td>\n",
       "      <td>5.0</td>\n",
       "      <td>1.9</td>\n",
       "      <td>2</td>\n",
       "    </tr>\n",
       "    <tr>\n",
       "      <th>147</th>\n",
       "      <td>6.5</td>\n",
       "      <td>3.0</td>\n",
       "      <td>5.2</td>\n",
       "      <td>2.0</td>\n",
       "      <td>2</td>\n",
       "    </tr>\n",
       "    <tr>\n",
       "      <th>148</th>\n",
       "      <td>6.2</td>\n",
       "      <td>3.4</td>\n",
       "      <td>5.4</td>\n",
       "      <td>2.3</td>\n",
       "      <td>2</td>\n",
       "    </tr>\n",
       "    <tr>\n",
       "      <th>149</th>\n",
       "      <td>5.9</td>\n",
       "      <td>3.0</td>\n",
       "      <td>5.1</td>\n",
       "      <td>1.8</td>\n",
       "      <td>2</td>\n",
       "    </tr>\n",
       "  </tbody>\n",
       "</table>\n",
       "<p>150 rows × 5 columns</p>\n",
       "</div>"
      ],
      "text/plain": [
       "     sepal.length  sepal.width  petal.length  petal.width variety\n",
       "0             5.1          3.5           1.4          0.2       0\n",
       "1             4.9          3.0           1.4          0.2       0\n",
       "2             4.7          3.2           1.3          0.2       0\n",
       "3             4.6          3.1           1.5          0.2       0\n",
       "4             5.0          3.6           1.4          0.2       0\n",
       "..            ...          ...           ...          ...     ...\n",
       "145           6.7          3.0           5.2          2.3       2\n",
       "146           6.3          2.5           5.0          1.9       2\n",
       "147           6.5          3.0           5.2          2.0       2\n",
       "148           6.2          3.4           5.4          2.3       2\n",
       "149           5.9          3.0           5.1          1.8       2\n",
       "\n",
       "[150 rows x 5 columns]"
      ]
     },
     "metadata": {},
     "output_type": "display_data"
    }
   ],
   "source": [
    "df.loc[df['variety'] == 'Setosa', 'variety'] = 0\n",
    "df.loc[df['variety'] == 'Versicolor', 'variety'] = 1\n",
    "df.loc[df['variety'] == 'Virginica', 'variety'] = 2\n",
    "display(df)"
   ]
  },
  {
   "cell_type": "markdown",
   "metadata": {},
   "source": [
    "For this experiment, we will only use petal length ($x_0$) and petal width ($x_1$) as our features. Although we will not need it in our algorithm, the variety class ($y$) is also extracted in order to verify the clusters later on."
   ]
  },
  {
   "cell_type": "code",
   "execution_count": 55,
   "metadata": {},
   "outputs": [],
   "source": [
    "x0 = torch.tensor(df.iloc[:,2].values, dtype=torch.float32)\n",
    "x1 = torch.tensor(df.iloc[:,3].values, dtype=torch.float32)\n",
    "y = torch.tensor(df.iloc[:,4].values.astype(np.float32), dtype=torch.float32)"
   ]
  },
  {
   "cell_type": "markdown",
   "metadata": {},
   "source": [
    "We now construct our K-Means Clustering model class. We used the following references [[1](https://www.youtube.com/watch?v=4b5d3muPQmA), [2](https://www.youtube.com/watch?v=KzJORp8bgqs)] in determining the formulas needed. The function $ed$ computes for the Euclidean distance between the centroids and the samples, $cluster$ assigns each sample to a cluster, and $update$ computes for the new centroid values. For this model, we set the default $k$ to $3$ clusters to match the varieties of the Iris dataset. Moreover, we set the number of maximum iterations (or number of maximum updates) to 10, but the model stops updating if the previous centroid is the same as the newly computed centroid."
   ]
  },
  {
   "cell_type": "code",
   "execution_count": 56,
   "metadata": {},
   "outputs": [],
   "source": [
    "class KMeansClustering():\n",
    "    def __init__(self, x0, x1, k=3, num_iter=10):\n",
    "        self.x0 = x0\n",
    "        self.x1 = x1\n",
    "        self.xsize = list(self.x0.shape)[0]\n",
    "        self.y = torch.ones(self.xsize) * 3 # Dummy y tensor set to 3 so that it will not overlap with other clusters\n",
    "        self.k = k\n",
    "        self.cidx = torch.randperm(self.xsize)[:self.k]\n",
    "        self.c0 = torch.tensor([x0[i] for i in self.cidx])\n",
    "        self.c1 = torch.tensor([x1[i] for i in self.cidx])\n",
    "        self.clusters = [[] for _ in range(self.k)]\n",
    "        self.num_iter = num_iter\n",
    "\n",
    "    def ed(self, i):\n",
    "        return torch.sqrt(torch.pow(self.c0 - self.x0[i], 2) + torch.pow(self.c1 - self.x1[i], 2))\n",
    "\n",
    "    def cluster(self):\n",
    "        self.clusters = [[] for _ in range(self.k)]\n",
    "        for i in range(self.xsize):\n",
    "            dist = self.ed(i)\n",
    "            c = torch.argmin(dist).item()\n",
    "            self.y[i] = c\n",
    "            self.clusters[c].append(i)\n",
    "    \n",
    "    def update(self):\n",
    "        for i, c in enumerate(self.clusters):\n",
    "            self.c0[i] = torch.mean(self.x0[torch.tensor(c)])\n",
    "            self.c1[i] = torch.mean(self.x1[torch.tensor(c)])\n",
    "\n",
    "    def fit(self):\n",
    "        for itr in range(self.num_iter):\n",
    "            print(f'Iter {itr}:')\n",
    "            self.cluster()\n",
    "            old_centroids = [(torch.clone(self.c0[i]), torch.clone(self.c1[i])) for i in range(self.k)]\n",
    "            self.update()\n",
    "            print(f'New Centroids: {self._centroids()}')\n",
    "            if self._centroids() == old_centroids:\n",
    "                break\n",
    "\n",
    "    def _centroids(self):\n",
    "        return [(self.c0[i], self.c1[i]) for i in range(self.k)]\n",
    "\n",
    "    def _y(self):\n",
    "        return self.y\n",
    "    \n",
    "    def _clusters(self):\n",
    "        return self.clusters"
   ]
  },
  {
   "cell_type": "markdown",
   "metadata": {},
   "source": [
    "Let us now perform the clustering. The new centroids are printed after each iteration. We observe that the centroids converged and the final clusters were determined in around 5 iterations."
   ]
  },
  {
   "cell_type": "code",
   "execution_count": 59,
   "metadata": {},
   "outputs": [
    {
     "name": "stdout",
     "output_type": "stream",
     "text": [
      "Iter 0:\n",
      "New Centroids: [(tensor(1.4620), tensor(0.2460)), (tensor(5.5148), tensor(1.9944)), (tensor(4.1913), tensor(1.3022))]\n",
      "Iter 1:\n",
      "New Centroids: [(tensor(1.4620), tensor(0.2460)), (tensor(5.5385), tensor(2.0135)), (tensor(4.2208), tensor(1.3104))]\n",
      "Iter 2:\n",
      "New Centroids: [(tensor(1.4620), tensor(0.2460)), (tensor(5.5837), tensor(2.0265)), (tensor(4.2549), tensor(1.3392))]\n",
      "Iter 3:\n",
      "New Centroids: [(tensor(1.4620), tensor(0.2460)), (tensor(5.5958), tensor(2.0375)), (tensor(4.2692), tensor(1.3423))]\n",
      "Iter 4:\n",
      "New Centroids: [(tensor(1.4620), tensor(0.2460)), (tensor(5.5958), tensor(2.0375)), (tensor(4.2692), tensor(1.3423))]\n"
     ]
    }
   ],
   "source": [
    "if __name__ == \"__main__\":\n",
    "    km = KMeansClustering(x0,x1)\n",
    "    km.fit()\n",
    "    class_idx = km._clusters()"
   ]
  },
  {
   "cell_type": "markdown",
   "metadata": {},
   "source": [
    "To verify the performance of our K-Means Clustering model, we plot both the predicted clusters and the actual clusters. We see that although similar clusters were observed, the class numbering is not the same. This is expected since the algorithm is unsupervised, thus it does not classify the data into specific varieties but rather groups them into unlabeled clusters."
   ]
  },
  {
   "cell_type": "code",
   "execution_count": 62,
   "metadata": {},
   "outputs": [
    {
     "data": {
      "image/png": "[encoded data removed]",
      "text/plain": [
       "<Figure size 1000x400 with 2 Axes>"
      ]
     },
     "metadata": {},
     "output_type": "display_data"
    }
   ],
   "source": [
    "fig = plt.figure(figsize=(10, 4))\n",
    "rows = 1\n",
    "columns = 2\n",
    "\n",
    "fig.add_subplot(rows, columns, 1)\n",
    "plt.scatter(x0[class_idx[0]],x1[class_idx[0]], label='Class 0', color='red')\n",
    "plt.scatter(x0[class_idx[1]],x1[class_idx[1]], label='Class 1', color='green')\n",
    "plt.scatter(x0[class_idx[2]],x1[class_idx[2]], label='Class 2', color='blue')\n",
    "plt.xlabel('Petal length')\n",
    "plt.ylabel('Petal width')\n",
    "plt.legend()\n",
    "plt.title('Predicted Clustering')\n",
    "\n",
    "fig.add_subplot(rows, columns, 2)\n",
    "plt.scatter(x0[:50],x1[:50], label='Setosa (0)', color='red')\n",
    "plt.scatter(x0[50:100],x1[50:100], label='Versicolor (1)', color='green')\n",
    "plt.scatter(x0[100:],x1[100:], label='Virginica (2)', color='blue')\n",
    "plt.xlabel('Petal length')\n",
    "plt.ylabel('Petal width')\n",
    "plt.legend()\n",
    "plt.title('Actual Clustering')\n",
    "\n",
    "plt.show()"
   ]
  },
  {
   "cell_type": "markdown",
   "metadata": {},
   "source": [
    "To look at which data samples were clustered incorrectly by the model, let us look at the predicted classes for each index. We observe that the model correctly clusters all samples of the Setosa class, which we expect since these data points are noticeably farther from the other two classes. However, we observe that the model is sometimes confused between the Versicolor and Virginica classes since their clusters are much closer to each other. Specifically, the model incorrectly clustered the Virginica samples indexed at $106$, $119$, $126$, and $138$ to the Versicolor class, while the Versicolor samples at $77$ and $83$ were clustered to the Virginica class. Thus, we see that the model incorrectly clustered $6$ total data samples, obtaining a $96\\%$ accuracy."
   ]
  },
  {
   "cell_type": "code",
   "execution_count": 64,
   "metadata": {},
   "outputs": [
    {
     "name": "stdout",
     "output_type": "stream",
     "text": [
      "Predicted Class 0 (Actual: 0-49):\n",
      "[0, 1, 2, 3, 4, 5, 6, 7, 8, 9, 10, 11, 12, 13, 14, 15, 16, 17, 18, 19, 20, 21, 22, 23, 24, 25, 26, 27, 28, 29, 30, 31, 32, 33, 34, 35, 36, 37, 38, 39, 40, 41, 42, 43, 44, 45, 46, 47, 48, 49] | No. of Samples: 50\n",
      "Predicted Class 1 (Actual: 50-99):\n",
      "[50, 51, 52, 53, 54, 55, 56, 57, 58, 59, 60, 61, 62, 63, 64, 65, 66, 67, 68, 69, 70, 71, 72, 73, 74, 75, 76, 78, 79, 80, 81, 82, 84, 85, 86, 87, 88, 89, 90, 91, 92, 93, 94, 95, 96, 97, 98, 99, 106, 119, 126, 138] | No. of Samples: 52\n",
      "Predicted Class 2 (Actual: 100-149):\n",
      "[77, 83, 100, 101, 102, 103, 104, 105, 107, 108, 109, 110, 111, 112, 113, 114, 115, 116, 117, 118, 120, 121, 122, 123, 124, 125, 127, 128, 129, 130, 131, 132, 133, 134, 135, 136, 137, 139, 140, 141, 142, 143, 144, 145, 146, 147, 148, 149] | No. of Samples: 48\n"
     ]
    }
   ],
   "source": [
    "print(f'Predicted Class 0 (Actual: 0-49):\\n{class_idx[0]} | No. of Samples: {len(class_idx[0])}')\n",
    "print(f'Predicted Class 1 (Actual: 50-99):\\n{class_idx[2]} | No. of Samples: {len(class_idx[2])}')\n",
    "print(f'Predicted Class 2 (Actual: 100-149):\\n{class_idx[1]} | No. of Samples: {len(class_idx[1])}')"
   ]
  }
 ],
 "metadata": {
  "kernelspec": {
   "display_name": "Python 3",
   "language": "python",
   "name": "python3"
  },
  "language_info": {
   "codemirror_mode": {
    "name": "ipython",
    "version": 3
   },
   "file_extension": ".py",
   "mimetype": "text/x-python",
   "name": "python",
   "nbconvert_exporter": "python",
   "pygments_lexer": "ipython3",
   "version": "3.10.11"
  },
  "orig_nbformat": 4
 },
 "nbformat": 4,
 "nbformat_minor": 2
}
