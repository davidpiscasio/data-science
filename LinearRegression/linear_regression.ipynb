{
 "cells": [
  {
   "cell_type": "markdown",
   "metadata": {},
   "source": [
    "# Linear Regression"
   ]
  },
  {
   "cell_type": "markdown",
   "metadata": {},
   "source": [
    "In this experiment, we use simple linear regression to estimate the relationship between Years of Experience and Salary by getting the best fit line."
   ]
  },
  {
   "cell_type": "code",
   "execution_count": 52,
   "metadata": {},
   "outputs": [],
   "source": [
    "# Import necessary libraries\n",
    "import pandas as pd\n",
    "import torch\n",
    "from matplotlib import pyplot\n",
    "from argparse import ArgumentParser"
   ]
  },
  {
   "cell_type": "markdown",
   "metadata": {},
   "source": [
    "We prepare the data and display it for our reference. In order to use the dataset, download the CSV file from [Kaggle](https://www.kaggle.com/datasets/rohankayan/years-of-experience-and-salary-dataset) and save it to a subfolder called 'Datasets'. "
   ]
  },
  {
   "cell_type": "code",
   "execution_count": 53,
   "metadata": {},
   "outputs": [
    {
     "data": {
      "text/html": [
       "<div>\n",
       "<style scoped>\n",
       "    .dataframe tbody tr th:only-of-type {\n",
       "        vertical-align: middle;\n",
       "    }\n",
       "\n",
       "    .dataframe tbody tr th {\n",
       "        vertical-align: top;\n",
       "    }\n",
       "\n",
       "    .dataframe thead th {\n",
       "        text-align: right;\n",
       "    }\n",
       "</style>\n",
       "<table border=\"1\" class=\"dataframe\">\n",
       "  <thead>\n",
       "    <tr style=\"text-align: right;\">\n",
       "      <th></th>\n",
       "      <th>YearsExperience</th>\n",
       "      <th>Salary</th>\n",
       "    </tr>\n",
       "  </thead>\n",
       "  <tbody>\n",
       "    <tr>\n",
       "      <th>0</th>\n",
       "      <td>1.1</td>\n",
       "      <td>39343.0</td>\n",
       "    </tr>\n",
       "    <tr>\n",
       "      <th>1</th>\n",
       "      <td>1.3</td>\n",
       "      <td>46205.0</td>\n",
       "    </tr>\n",
       "    <tr>\n",
       "      <th>2</th>\n",
       "      <td>1.5</td>\n",
       "      <td>37731.0</td>\n",
       "    </tr>\n",
       "    <tr>\n",
       "      <th>3</th>\n",
       "      <td>2.0</td>\n",
       "      <td>43525.0</td>\n",
       "    </tr>\n",
       "    <tr>\n",
       "      <th>4</th>\n",
       "      <td>2.2</td>\n",
       "      <td>39891.0</td>\n",
       "    </tr>\n",
       "    <tr>\n",
       "      <th>5</th>\n",
       "      <td>2.9</td>\n",
       "      <td>56642.0</td>\n",
       "    </tr>\n",
       "    <tr>\n",
       "      <th>6</th>\n",
       "      <td>3.0</td>\n",
       "      <td>60150.0</td>\n",
       "    </tr>\n",
       "    <tr>\n",
       "      <th>7</th>\n",
       "      <td>3.2</td>\n",
       "      <td>54445.0</td>\n",
       "    </tr>\n",
       "    <tr>\n",
       "      <th>8</th>\n",
       "      <td>3.2</td>\n",
       "      <td>64445.0</td>\n",
       "    </tr>\n",
       "    <tr>\n",
       "      <th>9</th>\n",
       "      <td>3.7</td>\n",
       "      <td>57189.0</td>\n",
       "    </tr>\n",
       "    <tr>\n",
       "      <th>10</th>\n",
       "      <td>3.9</td>\n",
       "      <td>63218.0</td>\n",
       "    </tr>\n",
       "    <tr>\n",
       "      <th>11</th>\n",
       "      <td>4.0</td>\n",
       "      <td>55794.0</td>\n",
       "    </tr>\n",
       "    <tr>\n",
       "      <th>12</th>\n",
       "      <td>4.0</td>\n",
       "      <td>56957.0</td>\n",
       "    </tr>\n",
       "    <tr>\n",
       "      <th>13</th>\n",
       "      <td>4.1</td>\n",
       "      <td>57081.0</td>\n",
       "    </tr>\n",
       "    <tr>\n",
       "      <th>14</th>\n",
       "      <td>4.5</td>\n",
       "      <td>61111.0</td>\n",
       "    </tr>\n",
       "    <tr>\n",
       "      <th>15</th>\n",
       "      <td>4.9</td>\n",
       "      <td>67938.0</td>\n",
       "    </tr>\n",
       "    <tr>\n",
       "      <th>16</th>\n",
       "      <td>5.1</td>\n",
       "      <td>66029.0</td>\n",
       "    </tr>\n",
       "    <tr>\n",
       "      <th>17</th>\n",
       "      <td>5.3</td>\n",
       "      <td>83088.0</td>\n",
       "    </tr>\n",
       "    <tr>\n",
       "      <th>18</th>\n",
       "      <td>5.9</td>\n",
       "      <td>81363.0</td>\n",
       "    </tr>\n",
       "    <tr>\n",
       "      <th>19</th>\n",
       "      <td>6.0</td>\n",
       "      <td>93940.0</td>\n",
       "    </tr>\n",
       "    <tr>\n",
       "      <th>20</th>\n",
       "      <td>6.8</td>\n",
       "      <td>91738.0</td>\n",
       "    </tr>\n",
       "    <tr>\n",
       "      <th>21</th>\n",
       "      <td>7.1</td>\n",
       "      <td>98273.0</td>\n",
       "    </tr>\n",
       "    <tr>\n",
       "      <th>22</th>\n",
       "      <td>7.9</td>\n",
       "      <td>101302.0</td>\n",
       "    </tr>\n",
       "    <tr>\n",
       "      <th>23</th>\n",
       "      <td>8.2</td>\n",
       "      <td>113812.0</td>\n",
       "    </tr>\n",
       "    <tr>\n",
       "      <th>24</th>\n",
       "      <td>8.7</td>\n",
       "      <td>109431.0</td>\n",
       "    </tr>\n",
       "    <tr>\n",
       "      <th>25</th>\n",
       "      <td>9.0</td>\n",
       "      <td>105582.0</td>\n",
       "    </tr>\n",
       "    <tr>\n",
       "      <th>26</th>\n",
       "      <td>9.5</td>\n",
       "      <td>116969.0</td>\n",
       "    </tr>\n",
       "    <tr>\n",
       "      <th>27</th>\n",
       "      <td>9.6</td>\n",
       "      <td>112635.0</td>\n",
       "    </tr>\n",
       "    <tr>\n",
       "      <th>28</th>\n",
       "      <td>10.3</td>\n",
       "      <td>122391.0</td>\n",
       "    </tr>\n",
       "    <tr>\n",
       "      <th>29</th>\n",
       "      <td>10.5</td>\n",
       "      <td>121872.0</td>\n",
       "    </tr>\n",
       "  </tbody>\n",
       "</table>\n",
       "</div>"
      ],
      "text/plain": [
       "    YearsExperience    Salary\n",
       "0               1.1   39343.0\n",
       "1               1.3   46205.0\n",
       "2               1.5   37731.0\n",
       "3               2.0   43525.0\n",
       "4               2.2   39891.0\n",
       "5               2.9   56642.0\n",
       "6               3.0   60150.0\n",
       "7               3.2   54445.0\n",
       "8               3.2   64445.0\n",
       "9               3.7   57189.0\n",
       "10              3.9   63218.0\n",
       "11              4.0   55794.0\n",
       "12              4.0   56957.0\n",
       "13              4.1   57081.0\n",
       "14              4.5   61111.0\n",
       "15              4.9   67938.0\n",
       "16              5.1   66029.0\n",
       "17              5.3   83088.0\n",
       "18              5.9   81363.0\n",
       "19              6.0   93940.0\n",
       "20              6.8   91738.0\n",
       "21              7.1   98273.0\n",
       "22              7.9  101302.0\n",
       "23              8.2  113812.0\n",
       "24              8.7  109431.0\n",
       "25              9.0  105582.0\n",
       "26              9.5  116969.0\n",
       "27              9.6  112635.0\n",
       "28             10.3  122391.0\n",
       "29             10.5  121872.0"
      ]
     },
     "metadata": {},
     "output_type": "display_data"
    }
   ],
   "source": [
    "df = pd.read_csv('Datasets/Salary_Data.csv')\n",
    "display(df)"
   ]
  },
  {
   "cell_type": "markdown",
   "metadata": {},
   "source": [
    "Then, we extract the $x$ (Years of Experience), $y$ (Salary), and $n$ (Number of datapoints) values from the pandas dataframe."
   ]
  },
  {
   "cell_type": "code",
   "execution_count": 54,
   "metadata": {},
   "outputs": [],
   "source": [
    "x = torch.tensor(df.iloc[0:,0].values)\n",
    "y = torch.tensor(df.iloc[0:,1].values)\n",
    "n = df.count(axis=0)[0]"
   ]
  },
  {
   "cell_type": "markdown",
   "metadata": {},
   "source": [
    "##### Using least squares"
   ]
  },
  {
   "cell_type": "markdown",
   "metadata": {},
   "source": [
    "We solve for the weight/slope and bias using the least squares method. We used [The Organic Chemistry Tutor](https://www.youtube.com/watch?v=P8hT5nDai6A) as reference for the solution."
   ]
  },
  {
   "cell_type": "code",
   "execution_count": 55,
   "metadata": {},
   "outputs": [
    {
     "name": "stdout",
     "output_type": "stream",
     "text": [
      "Weight/Slope: 9449.962\n",
      "Bias: 25792.200\n"
     ]
    }
   ],
   "source": [
    "ex = sum(x) # Summation of X\n",
    "ey = sum(y) # Summation of Y\n",
    "exy = sum(x*y) # Summation of X*Y\n",
    "ex2 = sum(x*x) # Summation of X^2\n",
    "\n",
    "w = (n*exy - ex*ey)/(n*ex2 - (ex*ex)) # Slope formula\n",
    "print(f'Weight/Slope: {w:.3f}')\n",
    "b = (ey - w*ex)/n # Bias formula\n",
    "print(f'Bias: {b:.3f}')"
   ]
  },
  {
   "cell_type": "markdown",
   "metadata": {},
   "source": [
    "After getting the needed values, we plot the actual data points with the line of best fit."
   ]
  },
  {
   "cell_type": "code",
   "execution_count": 57,
   "metadata": {},
   "outputs": [
    {
     "data": {
      "image/png": "[encoded data removed]",
      "text/plain": [
       "<Figure size 640x480 with 1 Axes>"
      ]
     },
     "metadata": {},
     "output_type": "display_data"
    }
   ],
   "source": [
    "pyplot.scatter(x, y, label='Actual', color='red')\n",
    "\n",
    "x1 = torch.arange(1, 11, 0.3)\n",
    "y1 = w*x1 + b\n",
    "pyplot.plot(x1, y1,label='Best fit')\n",
    "\n",
    "pyplot.xlabel(\"Years of Experience\")\n",
    "pyplot.ylabel(\"Salary\")\n",
    "pyplot.legend()\n",
    "pyplot.show()"
   ]
  },
  {
   "cell_type": "markdown",
   "metadata": {},
   "source": [
    "Let us check if the obtained weight and bias terms are similar to when we use scikit-learn's LinearRegression() method. As observed, we have obtained the same values from both methods."
   ]
  },
  {
   "cell_type": "code",
   "execution_count": 58,
   "metadata": {},
   "outputs": [
    {
     "name": "stdout",
     "output_type": "stream",
     "text": [
      "Weight/Slope: 9449.962\n",
      "Bias: 25792.200\n"
     ]
    }
   ],
   "source": [
    "from sklearn.linear_model import LinearRegression\n",
    "\n",
    "lr = LinearRegression()\n",
    "lr.fit(x.reshape(-1,1),y)\n",
    "print(f'Weight/Slope: {lr.coef_[0]:.3f}')\n",
    "print(f'Bias: {lr.intercept_:.3f}')"
   ]
  },
  {
   "cell_type": "markdown",
   "metadata": {},
   "source": [
    "##### Using Gradient Descent\n",
    "Aside from using the least squares method, we can also look for the weight/slope and bias values through gradient descent. To have a deeper understanding of the mathematics and the intuition behind this method, the [Linear Regression Lecture](https://www.youtube.com/watch?v=4b4MUYve_U8) by Andrew Ng is a great reference. The next code block defines the functions to be used for the algorithm. $h$ returns the linear equation, $J$ is used to compute for the cost function, $d0$ and $d1$ are used to compute for the partial derivatives for the gradient descent, while $gd$ updates the weight/slope and bias terms."
   ]
  },
  {
   "cell_type": "code",
   "execution_count": 59,
   "metadata": {},
   "outputs": [],
   "source": [
    "class SimpleLinearRegression():\n",
    "    def __init__(self, t0, t1, lr, epochs):\n",
    "        self.t0 = t0\n",
    "        self.t1 = t1\n",
    "        self.lr = lr\n",
    "        self.epochs = epochs\n",
    "        self.costs = []\n",
    "\n",
    "    def h(self, x):\n",
    "        return self.t1*x + self.t0\n",
    "\n",
    "    def J(self, x, y, m):\n",
    "        return sum((self.h(x) - y)**2)/(2*m)\n",
    "\n",
    "    def d0(self, x, y, m):\n",
    "        return sum(self.h(x) - y)/m\n",
    "\n",
    "    def d1(self, x, y, m):\n",
    "        return sum((self.h(x) - y)*x)/m\n",
    "\n",
    "    def gd(self, x, y, m):\n",
    "        temp0 = self.t0 - self.lr*self.d0(x, y, m)\n",
    "        temp1 = self.t1 - self.lr*self.d1(x, y, m)\n",
    "        return temp0, temp1\n",
    "    \n",
    "    def fit(self, x, y, m):\n",
    "        print(f'Number of Epochs: {self.epochs}')\n",
    "        for epoch in range(self.epochs):\n",
    "            cost = self.J(x, y, m)\n",
    "            self.costs.append([cost, epoch])\n",
    "            if epoch % (self.epochs//10) == 0 or epoch == (self.epochs-1):\n",
    "                print(f'Epoch {epoch}:')\n",
    "                print(f'w = {self.t1:.3f}', end = ' | ')\n",
    "                print(f'b = {self.t0:.3f}', end = ' | ')\n",
    "                print(f'Cost = {cost:.3f}')\n",
    "            self.t0, self.t1 = self.gd(x, y, m)\n",
    "\n",
    "    def wb(self):\n",
    "        return self.t0, self.t1"
   ]
  },
  {
   "cell_type": "markdown",
   "metadata": {},
   "source": [
    "We first initialize the weight ($t1$) and bias ($t0$) values and define the number of epochs ($epochs$) and the learning rate ($lr$) by setting up the arguments."
   ]
  },
  {
   "cell_type": "code",
   "execution_count": 60,
   "metadata": {},
   "outputs": [],
   "source": [
    "def get_args():\n",
    "    parser = ArgumentParser(description=\"Simple Linear Regression\")\n",
    "    parser.add_argument(\"--epochs\", type=int, default=2000, help=\"num epochs\")\n",
    "    parser.add_argument(\"--lr\", type=float, default=0.05, help=\"learning rate\")\n",
    "    parser.add_argument(\"--t0\", type=int, default=0., help=\"initial value for t0 (bias)\")\n",
    "    parser.add_argument(\"--t1\", type=float, default=1., help=\"initial value for t1 (weight/slope)\")\n",
    "\n",
    "    args = parser.parse_args(\"\")\n",
    "    return args"
   ]
  },
  {
   "cell_type": "markdown",
   "metadata": {},
   "source": [
    "Finally, we perform the training to find for the weight/slope and bias values.  We log the new values along with the cost at every hundredth epoch and at the last epoch. If we observe the cost value, it gradually decreases as we train our regression model. Moreover, the final weight and bias values are similar to the values obtained from using the least squares method and when using scikit-learn's LinearRegression() function."
   ]
  },
  {
   "cell_type": "code",
   "execution_count": 61,
   "metadata": {},
   "outputs": [
    {
     "name": "stdout",
     "output_type": "stream",
     "text": [
      "Number of Epochs: 2000\n",
      "Epoch 0:\n",
      "w = 1.000 | b = 0.000 | Cost = 3251000254.675\n",
      "Epoch 200:\n",
      "w = 9872.287 | b = 22946.268 | Cost = 16510938.805\n",
      "Epoch 400:\n",
      "w = 9500.326 | b = 25452.812 | Cost = 15647926.241\n",
      "Epoch 600:\n",
      "w = 9455.968 | b = 25751.727 | Cost = 15635652.924\n",
      "Epoch 800:\n",
      "w = 9450.679 | b = 25787.374 | Cost = 15635478.379\n",
      "Epoch 1000:\n",
      "w = 9450.048 | b = 25791.625 | Cost = 15635475.897\n",
      "Epoch 1200:\n",
      "w = 9449.973 | b = 25792.132 | Cost = 15635475.862\n",
      "Epoch 1400:\n",
      "w = 9449.964 | b = 25792.192 | Cost = 15635475.861\n",
      "Epoch 1600:\n",
      "w = 9449.962 | b = 25792.199 | Cost = 15635475.861\n",
      "Epoch 1800:\n",
      "w = 9449.962 | b = 25792.200 | Cost = 15635475.861\n",
      "Epoch 1999:\n",
      "w = 9449.962 | b = 25792.200 | Cost = 15635475.861\n",
      "\n",
      "Weight/Slope: 9449.962\n",
      "Bias: 25792.200\n"
     ]
    }
   ],
   "source": [
    "if __name__ == \"__main__\":\n",
    "    args = get_args()\n",
    "    m = n\n",
    "    \n",
    "    # Initialize the linear regression model\n",
    "    slr = SimpleLinearRegression(args.t0, args.t1, args.lr, args.epochs)\n",
    "    slr.fit(x,y,m)\n",
    "\n",
    "    # Return the weight/slope and bias values from the trained model\n",
    "    t0, t1 = slr.wb()\n",
    "    print(f'\\nWeight/Slope: {t1:.3f}\\nBias: {t0:.3f}')"
   ]
  },
  {
   "cell_type": "markdown",
   "metadata": {},
   "source": [
    "Although we observe similar parameter values for all methods, one possible area of concern is the observed high cost value during gradient descent. It is important to note that since we are performing linear regression on continuous variables, the calculated cost is bound to be high since the predicted value will most likely not match the actual value (while we also square the error between the predicted and actual values). What linear regression does is it determines the line that will best-fit the data, but unlike classification algorithms (e.g. logistic regression), it will likely not provide the most accurate answer especially if the data does not exactly fit in a straight line. However, if we plot the cost over the number of epochs, we see that the cost value continuously decreases and converges at a certain point during training, which is also observed with the parameters as they converge at around the same time as seen in the previous code block's output. "
   ]
  },
  {
   "cell_type": "code",
   "execution_count": 62,
   "metadata": {},
   "outputs": [
    {
     "data": {
      "image/png": "[encoded data removed]",
      "text/plain": [
       "<Figure size 800x500 with 1 Axes>"
      ]
     },
     "metadata": {},
     "output_type": "display_data"
    }
   ],
   "source": [
    "costs = torch.tensor(slr.costs)\n",
    "fig = pyplot.figure(figsize=(8, 5))\n",
    "fig.add_subplot(1, 1, 1)\n",
    "pyplot.plot(costs[:50,1], costs[:50,0])\n",
    "\n",
    "pyplot.xlabel(\"# of Epochs\")\n",
    "pyplot.ylabel(\"Cost\")\n",
    "pyplot.title('Cost Function')\n",
    "pyplot.show()"
   ]
  }
 ],
 "metadata": {
  "kernelspec": {
   "display_name": "Python 3",
   "language": "python",
   "name": "python3"
  },
  "language_info": {
   "codemirror_mode": {
    "name": "ipython",
    "version": 3
   },
   "file_extension": ".py",
   "mimetype": "text/x-python",
   "name": "python",
   "nbconvert_exporter": "python",
   "pygments_lexer": "ipython3",
   "version": "3.10.11"
  },
  "orig_nbformat": 4
 },
 "nbformat": 4,
 "nbformat_minor": 2
}
