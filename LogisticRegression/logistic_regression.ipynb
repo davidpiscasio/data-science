{
 "cells": [
  {
   "cell_type": "markdown",
   "metadata": {},
   "source": [
    "# Logistic Regression\n",
    "In this experiment, we use simple logistic regression through gradient descent to classify varieties of the Iris dataset."
   ]
  },
  {
   "cell_type": "code",
   "execution_count": 103,
   "metadata": {},
   "outputs": [],
   "source": [
    "# Import necessary libraries\n",
    "import pandas as pd\n",
    "import numpy as np\n",
    "import torch\n",
    "import matplotlib.pyplot as plt\n",
    "from sklearn.linear_model import LogisticRegression\n",
    "from sklearn.metrics import accuracy_score\n",
    "from matplotlib import pyplot\n",
    "from argparse import ArgumentParser"
   ]
  },
  {
   "cell_type": "markdown",
   "metadata": {},
   "source": [
    "In order to access the dataset, you may download it from the following [link](https://gist.github.com/netj/8836201) or load it from [sklearn](https://scikit-learn.org/stable/modules/generated/sklearn.datasets.load_iris.html#sklearn.datasets.load_iris)."
   ]
  },
  {
   "cell_type": "code",
   "execution_count": 104,
   "metadata": {},
   "outputs": [
    {
     "data": {
      "text/html": [
       "<div>\n",
       "<style scoped>\n",
       "    .dataframe tbody tr th:only-of-type {\n",
       "        vertical-align: middle;\n",
       "    }\n",
       "\n",
       "    .dataframe tbody tr th {\n",
       "        vertical-align: top;\n",
       "    }\n",
       "\n",
       "    .dataframe thead th {\n",
       "        text-align: right;\n",
       "    }\n",
       "</style>\n",
       "<table border=\"1\" class=\"dataframe\">\n",
       "  <thead>\n",
       "    <tr style=\"text-align: right;\">\n",
       "      <th></th>\n",
       "      <th>sepal.length</th>\n",
       "      <th>sepal.width</th>\n",
       "      <th>petal.length</th>\n",
       "      <th>petal.width</th>\n",
       "      <th>variety</th>\n",
       "    </tr>\n",
       "  </thead>\n",
       "  <tbody>\n",
       "    <tr>\n",
       "      <th>0</th>\n",
       "      <td>5.1</td>\n",
       "      <td>3.5</td>\n",
       "      <td>1.4</td>\n",
       "      <td>0.2</td>\n",
       "      <td>Setosa</td>\n",
       "    </tr>\n",
       "    <tr>\n",
       "      <th>1</th>\n",
       "      <td>4.9</td>\n",
       "      <td>3.0</td>\n",
       "      <td>1.4</td>\n",
       "      <td>0.2</td>\n",
       "      <td>Setosa</td>\n",
       "    </tr>\n",
       "    <tr>\n",
       "      <th>2</th>\n",
       "      <td>4.7</td>\n",
       "      <td>3.2</td>\n",
       "      <td>1.3</td>\n",
       "      <td>0.2</td>\n",
       "      <td>Setosa</td>\n",
       "    </tr>\n",
       "    <tr>\n",
       "      <th>3</th>\n",
       "      <td>4.6</td>\n",
       "      <td>3.1</td>\n",
       "      <td>1.5</td>\n",
       "      <td>0.2</td>\n",
       "      <td>Setosa</td>\n",
       "    </tr>\n",
       "    <tr>\n",
       "      <th>4</th>\n",
       "      <td>5.0</td>\n",
       "      <td>3.6</td>\n",
       "      <td>1.4</td>\n",
       "      <td>0.2</td>\n",
       "      <td>Setosa</td>\n",
       "    </tr>\n",
       "    <tr>\n",
       "      <th>...</th>\n",
       "      <td>...</td>\n",
       "      <td>...</td>\n",
       "      <td>...</td>\n",
       "      <td>...</td>\n",
       "      <td>...</td>\n",
       "    </tr>\n",
       "    <tr>\n",
       "      <th>145</th>\n",
       "      <td>6.7</td>\n",
       "      <td>3.0</td>\n",
       "      <td>5.2</td>\n",
       "      <td>2.3</td>\n",
       "      <td>Virginica</td>\n",
       "    </tr>\n",
       "    <tr>\n",
       "      <th>146</th>\n",
       "      <td>6.3</td>\n",
       "      <td>2.5</td>\n",
       "      <td>5.0</td>\n",
       "      <td>1.9</td>\n",
       "      <td>Virginica</td>\n",
       "    </tr>\n",
       "    <tr>\n",
       "      <th>147</th>\n",
       "      <td>6.5</td>\n",
       "      <td>3.0</td>\n",
       "      <td>5.2</td>\n",
       "      <td>2.0</td>\n",
       "      <td>Virginica</td>\n",
       "    </tr>\n",
       "    <tr>\n",
       "      <th>148</th>\n",
       "      <td>6.2</td>\n",
       "      <td>3.4</td>\n",
       "      <td>5.4</td>\n",
       "      <td>2.3</td>\n",
       "      <td>Virginica</td>\n",
       "    </tr>\n",
       "    <tr>\n",
       "      <th>149</th>\n",
       "      <td>5.9</td>\n",
       "      <td>3.0</td>\n",
       "      <td>5.1</td>\n",
       "      <td>1.8</td>\n",
       "      <td>Virginica</td>\n",
       "    </tr>\n",
       "  </tbody>\n",
       "</table>\n",
       "<p>150 rows × 5 columns</p>\n",
       "</div>"
      ],
      "text/plain": [
       "     sepal.length  sepal.width  petal.length  petal.width    variety\n",
       "0             5.1          3.5           1.4          0.2     Setosa\n",
       "1             4.9          3.0           1.4          0.2     Setosa\n",
       "2             4.7          3.2           1.3          0.2     Setosa\n",
       "3             4.6          3.1           1.5          0.2     Setosa\n",
       "4             5.0          3.6           1.4          0.2     Setosa\n",
       "..            ...          ...           ...          ...        ...\n",
       "145           6.7          3.0           5.2          2.3  Virginica\n",
       "146           6.3          2.5           5.0          1.9  Virginica\n",
       "147           6.5          3.0           5.2          2.0  Virginica\n",
       "148           6.2          3.4           5.4          2.3  Virginica\n",
       "149           5.9          3.0           5.1          1.8  Virginica\n",
       "\n",
       "[150 rows x 5 columns]"
      ]
     },
     "metadata": {},
     "output_type": "display_data"
    }
   ],
   "source": [
    "df = pd.read_csv(\"Datasets/iris.csv\")\n",
    "display(df)"
   ]
  },
  {
   "cell_type": "markdown",
   "metadata": {},
   "source": [
    "We will implement binary classification for this experiment. However, since the Iris dataset originally has 3 classes (Setosa, Versicolor, and Virginica), we will remove all Virginia data in our dataset. Moreover, we will set the value of Setosa to $0$, while Versicolor is set to $1$."
   ]
  },
  {
   "cell_type": "code",
   "execution_count": 105,
   "metadata": {},
   "outputs": [
    {
     "data": {
      "text/html": [
       "<div>\n",
       "<style scoped>\n",
       "    .dataframe tbody tr th:only-of-type {\n",
       "        vertical-align: middle;\n",
       "    }\n",
       "\n",
       "    .dataframe tbody tr th {\n",
       "        vertical-align: top;\n",
       "    }\n",
       "\n",
       "    .dataframe thead th {\n",
       "        text-align: right;\n",
       "    }\n",
       "</style>\n",
       "<table border=\"1\" class=\"dataframe\">\n",
       "  <thead>\n",
       "    <tr style=\"text-align: right;\">\n",
       "      <th></th>\n",
       "      <th>sepal.length</th>\n",
       "      <th>sepal.width</th>\n",
       "      <th>petal.length</th>\n",
       "      <th>petal.width</th>\n",
       "      <th>variety</th>\n",
       "    </tr>\n",
       "  </thead>\n",
       "  <tbody>\n",
       "    <tr>\n",
       "      <th>0</th>\n",
       "      <td>5.1</td>\n",
       "      <td>3.5</td>\n",
       "      <td>1.4</td>\n",
       "      <td>0.2</td>\n",
       "      <td>0.0</td>\n",
       "    </tr>\n",
       "    <tr>\n",
       "      <th>1</th>\n",
       "      <td>4.9</td>\n",
       "      <td>3.0</td>\n",
       "      <td>1.4</td>\n",
       "      <td>0.2</td>\n",
       "      <td>0.0</td>\n",
       "    </tr>\n",
       "    <tr>\n",
       "      <th>2</th>\n",
       "      <td>4.7</td>\n",
       "      <td>3.2</td>\n",
       "      <td>1.3</td>\n",
       "      <td>0.2</td>\n",
       "      <td>0.0</td>\n",
       "    </tr>\n",
       "    <tr>\n",
       "      <th>3</th>\n",
       "      <td>4.6</td>\n",
       "      <td>3.1</td>\n",
       "      <td>1.5</td>\n",
       "      <td>0.2</td>\n",
       "      <td>0.0</td>\n",
       "    </tr>\n",
       "    <tr>\n",
       "      <th>4</th>\n",
       "      <td>5.0</td>\n",
       "      <td>3.6</td>\n",
       "      <td>1.4</td>\n",
       "      <td>0.2</td>\n",
       "      <td>0.0</td>\n",
       "    </tr>\n",
       "    <tr>\n",
       "      <th>...</th>\n",
       "      <td>...</td>\n",
       "      <td>...</td>\n",
       "      <td>...</td>\n",
       "      <td>...</td>\n",
       "      <td>...</td>\n",
       "    </tr>\n",
       "    <tr>\n",
       "      <th>95</th>\n",
       "      <td>5.7</td>\n",
       "      <td>3.0</td>\n",
       "      <td>4.2</td>\n",
       "      <td>1.2</td>\n",
       "      <td>1.0</td>\n",
       "    </tr>\n",
       "    <tr>\n",
       "      <th>96</th>\n",
       "      <td>5.7</td>\n",
       "      <td>2.9</td>\n",
       "      <td>4.2</td>\n",
       "      <td>1.3</td>\n",
       "      <td>1.0</td>\n",
       "    </tr>\n",
       "    <tr>\n",
       "      <th>97</th>\n",
       "      <td>6.2</td>\n",
       "      <td>2.9</td>\n",
       "      <td>4.3</td>\n",
       "      <td>1.3</td>\n",
       "      <td>1.0</td>\n",
       "    </tr>\n",
       "    <tr>\n",
       "      <th>98</th>\n",
       "      <td>5.1</td>\n",
       "      <td>2.5</td>\n",
       "      <td>3.0</td>\n",
       "      <td>1.1</td>\n",
       "      <td>1.0</td>\n",
       "    </tr>\n",
       "    <tr>\n",
       "      <th>99</th>\n",
       "      <td>5.7</td>\n",
       "      <td>2.8</td>\n",
       "      <td>4.1</td>\n",
       "      <td>1.3</td>\n",
       "      <td>1.0</td>\n",
       "    </tr>\n",
       "  </tbody>\n",
       "</table>\n",
       "<p>100 rows × 5 columns</p>\n",
       "</div>"
      ],
      "text/plain": [
       "    sepal.length  sepal.width  petal.length  petal.width variety\n",
       "0            5.1          3.5           1.4          0.2     0.0\n",
       "1            4.9          3.0           1.4          0.2     0.0\n",
       "2            4.7          3.2           1.3          0.2     0.0\n",
       "3            4.6          3.1           1.5          0.2     0.0\n",
       "4            5.0          3.6           1.4          0.2     0.0\n",
       "..           ...          ...           ...          ...     ...\n",
       "95           5.7          3.0           4.2          1.2     1.0\n",
       "96           5.7          2.9           4.2          1.3     1.0\n",
       "97           6.2          2.9           4.3          1.3     1.0\n",
       "98           5.1          2.5           3.0          1.1     1.0\n",
       "99           5.7          2.8           4.1          1.3     1.0\n",
       "\n",
       "[100 rows x 5 columns]"
      ]
     },
     "metadata": {},
     "output_type": "display_data"
    }
   ],
   "source": [
    "df = df.drop(range(100,150)) # Remove Virginica from dataset\n",
    "\n",
    "df.loc[df[\"variety\"] == \"Setosa\", \"variety\"] = 0. # Change Setosa to class 0\n",
    "df.loc[df[\"variety\"] == \"Versicolor\", \"variety\"] = 1. # Change Versicolor to class 1\n",
    "display(df)"
   ]
  },
  {
   "cell_type": "markdown",
   "metadata": {},
   "source": [
    "Now, we separate the $x$ (Features), $y$ (Variety), and $m$ (Number of datapoints) values from the pandas dataframe."
   ]
  },
  {
   "cell_type": "code",
   "execution_count": 106,
   "metadata": {},
   "outputs": [],
   "source": [
    "x = torch.tensor(df.iloc[0:,:4].values, dtype=torch.float32)\n",
    "y = torch.tensor(df.iloc[0:,4].values.astype(np.float32), dtype=torch.float32)\n",
    "m = df.count(axis=0)[0]"
   ]
  },
  {
   "cell_type": "markdown",
   "metadata": {},
   "source": [
    "In order to further simplify the regression model, we will handpick which feature we will use as our $x$. By displaying the scatter plot between each features as $x$ and the variety as $y$, we have observed that the features 'Petal length' and 'Petal width' may fit best for our logistic regression model."
   ]
  },
  {
   "cell_type": "code",
   "execution_count": 107,
   "metadata": {},
   "outputs": [
    {
     "data": {
      "image/png": "[encoded data removed]",
      "text/plain": [
       "<Figure size 1000x800 with 4 Axes>"
      ]
     },
     "metadata": {},
     "output_type": "display_data"
    }
   ],
   "source": [
    "fig = plt.figure(figsize=(10, 8))\n",
    "rows = 2\n",
    "columns = 2\n",
    "fig.add_subplot(rows, columns, 1)\n",
    "plt.scatter(x[:,0], y, color='red')\n",
    "plt.title('Sepal length')\n",
    "\n",
    "fig.add_subplot(rows, columns, 2)\n",
    "plt.scatter(x[:,1], y, color='green')\n",
    "plt.title('Sepal width')\n",
    "\n",
    "fig.add_subplot(rows, columns, 3)\n",
    "plt.scatter(x[:,2], y, color='blue')\n",
    "plt.title('Petal length')\n",
    "\n",
    "fig.add_subplot(rows, columns, 4)\n",
    "plt.scatter(x[:,3], y, color='yellow')\n",
    "plt.title('Petal width')\n",
    "\n",
    "plt.show()"
   ]
  },
  {
   "cell_type": "markdown",
   "metadata": {},
   "source": [
    "For this experiment, we choose the feature 'Petal length' as our input $x$ and drop the other features in our dataset. We split both $x$ and $y$ into train (90%) and test (10%) sets."
   ]
  },
  {
   "cell_type": "code",
   "execution_count": 108,
   "metadata": {},
   "outputs": [
    {
     "data": {
      "text/html": [
       "<div>\n",
       "<style scoped>\n",
       "    .dataframe tbody tr th:only-of-type {\n",
       "        vertical-align: middle;\n",
       "    }\n",
       "\n",
       "    .dataframe tbody tr th {\n",
       "        vertical-align: top;\n",
       "    }\n",
       "\n",
       "    .dataframe thead th {\n",
       "        text-align: right;\n",
       "    }\n",
       "</style>\n",
       "<table border=\"1\" class=\"dataframe\">\n",
       "  <thead>\n",
       "    <tr style=\"text-align: right;\">\n",
       "      <th></th>\n",
       "      <th>petal.length</th>\n",
       "      <th>variety</th>\n",
       "    </tr>\n",
       "  </thead>\n",
       "  <tbody>\n",
       "    <tr>\n",
       "      <th>0</th>\n",
       "      <td>1.4</td>\n",
       "      <td>0.0</td>\n",
       "    </tr>\n",
       "    <tr>\n",
       "      <th>1</th>\n",
       "      <td>1.4</td>\n",
       "      <td>0.0</td>\n",
       "    </tr>\n",
       "    <tr>\n",
       "      <th>2</th>\n",
       "      <td>1.3</td>\n",
       "      <td>0.0</td>\n",
       "    </tr>\n",
       "    <tr>\n",
       "      <th>3</th>\n",
       "      <td>1.5</td>\n",
       "      <td>0.0</td>\n",
       "    </tr>\n",
       "    <tr>\n",
       "      <th>4</th>\n",
       "      <td>1.4</td>\n",
       "      <td>0.0</td>\n",
       "    </tr>\n",
       "    <tr>\n",
       "      <th>...</th>\n",
       "      <td>...</td>\n",
       "      <td>...</td>\n",
       "    </tr>\n",
       "    <tr>\n",
       "      <th>95</th>\n",
       "      <td>4.2</td>\n",
       "      <td>1.0</td>\n",
       "    </tr>\n",
       "    <tr>\n",
       "      <th>96</th>\n",
       "      <td>4.2</td>\n",
       "      <td>1.0</td>\n",
       "    </tr>\n",
       "    <tr>\n",
       "      <th>97</th>\n",
       "      <td>4.3</td>\n",
       "      <td>1.0</td>\n",
       "    </tr>\n",
       "    <tr>\n",
       "      <th>98</th>\n",
       "      <td>3.0</td>\n",
       "      <td>1.0</td>\n",
       "    </tr>\n",
       "    <tr>\n",
       "      <th>99</th>\n",
       "      <td>4.1</td>\n",
       "      <td>1.0</td>\n",
       "    </tr>\n",
       "  </tbody>\n",
       "</table>\n",
       "<p>100 rows × 2 columns</p>\n",
       "</div>"
      ],
      "text/plain": [
       "    petal.length variety\n",
       "0            1.4     0.0\n",
       "1            1.4     0.0\n",
       "2            1.3     0.0\n",
       "3            1.5     0.0\n",
       "4            1.4     0.0\n",
       "..           ...     ...\n",
       "95           4.2     1.0\n",
       "96           4.2     1.0\n",
       "97           4.3     1.0\n",
       "98           3.0     1.0\n",
       "99           4.1     1.0\n",
       "\n",
       "[100 rows x 2 columns]"
      ]
     },
     "metadata": {},
     "output_type": "display_data"
    }
   ],
   "source": [
    "df = df.drop(columns=['sepal.length', 'sepal.width', 'petal.width'])\n",
    "\n",
    "x = torch.tensor(df.iloc[0:,0].values, dtype=torch.float32)\n",
    "x_train = torch.cat((x[:45],x[50:95]))\n",
    "x_test = torch.cat((x[45:50],x[95:]))\n",
    "\n",
    "y = torch.tensor(df.iloc[0:,1].values.astype(np.float32), dtype=torch.float32)\n",
    "y_train = torch.cat((y[:45],y[50:95]))\n",
    "y_test = torch.cat((y[45:50],y[95:]))\n",
    "\n",
    "m = df.count(axis=0)[0]\n",
    "display(df)"
   ]
  },
  {
   "cell_type": "markdown",
   "metadata": {},
   "source": [
    "We now define our logistic regression model. The formulas used for the functions is from [Baeldung on CS](https://www.baeldung.com/cs/gradient-descent-logistic-regression). $z$ returns the linear equation, $h$ returns the $h(x)$ of the logistic regression model, $J$ is used to compute for the cost function, $d0$ and $d1$ are used to compute for the partial derivatives for the gradient descent, while $gd$ updates the weight/slope and bias terms."
   ]
  },
  {
   "cell_type": "code",
   "execution_count": 109,
   "metadata": {},
   "outputs": [],
   "source": [
    "class LogRegression():\n",
    "    def __init__(self, b, w, lr, epochs):\n",
    "        self.b = b\n",
    "        self.w = w\n",
    "        self.wsize = list(self.w.shape)[0]\n",
    "        self.lr = lr\n",
    "        self.epochs = epochs\n",
    "\n",
    "    def z(self, x):\n",
    "        return self.w*x + self.b if self.wsize == 1 else self.w @ x.T + self.b\n",
    "\n",
    "    def h(self, x):\n",
    "        return 1/(1+torch.exp(-self.z(x)))\n",
    "    \n",
    "    def J(self, x, y, m):\n",
    "        return torch.sum((y*torch.log(self.h(x))) + ((1-y)*torch.log(1-self.h(x))))/-m\n",
    "\n",
    "    def d0(self, x, y, m):\n",
    "        return torch.sum(self.h(x) - y)/m\n",
    "\n",
    "    def d1(self, x, y, m, i):\n",
    "        return torch.sum((self.h(x) - y)*x)/m if self.wsize == 1 else torch.dot(self.h(x) - y, x[:,i])/m \n",
    "\n",
    "    def gd(self, x, y, m):\n",
    "        tempw = torch.zeros(self.wsize, device='cuda')\n",
    "        tempb = self.b - self.lr*self.d0(x, y, m)\n",
    "        for i in range(self.wsize):\n",
    "            tempw[i] = self.w[i] - self.lr*self.d1(x, y, m, i)\n",
    "        return tempb, tempw\n",
    "    \n",
    "    def fit(self, x, y, m):\n",
    "        print(f'Number of Epochs: {self.epochs}')\n",
    "        for epoch in range(self.epochs):\n",
    "            cost = self.J(x, y, m)\n",
    "            if epoch % (self.epochs//10) == 0 or epoch == (self.epochs-1):\n",
    "                print(f'Epoch {epoch}:')\n",
    "                print(f'w = {self.w.item()}', end = ' | ')\n",
    "                print(f'b = {self.b}', end = ' | ')\n",
    "                print(f'Cost = {cost:.3f}')\n",
    "            self.b, self.w = self.gd(x, y, m)\n",
    "\n",
    "    def predict(self, x):\n",
    "        return (self.h(x)>0.5).float()\n",
    "    \n",
    "    def accuracy(self, x, y, show=False):\n",
    "        if show == True:\n",
    "            for i, val in enumerate(x):\n",
    "                print(f'Prediction: {self.predict(val).item()} | Actual: {y[i]}')\n",
    "        return (torch.sum((self.predict(x)==y).float())/list(y.shape)[0]) * 100.\n",
    "\n",
    "    def wb(self):\n",
    "        return self.b, self.w"
   ]
  },
  {
   "cell_type": "markdown",
   "metadata": {},
   "source": [
    "We now setup our arguments and train the model. Afterwards, we fetch the weight and bias terms and print them."
   ]
  },
  {
   "cell_type": "code",
   "execution_count": 110,
   "metadata": {},
   "outputs": [
    {
     "name": "stdout",
     "output_type": "stream",
     "text": [
      "Number of Epochs: 1000\n",
      "Epoch 0:\n",
      "w = 1.0 | b = 0.0 | Cost = 0.760\n",
      "Epoch 100:\n",
      "w = 2.1472244262695312 | b = -5.556910037994385 | Cost = 0.059\n",
      "Epoch 200:\n",
      "w = 2.710970163345337 | b = -7.08716344833374 | Cost = 0.032\n",
      "Epoch 300:\n",
      "w = 3.0560641288757324 | b = -8.007514953613281 | Cost = 0.022\n",
      "Epoch 400:\n",
      "w = 3.306969165802002 | b = -8.670572280883789 | Cost = 0.017\n",
      "Epoch 500:\n",
      "w = 3.5049192905426025 | b = -9.19064998626709 | Cost = 0.014\n",
      "Epoch 600:\n",
      "w = 3.668787956237793 | b = -9.619422912597656 | Cost = 0.012\n",
      "Epoch 700:\n",
      "w = 3.8088204860687256 | b = -9.98470401763916 | Cost = 0.010\n",
      "Epoch 800:\n",
      "w = 3.93121600151062 | b = -10.303216934204102 | Cost = 0.009\n",
      "Epoch 900:\n",
      "w = 4.04001522064209 | b = -10.58580207824707 | Cost = 0.008\n",
      "Epoch 999:\n",
      "w = 4.137072563171387 | b = -10.837494850158691 | Cost = 0.007\n",
      "\n",
      "Weight/Slope: 4.138006210327148\n",
      "Bias: -10.839913368225098\n"
     ]
    }
   ],
   "source": [
    "def get_args():\n",
    "    parser = ArgumentParser(description=\"Logistic Regression\")\n",
    "    parser.add_argument(\"--epochs\", type=int, default=1000, help=\"num epochs\")\n",
    "    parser.add_argument(\"--lr\", type=float, default=1., help=\"learning rate\")\n",
    "\n",
    "    args = parser.parse_args(\"\")\n",
    "    return args\n",
    "\n",
    "if __name__ == \"__main__\":\n",
    "    args = get_args()\n",
    "    bw = torch.tensor([0.,1.], device='cuda')\n",
    "    \n",
    "    # Initialize the logistic regression model\n",
    "    lr = LogRegression(bw[0], bw[1:], args.lr, args.epochs)\n",
    "    lr.fit(x_train.to('cuda'),y_train.to('cuda'),m)\n",
    "\n",
    "    # Return the weight/slope and bias values from the trained model\n",
    "    b, w = lr.wb()\n",
    "    print(f'\\nWeight/Slope: {w.item()}\\nBias: {b}')"
   ]
  },
  {
   "cell_type": "markdown",
   "metadata": {},
   "source": [
    "To check if our model properly classifies the data, we plot the sigmoid function over the actual data. Upon observation, we see that the model properly estimates our data."
   ]
  },
  {
   "cell_type": "code",
   "execution_count": 111,
   "metadata": {},
   "outputs": [
    {
     "data": {
      "image/png": "[encoded data removed]",
      "text/plain": [
       "<Figure size 640x480 with 1 Axes>"
      ]
     },
     "metadata": {},
     "output_type": "display_data"
    }
   ],
   "source": [
    "plt.scatter(x, y, label='Actual', color='blue')\n",
    "\n",
    "x1 = torch.arange(1, 5.2, 0.052)\n",
    "y1 = lr.h(x1.to('cuda'))\n",
    "pyplot.plot(x1.to('cpu'), y1.to('cpu'), label='Best fit', color='red')\n",
    "\n",
    "pyplot.xlabel(\"Petal length\")\n",
    "pyplot.ylabel(\"Variety\")\n",
    "pyplot.legend()\n",
    "pyplot.show()"
   ]
  },
  {
   "cell_type": "markdown",
   "metadata": {},
   "source": [
    "Moreover, if we check our model through the test data, we achieve $100\\%$ accuracy."
   ]
  },
  {
   "cell_type": "code",
   "execution_count": 112,
   "metadata": {},
   "outputs": [
    {
     "name": "stdout",
     "output_type": "stream",
     "text": [
      "Prediction: 0.0 | Actual: 0.0\n",
      "Prediction: 0.0 | Actual: 0.0\n",
      "Prediction: 0.0 | Actual: 0.0\n",
      "Prediction: 0.0 | Actual: 0.0\n",
      "Prediction: 0.0 | Actual: 0.0\n",
      "Prediction: 1.0 | Actual: 1.0\n",
      "Prediction: 1.0 | Actual: 1.0\n",
      "Prediction: 1.0 | Actual: 1.0\n",
      "Prediction: 1.0 | Actual: 1.0\n",
      "Prediction: 1.0 | Actual: 1.0\n",
      "Test accuracy: 100.0%\n"
     ]
    }
   ],
   "source": [
    "acc = lr.accuracy(x_test.to('cuda'), y_test.to('cuda'), show=True)\n",
    "print(f'Test accuracy: {acc.item()}%')"
   ]
  },
  {
   "cell_type": "markdown",
   "metadata": {},
   "source": [
    "As a form of cross-checking, we also feed our data into scikit-learn's LogisticRegression() module. If we print the weight and bias terms, we observe slightly different different values."
   ]
  },
  {
   "cell_type": "code",
   "execution_count": 113,
   "metadata": {},
   "outputs": [
    {
     "name": "stdout",
     "output_type": "stream",
     "text": [
      "Weight/Slope: 2.8095687752044607\n",
      "Bias: -7.753488397179931\n"
     ]
    }
   ],
   "source": [
    "lr1 = LogisticRegression()\n",
    "lr1.fit(x_train.reshape(-1,1),y_train)\n",
    "print(f'Weight/Slope: {lr1.coef_[0][0]}')\n",
    "print(f'Bias: {lr1.intercept_[0]}')"
   ]
  },
  {
   "cell_type": "markdown",
   "metadata": {},
   "source": [
    "By plotting the sigmoid function with the actual values, we see a slight difference on the plot but it still properly estimates the data. We believe that this might be because a different algorithm is used by scikit-learn to come up with the weight and bias values."
   ]
  },
  {
   "cell_type": "code",
   "execution_count": 114,
   "metadata": {},
   "outputs": [
    {
     "data": {
      "image/png": "[encoded data removed]",
      "text/plain": [
       "<Figure size 640x480 with 1 Axes>"
      ]
     },
     "metadata": {},
     "output_type": "display_data"
    }
   ],
   "source": [
    "plt.scatter(x, y, label='Actual', color='blue')\n",
    "\n",
    "y2 = 1/(1+torch.exp(-(2.89999784*x1 + -7.88572444)))\n",
    "pyplot.plot(x1.to('cpu'), y2.to('cpu'), label='Best fit', color='red')\n",
    "\n",
    "pyplot.xlabel(\"Petal length\")\n",
    "pyplot.ylabel(\"Variety\")\n",
    "pyplot.legend()\n",
    "pyplot.show()"
   ]
  },
  {
   "cell_type": "markdown",
   "metadata": {},
   "source": [
    "We see that scikit-learn's LogisticRegression() also achieves $100\\%$ accuracy on our test data. We may observe differences between the performance of the two models if we try it on more data, which can reveal certain issues such as overfitting."
   ]
  },
  {
   "cell_type": "code",
   "execution_count": 115,
   "metadata": {},
   "outputs": [
    {
     "name": "stdout",
     "output_type": "stream",
     "text": [
      "Test accuracy 100.0%\n"
     ]
    }
   ],
   "source": [
    "y_pred = lr1.predict(x_test.reshape(-1,1))\n",
    " \n",
    "acc1 = accuracy_score(y_test, y_pred)\n",
    "print(f'Test accuracy {acc1*100}%')"
   ]
  }
 ],
 "metadata": {
  "kernelspec": {
   "display_name": "Python 3",
   "language": "python",
   "name": "python3"
  },
  "language_info": {
   "codemirror_mode": {
    "name": "ipython",
    "version": 3
   },
   "file_extension": ".py",
   "mimetype": "text/x-python",
   "name": "python",
   "nbconvert_exporter": "python",
   "pygments_lexer": "ipython3",
   "version": "3.10.11"
  },
  "orig_nbformat": 4
 },
 "nbformat": 4,
 "nbformat_minor": 2
}
